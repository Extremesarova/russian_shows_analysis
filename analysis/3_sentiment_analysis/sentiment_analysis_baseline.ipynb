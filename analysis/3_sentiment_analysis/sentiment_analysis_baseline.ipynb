{
 "cells": [
  {
   "cell_type": "markdown",
   "id": "c3c851a7-3419-49b4-b115-1909dd0e1adf",
   "metadata": {},
   "source": [
    "# Sentiment analysis of show reviews"
   ]
  },
  {
   "cell_type": "markdown",
   "id": "d8b31dfd-72fb-4301-a465-51d30d8761f4",
   "metadata": {},
   "source": [
    "The goal of this analysis is to ...\n",
    "* Get hands-on experience with packages and tools for analysing Russian language (natasha, nltk, spacy, rnnmorph, pymorphy2)\n",
    "* Investigate available pre-trained models for Russian language (wor2vec, fasttext, navec, models from sber, deeppavlov and others)\n",
    "* Learn how to finetune BERT-like models"
   ]
  },
  {
   "cell_type": "markdown",
   "id": "d1d3bab6-76e5-4c1a-981e-4f1006c86224",
   "metadata": {},
   "source": [
    "## Imports"
   ]
  },
  {
   "cell_type": "code",
   "execution_count": 19,
   "id": "65f9128d-93fe-4eb8-a623-291490a5c62b",
   "metadata": {},
   "outputs": [],
   "source": [
    "import os\n",
    "import sys\n",
    "import warnings\n",
    "\n",
    "import dateparser\n",
    "import numpy as np\n",
    "import pandas as pd\n",
    "from matplotlib import pyplot as plt\n",
    "from sklearn.feature_extraction.text import TfidfVectorizer\n",
    "from sklearn.linear_model import LogisticRegression\n",
    "from sklearn.model_selection import train_test_split\n",
    "from sklearn.preprocessing import LabelEncoder\n",
    "from tqdm import tqdm\n",
    "\n",
    "tqdm.pandas()\n",
    "\n",
    "%matplotlib inline\n",
    "%config InlineBackend.figure_format='retina'"
   ]
  },
  {
   "cell_type": "code",
   "execution_count": 4,
   "id": "59e6c20d-f2ed-45eb-9918-bdb8f3bac462",
   "metadata": {},
   "outputs": [],
   "source": [
    "SEED = 42"
   ]
  },
  {
   "cell_type": "markdown",
   "id": "4fc6afa4-81c2-4116-95b4-1c1ede52c871",
   "metadata": {},
   "source": [
    "## Data"
   ]
  },
  {
   "cell_type": "markdown",
   "id": "259da1b8-158b-4a7c-ae33-4c1b377b8da2",
   "metadata": {},
   "source": [
    "### Loading data"
   ]
  },
  {
   "cell_type": "code",
   "execution_count": 2,
   "id": "b68f1853-797e-45d9-afbe-23cd1ab035c6",
   "metadata": {},
   "outputs": [
    {
     "data": {
      "text/plain": [
       "(206737, 9)"
      ]
     },
     "execution_count": 2,
     "metadata": {},
     "output_type": "execute_result"
    }
   ],
   "source": [
    "reviews_df = pd.read_parquet(\"../../data/mt_reviews.parquet\")\n",
    "reviews_df.shape"
   ]
  },
  {
   "cell_type": "markdown",
   "id": "4858a96f-3869-41da-a20f-c90870449120",
   "metadata": {},
   "source": [
    "### Dataset overview"
   ]
  },
  {
   "cell_type": "code",
   "execution_count": 5,
   "id": "093408c0-d054-4f3e-bd64-1c743318a05c",
   "metadata": {},
   "outputs": [
    {
     "data": {
      "text/html": [
       "<div>\n",
       "<style scoped>\n",
       "    .dataframe tbody tr th:only-of-type {\n",
       "        vertical-align: middle;\n",
       "    }\n",
       "\n",
       "    .dataframe tbody tr th {\n",
       "        vertical-align: top;\n",
       "    }\n",
       "\n",
       "    .dataframe thead th {\n",
       "        text-align: right;\n",
       "    }\n",
       "</style>\n",
       "<table border=\"1\" class=\"dataframe\">\n",
       "  <thead>\n",
       "    <tr style=\"text-align: right;\">\n",
       "      <th></th>\n",
       "      <th>show_id</th>\n",
       "      <th>user_id</th>\n",
       "      <th>type</th>\n",
       "      <th>datetime</th>\n",
       "      <th>sentiment</th>\n",
       "      <th>subtitle</th>\n",
       "      <th>review_body</th>\n",
       "      <th>usefulness</th>\n",
       "      <th>scores</th>\n",
       "    </tr>\n",
       "  </thead>\n",
       "  <tbody>\n",
       "    <tr>\n",
       "      <th>196236</th>\n",
       "      <td>257386</td>\n",
       "      <td>28525</td>\n",
       "      <td>movie</td>\n",
       "      <td>2010-08-27 11:23:00</td>\n",
       "      <td>good</td>\n",
       "      <td>Вечный город.</td>\n",
       "      <td>К истории Древнего мира у меня отношение особо...</td>\n",
       "      <td>40</td>\n",
       "      <td></td>\n",
       "    </tr>\n",
       "    <tr>\n",
       "      <th>128582</th>\n",
       "      <td>688832</td>\n",
       "      <td>44953</td>\n",
       "      <td>movie</td>\n",
       "      <td>2015-02-20 23:19:00</td>\n",
       "      <td>bad</td>\n",
       "      <td>50 оттенков разочарования</td>\n",
       "      <td>Говорю сразу, книги читала все, да и по нескол...</td>\n",
       "      <td>5</td>\n",
       "      <td>3 из 10</td>\n",
       "    </tr>\n",
       "    <tr>\n",
       "      <th>159673</th>\n",
       "      <td>349</td>\n",
       "      <td>33910</td>\n",
       "      <td>movie</td>\n",
       "      <td>2018-04-15 21:04:00</td>\n",
       "      <td>good</td>\n",
       "      <td>Господи, спасибо, что не пронесло мимо</td>\n",
       "      <td>Есть два типа фильмов, мой друг. Одни ты прост...</td>\n",
       "      <td>4</td>\n",
       "      <td></td>\n",
       "    </tr>\n",
       "    <tr>\n",
       "      <th>109244</th>\n",
       "      <td>686898</td>\n",
       "      <td>44065</td>\n",
       "      <td>movie</td>\n",
       "      <td>2019-11-09 11:58:00</td>\n",
       "      <td>neutral</td>\n",
       "      <td>Что же стало с клоуном?</td>\n",
       "      <td>Итак, в первую очередь хотелось бы отметить то...</td>\n",
       "      <td>2</td>\n",
       "      <td>6,5 из 10</td>\n",
       "    </tr>\n",
       "    <tr>\n",
       "      <th>92610</th>\n",
       "      <td>61455</td>\n",
       "      <td>66782</td>\n",
       "      <td>movie</td>\n",
       "      <td>2017-11-27 18:52:00</td>\n",
       "      <td>good</td>\n",
       "      <td>Они отказываются подчиняться</td>\n",
       "      <td>Автора этого замечательного фильма, Джосса Уэд...</td>\n",
       "      <td>5</td>\n",
       "      <td></td>\n",
       "    </tr>\n",
       "    <tr>\n",
       "      <th>43727</th>\n",
       "      <td>491724</td>\n",
       "      <td>44563</td>\n",
       "      <td>movie</td>\n",
       "      <td>2012-01-28 23:18:00</td>\n",
       "      <td>good</td>\n",
       "      <td>Жестокая правда</td>\n",
       "      <td>Финчер снова нас поразил, он всегда нас поража...</td>\n",
       "      <td>7</td>\n",
       "      <td>10 из 10</td>\n",
       "    </tr>\n",
       "    <tr>\n",
       "      <th>50195</th>\n",
       "      <td>102130</td>\n",
       "      <td>67145</td>\n",
       "      <td>movie</td>\n",
       "      <td>2009-08-17 11:56:00</td>\n",
       "      <td>good</td>\n",
       "      <td>Преодолеть 2 года жизни, что встретиться</td>\n",
       "      <td>Слышал о фильме много, и в основном положитель...</td>\n",
       "      <td>11</td>\n",
       "      <td>10 из 10</td>\n",
       "    </tr>\n",
       "    <tr>\n",
       "      <th>43651</th>\n",
       "      <td>491724</td>\n",
       "      <td>66283</td>\n",
       "      <td>movie</td>\n",
       "      <td>2012-02-19 15:33:00</td>\n",
       "      <td>bad</td>\n",
       "      <td>Мужчины, которые ненавидели женщин.</td>\n",
       "      <td>Я попробовала рассматривать этот фильм с двух ...</td>\n",
       "      <td>3</td>\n",
       "      <td>6 из 10</td>\n",
       "    </tr>\n",
       "    <tr>\n",
       "      <th>48775</th>\n",
       "      <td>7226</td>\n",
       "      <td>7905</td>\n",
       "      <td>movie</td>\n",
       "      <td>2014-02-20 03:44:00</td>\n",
       "      <td>good</td>\n",
       "      <td>None</td>\n",
       "      <td>«Догвилль» - это один из тех редких фильмов, п...</td>\n",
       "      <td>3</td>\n",
       "      <td>10 из 10</td>\n",
       "    </tr>\n",
       "    <tr>\n",
       "      <th>75262</th>\n",
       "      <td>458</td>\n",
       "      <td>33255</td>\n",
       "      <td>movie</td>\n",
       "      <td>2013-06-22 21:14:00</td>\n",
       "      <td>good</td>\n",
       "      <td>Тайна закрытой двери</td>\n",
       "      <td>Я имела счастье смотреть этот мультфильм в кин...</td>\n",
       "      <td>6</td>\n",
       "      <td>10 из 10</td>\n",
       "    </tr>\n",
       "  </tbody>\n",
       "</table>\n",
       "</div>"
      ],
      "text/plain": [
       "        show_id  user_id   type            datetime sentiment  \\\n",
       "196236   257386    28525  movie 2010-08-27 11:23:00      good   \n",
       "128582   688832    44953  movie 2015-02-20 23:19:00       bad   \n",
       "159673      349    33910  movie 2018-04-15 21:04:00      good   \n",
       "109244   686898    44065  movie 2019-11-09 11:58:00   neutral   \n",
       "92610     61455    66782  movie 2017-11-27 18:52:00      good   \n",
       "43727    491724    44563  movie 2012-01-28 23:18:00      good   \n",
       "50195    102130    67145  movie 2009-08-17 11:56:00      good   \n",
       "43651    491724    66283  movie 2012-02-19 15:33:00       bad   \n",
       "48775      7226     7905  movie 2014-02-20 03:44:00      good   \n",
       "75262       458    33255  movie 2013-06-22 21:14:00      good   \n",
       "\n",
       "                                        subtitle  \\\n",
       "196236                             Вечный город.   \n",
       "128582                 50 оттенков разочарования   \n",
       "159673    Господи, спасибо, что не пронесло мимо   \n",
       "109244                   Что же стало с клоуном?   \n",
       "92610               Они отказываются подчиняться   \n",
       "43727                            Жестокая правда   \n",
       "50195   Преодолеть 2 года жизни, что встретиться   \n",
       "43651        Мужчины, которые ненавидели женщин.   \n",
       "48775                                       None   \n",
       "75262                       Тайна закрытой двери   \n",
       "\n",
       "                                              review_body  usefulness  \\\n",
       "196236  К истории Древнего мира у меня отношение особо...          40   \n",
       "128582  Говорю сразу, книги читала все, да и по нескол...           5   \n",
       "159673  Есть два типа фильмов, мой друг. Одни ты прост...           4   \n",
       "109244  Итак, в первую очередь хотелось бы отметить то...           2   \n",
       "92610   Автора этого замечательного фильма, Джосса Уэд...           5   \n",
       "43727   Финчер снова нас поразил, он всегда нас поража...           7   \n",
       "50195   Слышал о фильме много, и в основном положитель...          11   \n",
       "43651   Я попробовала рассматривать этот фильм с двух ...           3   \n",
       "48775   «Догвилль» - это один из тех редких фильмов, п...           3   \n",
       "75262   Я имела счастье смотреть этот мультфильм в кин...           6   \n",
       "\n",
       "           scores  \n",
       "196236             \n",
       "128582    3 из 10  \n",
       "159673             \n",
       "109244  6,5 из 10  \n",
       "92610              \n",
       "43727    10 из 10  \n",
       "50195    10 из 10  \n",
       "43651     6 из 10  \n",
       "48775    10 из 10  \n",
       "75262    10 из 10  "
      ]
     },
     "execution_count": 5,
     "metadata": {},
     "output_type": "execute_result"
    }
   ],
   "source": [
    "reviews_df.sample(n=10, random_state=SEED)"
   ]
  },
  {
   "cell_type": "markdown",
   "id": "9ef4b312-6b04-4b60-8242-8df9ee8f8432",
   "metadata": {},
   "source": [
    "### Selecting needed columns"
   ]
  },
  {
   "cell_type": "markdown",
   "id": "5d0c15be-c281-4cee-b1ab-6ff8b3a9ccd6",
   "metadata": {},
   "source": [
    "For baseline model we're interested only in `sentiment` and `review_body` columns"
   ]
  },
  {
   "cell_type": "code",
   "execution_count": 6,
   "id": "0caf0e60-39ad-4e34-80f6-6d7d7169f61f",
   "metadata": {},
   "outputs": [],
   "source": [
    "df = reviews_df[[\"sentiment\", \"review_body\"]]"
   ]
  },
  {
   "cell_type": "markdown",
   "id": "c87245f2-449d-4142-852c-8c965eb64146",
   "metadata": {},
   "source": [
    "### Splitting the data"
   ]
  },
  {
   "cell_type": "code",
   "execution_count": 10,
   "id": "838063fd-0912-4b69-ace3-6e1181d0d0f5",
   "metadata": {},
   "outputs": [],
   "source": [
    "train_df, test_df = train_test_split(\n",
    "    df, test_size=0.2, random_state=SEED, stratify=df[\"sentiment\"]\n",
    ")"
   ]
  },
  {
   "cell_type": "code",
   "execution_count": 11,
   "id": "f1224fee-5cdc-4d23-bff2-573698075101",
   "metadata": {},
   "outputs": [
    {
     "data": {
      "text/plain": [
       "good       0.720332\n",
       "neutral    0.149974\n",
       "bad        0.129694\n",
       "Name: sentiment, dtype: float64"
      ]
     },
     "execution_count": 11,
     "metadata": {},
     "output_type": "execute_result"
    }
   ],
   "source": [
    "train_df[\"sentiment\"].value_counts(normalize=True)"
   ]
  },
  {
   "cell_type": "code",
   "execution_count": 12,
   "id": "59bd7917-cbb7-40a1-82d0-5e7aee8ab7d6",
   "metadata": {},
   "outputs": [
    {
     "data": {
      "text/plain": [
       "good       0.720325\n",
       "neutral    0.149971\n",
       "bad        0.129704\n",
       "Name: sentiment, dtype: float64"
      ]
     },
     "execution_count": 12,
     "metadata": {},
     "output_type": "execute_result"
    }
   ],
   "source": [
    "test_df[\"sentiment\"].value_counts(normalize=True)"
   ]
  },
  {
   "cell_type": "markdown",
   "id": "698f81c8-c88f-4136-808e-489e218a9eee",
   "metadata": {},
   "source": [
    "## Modelling"
   ]
  },
  {
   "cell_type": "markdown",
   "id": "2499eb9e-0431-4d2b-979e-846520568b49",
   "metadata": {},
   "source": [
    "### Tf-Idf for `review_body`"
   ]
  },
  {
   "cell_type": "code",
   "execution_count": 24,
   "id": "e95e4883-0b3e-401c-9532-33067f4c7271",
   "metadata": {},
   "outputs": [],
   "source": [
    "vectorizer_params = {\n",
    "    \"ngram_range\": (1, 2),\n",
    "    \"max_features\": 10000,\n",
    "    \"tokenizer\": lambda s: s.split(),\n",
    "}\n",
    "vectorizer_article = TfidfVectorizer(**vectorizer_params)"
   ]
  },
  {
   "cell_type": "code",
   "execution_count": 25,
   "id": "5c3db587-2d69-4a1b-8660-0076025cf14d",
   "metadata": {},
   "outputs": [
    {
     "name": "stderr",
     "output_type": "stream",
     "text": [
      "\n",
      "KeyboardInterrupt\n",
      "\n"
     ]
    }
   ],
   "source": [
    "%%timeit\n",
    "X_train_review = vectorizer_article.fit_transform(train_df[\"review_body\"])"
   ]
  },
  {
   "cell_type": "code",
   "execution_count": null,
   "id": "34e4d213-c5d6-44da-bd0a-27395a3368af",
   "metadata": {},
   "outputs": [],
   "source": [
    "%%timeit\n",
    "X_test_review = vectorizer_article.transform(test_df[\"review_body\"])"
   ]
  },
  {
   "cell_type": "markdown",
   "id": "b814a402-d97a-482f-8dc8-d1fd527fb381",
   "metadata": {
    "tags": []
   },
   "source": [
    "### Label Encoding"
   ]
  },
  {
   "cell_type": "code",
   "execution_count": 17,
   "id": "45cceb73-fe4c-425a-8a99-00598cb4db2d",
   "metadata": {},
   "outputs": [],
   "source": [
    "le = LabelEncoder()\n",
    "train_labels = le.fit_transform(train_df[\"sentiment\"])\n",
    "test_labels = le.transform(test_df[\"sentiment\"])"
   ]
  },
  {
   "cell_type": "markdown",
   "id": "6e1f292e-a226-4411-96c0-32373008a778",
   "metadata": {},
   "source": [
    "### Training LogReg"
   ]
  },
  {
   "cell_type": "code",
   "execution_count": 20,
   "id": "638c9309-3f0a-4040-ba14-8f3734e0700b",
   "metadata": {},
   "outputs": [],
   "source": [
    "log_reg = LogisticRegression(random_state=SEED)"
   ]
  },
  {
   "cell_type": "code",
   "execution_count": null,
   "id": "d55c2c9e-5d3e-49cd-bb5f-636a1136467f",
   "metadata": {},
   "outputs": [],
   "source": []
  }
 ],
 "metadata": {
  "kernelspec": {
   "display_name": "movie_reviews",
   "language": "python",
   "name": "movie_reviews"
  },
  "language_info": {
   "codemirror_mode": {
    "name": "ipython",
    "version": 3
   },
   "file_extension": ".py",
   "mimetype": "text/x-python",
   "name": "python",
   "nbconvert_exporter": "python",
   "pygments_lexer": "ipython3",
   "version": "3.8.10"
  }
 },
 "nbformat": 4,
 "nbformat_minor": 5
}
