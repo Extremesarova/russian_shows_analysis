{
 "cells": [
  {
   "cell_type": "markdown",
   "id": "c57f7095-1394-4b84-9c55-a302c6cb2127",
   "metadata": {},
   "source": [
    "# Importing needed packages"
   ]
  },
  {
   "cell_type": "code",
   "execution_count": 1,
   "id": "6ac7407d-926d-4888-b92a-9108f8c07cd9",
   "metadata": {},
   "outputs": [],
   "source": [
    "# !pip install spacy spacy-langdetect sentence-transformers\n",
    "# !python -m spacy download en_core_web_sm"
   ]
  },
  {
   "cell_type": "code",
   "execution_count": 2,
   "id": "5199ba5e-82e3-4cfc-9d0b-b3f11e1d67a6",
   "metadata": {},
   "outputs": [],
   "source": [
    "import re\n",
    "from pprint import PrettyPrinter\n",
    "\n",
    "import numpy as np\n",
    "import pandas as pd\n",
    "import spacy\n",
    "from sentence_transformers import SentenceTransformer, util\n",
    "from spacy.language import Language\n",
    "from spacy_langdetect import LanguageDetector"
   ]
  },
  {
   "cell_type": "code",
   "execution_count": 3,
   "id": "cd99c5cd-9145-4238-928c-4a5772d128d5",
   "metadata": {},
   "outputs": [],
   "source": [
    "SEED = 42"
   ]
  },
  {
   "cell_type": "markdown",
   "id": "4b36f91d-bfa0-4e28-a8ff-77453ad9f3d0",
   "metadata": {},
   "source": [
    "The goal of this research is to find out "
   ]
  },
  {
   "cell_type": "markdown",
   "id": "dbe689d5-2d67-4017-a7e7-28e10a1ea7c0",
   "metadata": {},
   "source": [
    "# Reading data"
   ]
  },
  {
   "cell_type": "markdown",
   "id": "97d07835-3dd8-45a9-9a84-5120a71187f1",
   "metadata": {},
   "source": [
    "From the whole dataset with information about films we'll just read the next columns:\n",
    "* `id` - movie id\n",
    "* `russian_title` - Russian title\n",
    "* `original_title` - original title "
   ]
  },
  {
   "cell_type": "code",
   "execution_count": 4,
   "id": "91901e2c-3828-4edf-9708-a2f0ddcb64de",
   "metadata": {},
   "outputs": [
    {
     "data": {
      "text/plain": [
       "(984, 3)"
      ]
     },
     "execution_count": 4,
     "metadata": {},
     "output_type": "execute_result"
    }
   ],
   "source": [
    "movie_df = pd.read_parquet(\"../data/movies.parquet\", columns=[\"id\", \"russian_title\", \"original_title\"])\n",
    "movie_df.shape"
   ]
  },
  {
   "cell_type": "code",
   "execution_count": 5,
   "id": "3a9605a0-3a98-48f6-878b-d7c66f204850",
   "metadata": {},
   "outputs": [],
   "source": [
    "movie_df = movie_df.replace(r\"^\\s*$\", np.nan, regex=True)"
   ]
  },
  {
   "cell_type": "code",
   "execution_count": 6,
   "id": "9aa0cc05-9234-4bf9-90c4-4cf88b0bdfd6",
   "metadata": {},
   "outputs": [
    {
     "data": {
      "text/html": [
       "<div>\n",
       "<style scoped>\n",
       "    .dataframe tbody tr th:only-of-type {\n",
       "        vertical-align: middle;\n",
       "    }\n",
       "\n",
       "    .dataframe tbody tr th {\n",
       "        vertical-align: top;\n",
       "    }\n",
       "\n",
       "    .dataframe thead th {\n",
       "        text-align: right;\n",
       "    }\n",
       "</style>\n",
       "<table border=\"1\" class=\"dataframe\">\n",
       "  <thead>\n",
       "    <tr style=\"text-align: right;\">\n",
       "      <th></th>\n",
       "      <th>id</th>\n",
       "      <th>russian_title</th>\n",
       "      <th>original_title</th>\n",
       "    </tr>\n",
       "  </thead>\n",
       "  <tbody>\n",
       "    <tr>\n",
       "      <th>613</th>\n",
       "      <td>647671</td>\n",
       "      <td>Охота (2012)</td>\n",
       "      <td>Jagten</td>\n",
       "    </tr>\n",
       "    <tr>\n",
       "      <th>451</th>\n",
       "      <td>45146</td>\n",
       "      <td>Любовь и голуби (1984)</td>\n",
       "      <td>NaN</td>\n",
       "    </tr>\n",
       "    <tr>\n",
       "      <th>731</th>\n",
       "      <td>84049</td>\n",
       "      <td>Рапунцель: Запутанная история (2010)</td>\n",
       "      <td>Tangled</td>\n",
       "    </tr>\n",
       "    <tr>\n",
       "      <th>436</th>\n",
       "      <td>1721</td>\n",
       "      <td>Лжец, лжец (1997)</td>\n",
       "      <td>Liar Liar</td>\n",
       "    </tr>\n",
       "    <tr>\n",
       "      <th>275</th>\n",
       "      <td>1072788</td>\n",
       "      <td>Дьявол всегда здесь (2020)</td>\n",
       "      <td>The Devil All the Time</td>\n",
       "    </tr>\n",
       "    <tr>\n",
       "      <th>582</th>\n",
       "      <td>469</td>\n",
       "      <td>Однажды в Америке (1983)</td>\n",
       "      <td>Once Upon a Time in America</td>\n",
       "    </tr>\n",
       "    <tr>\n",
       "      <th>707</th>\n",
       "      <td>915112</td>\n",
       "      <td>Призрачная красота (2016)</td>\n",
       "      <td>Collateral Beauty</td>\n",
       "    </tr>\n",
       "    <tr>\n",
       "      <th>299</th>\n",
       "      <td>81555</td>\n",
       "      <td>Загадочная история Бенджамина Баттона (2008)</td>\n",
       "      <td>The Curious Case of Benjamin Button</td>\n",
       "    </tr>\n",
       "    <tr>\n",
       "      <th>718</th>\n",
       "      <td>1236583</td>\n",
       "      <td>Прошлой ночью в Сохо (2021)</td>\n",
       "      <td>Last Night in Soho</td>\n",
       "    </tr>\n",
       "    <tr>\n",
       "      <th>494</th>\n",
       "      <td>577673</td>\n",
       "      <td>Место под соснами (2012)</td>\n",
       "      <td>The Place Beyond the Pines</td>\n",
       "    </tr>\n",
       "  </tbody>\n",
       "</table>\n",
       "</div>"
      ],
      "text/plain": [
       "          id                                 russian_title  \\\n",
       "613   647671                                  Охота (2012)   \n",
       "451    45146                        Любовь и голуби (1984)   \n",
       "731    84049          Рапунцель: Запутанная история (2010)   \n",
       "436     1721                             Лжец, лжец (1997)   \n",
       "275  1072788                    Дьявол всегда здесь (2020)   \n",
       "582      469                      Однажды в Америке (1983)   \n",
       "707   915112                     Призрачная красота (2016)   \n",
       "299    81555  Загадочная история Бенджамина Баттона (2008)   \n",
       "718  1236583                   Прошлой ночью в Сохо (2021)   \n",
       "494   577673                      Место под соснами (2012)   \n",
       "\n",
       "                          original_title  \n",
       "613                               Jagten  \n",
       "451                                  NaN  \n",
       "731                              Tangled  \n",
       "436                            Liar Liar  \n",
       "275               The Devil All the Time  \n",
       "582          Once Upon a Time in America  \n",
       "707                    Collateral Beauty  \n",
       "299  The Curious Case of Benjamin Button  \n",
       "718                   Last Night in Soho  \n",
       "494           The Place Beyond the Pines  "
      ]
     },
     "execution_count": 6,
     "metadata": {},
     "output_type": "execute_result"
    }
   ],
   "source": [
    "movie_df.sample(10, random_state=SEED)"
   ]
  },
  {
   "cell_type": "markdown",
   "id": "94d24db8-a1eb-4823-a42b-1e14135826f8",
   "metadata": {},
   "source": [
    "We can see that the `russian_title` contains the release year for every film (or at least these 10 random samples).  \n",
    "This is an opportunity to clean the data."
   ]
  },
  {
   "cell_type": "markdown",
   "id": "427cb733-344c-4a63-a0e2-da415d947b08",
   "metadata": {},
   "source": [
    "# Cleaning the data"
   ]
  },
  {
   "cell_type": "markdown",
   "id": "bf54c9bb-d2fe-44e8-912b-2eaf170c9cc7",
   "metadata": {},
   "source": [
    "## Removing parenthesis from `russian_title`"
   ]
  },
  {
   "cell_type": "markdown",
   "id": "8484a5c1-bf2d-4dce-93fc-8a964e13944e",
   "metadata": {},
   "source": [
    "### Approach 1: Removing last 6 characters"
   ]
  },
  {
   "cell_type": "markdown",
   "id": "630e4f24-a468-4cb1-a458-50930345677e",
   "metadata": {},
   "source": [
    "In the previous section we've found out that the `russian_title` contains the release year of the film.  \n",
    "Let's check that the last six characters from the `russian_title` is always the same and look like `(year)`."
   ]
  },
  {
   "cell_type": "code",
   "execution_count": 7,
   "id": "1dfce22e-2257-4128-aec3-caa74889183c",
   "metadata": {},
   "outputs": [
    {
     "name": "stdout",
     "output_type": "stream",
     "text": [
      "['2011' '1999' '2013' '1995' '1956' '2004' '2007' '2019' '2022' '1984'\n",
      " '1968' '2009' '2002' '2007' '2020' '2007' '2009' '2022' '2005' '2020'\n",
      " '2019' '2019' '2012' '2015' '2021' '2022' '2006' '2009' '2005' '2015'\n",
      " '1997' '2018' '2019' '2010' '2019' '2021' '2015' '2001' '1998' '2000'\n",
      " '2015' '1966' '2019' '2020' '2017' '2022' '2018' '1979' '2006' '2022'\n",
      " '1998' '2021' '2021' '2021' '2010' '2015' '2020' '2022' '2020' '2014'\n",
      " '2021' '2021' '2015' '2019' '2018' '2019' '2020' '2014' '2017' '1982'\n",
      " '2015' '2021' '2022' '2021' '2009' '2021' '1991' '2015' '2022' '2018'\n",
      " '2022' '2022' '2013' '1999' '2017' '2022' '2021' '2000' '1998' '2007'\n",
      " '2006' '2022' '2021' '2022' '2000' '1997' '2016' '2009' '1999' '2003'\n",
      " '2021' '2003' '2021' '2022' '2011' '2021' '2021' '2022' '2016' '1989'\n",
      " '2005' '1973' '2007' '2011' '2006' '2015' '2015' '2017' '2008' '2021'\n",
      " '2004' '2016' '2022' '2009' '2015' '2015' '2020' '2013' '2018' '2014'\n",
      " '2018' '2021' '2021' '2013' '2016' '2004' '2021' '2020' '2019' '2015'\n",
      " '2021' '2001' '2003' '2002' '2018' '2021' '1986' '2018' '1997' '2017'\n",
      " '2011' '2021' '2013' '2005' '2002' '2021' '2013' '2021' '2003' '2019'\n",
      " '2010' '2013' '2021' '2017' '1996' '2011' '2022' '2017' '2022' '2008'\n",
      " '2008' '2014' '2015' '2019' '2021' '2013' '2015' '2015' '2010' '2007'\n",
      " '2019' '2001' '2022' '2010' '2011' '2005' '2007' '2009' '2002' '2004'\n",
      " '2001' '2021' '1997' '2021' '2021' '2000' '2021' '2022' '2021' '2021'\n",
      " '2009' '2015' '2012' '2013' '2005' '2005' '2010' '2014' '2005' '2009'\n",
      " '2013' '2008' '2014' '2020' '2020' '2018' '2007' '2021' '2013' '2013'\n",
      " '2019' '2017' '1999' '2006' '2018' '2021' '2011' '2020' '2021' '2016'\n",
      " '2017' '2019' '1993' '2012' '2012' '2019' '2019' '2014' '2014' '2014'\n",
      " '1996' '2019' '2006' '2000' '1995' '2004' '2016' '2009' '2021' '2020'\n",
      " '2003' '1999' '2019' '2020' '2016' '2022' '2021' '2021' '2020' '2016'\n",
      " '2006' '2018' '2001' '2021' '2008' '2009' '2019' '1997' '2011' '2001'\n",
      " '2004' '2014' '2011' '2020' '2020' '2020' '2006' '2021' '2018' '2016'\n",
      " '2021' '2017' '2020' '2004' '2020' '2021' '2010' '2010' '2013' '2008'\n",
      " '2022' '2011' '2006' '2002' '1997' '2005' '2021' '2020' '1971' '2008'\n",
      " '2021' '2021' '2013' '2021' '2009' '2007' '2007' '1992' '2000' '2022'\n",
      " '2015' '2019' '1999' '2002' '2005' '1977' '2022' '2007' '2009' '2021'\n",
      " '2016' '2018' '1999' '2020' '2008' '1974' '2021' '1998' '2020' '2007'\n",
      " '2022' '2004' '2016' '1973' '2021' '2014' '2015' '2022' '1997' '2001'\n",
      " '2015' '2000' '2003' '1985' '2005' '2014' '2022' '2000' '2009' '2021'\n",
      " '2013' '2014' '2019' '2007' '2020' '2020' '2011' '2014' '2021' '2019'\n",
      " '2006' '2021' '2010' '2021' '2018' '2021' '2019' '2016' '1998' '2020'\n",
      " '2022' '2019' '2019' '2021' '2016' '2005' '2009' '2022' '2019' '2020'\n",
      " '2021' '2005' '1997' '2008' '2000' '2012' '2010' '1994' '2021' '2020'\n",
      " '2001' '2021' '2021' '2021' '2021' '2018' '2021' '2011' '1999' '1990'\n",
      " '1988' '1972' '2022' '1996' '1994' '2021' '1998' '2009' '2019' '2021'\n",
      " '2003' '2021' '2014' '2020' '2008' '2021' '1986' '2016' '2006' '2021'\n",
      " '2014' '2020' '2020' '1983' '2015' '2006' '2009' '2002' '2022' '2016'\n",
      " '2021' '2013' '1994' '2018' '2017' '2021' '1997' '2021' '2017' '2002'\n",
      " '2011' '1983' '2015' '2017' '1997' '2021' '2021' '2009' '2012' '1986'\n",
      " '2000' '1984' '2010' '1997' '2000' '2016' '2014' '2009' '2011' '2019'\n",
      " '2014' '2022' '2020' '2021' '2005' '2021' '2021' '2021' '2021' '2000'\n",
      " '2019' '2001' '2017' '2004' '2008' '2021' '2009' '2013' '2017' '2021'\n",
      " '2020' '2015' '1994' '1999' '2021' '2003' '2019' '2007' '2022' '2022'\n",
      " '2011' '2005' '2011' '2017' '2012' '2017' '2009' '2005' '2022' '2020'\n",
      " '2009' '2006' '2022' '2016' '1988' '2021' '1988' '1990' '2007' '2012'\n",
      " '2022' '2022' '2021' '2008' '1979' '2006' '2017' '2021' '2012' '2018'\n",
      " '2019' '2015' '2013' '1999' '2019' '2013' '1995' '2017' '2022' '1985'\n",
      " '2017' '2010' '2021' '1995' '2019' '2021' '2020' '2010' '2021' '2013'\n",
      " '2019' '2009' '2016' '2022' '2011' '2021' '2017' '2019' '2016' '2022'\n",
      " '2020' '2021' '2000' '2007' '1982' '2021' '2004' '2018' '2020' '2012'\n",
      " '2014' '2021' '2008' '2004' '2010' '2002' '2021' '2017' '2011' '2012'\n",
      " '2013' '2022' '2020' '1989' '2018' '2020' '2013' '2011' '1990' '2001'\n",
      " '2021' '2020' '1983' '2011' '2022' '2019' '2003' '2015' '2013' '2022'\n",
      " '2019' '2017' '2011' '2012' '2022' '2019' '2022' '2016' '1992' '2002'\n",
      " '2009' '2018' '1988' '2006' '1995' '2020' '2014' '2020' '2010' '2021'\n",
      " '2016' '2021' '2006' '2012' '2020' '2021' '2004' '2001' '2000' '2022'\n",
      " '2021' '2006' '2021' '2021' '2019' '2021' '2021' '2022' '2016' '2016'\n",
      " '2007' '1996' '2018' '2022' '2011' '2014' '2016' '2022' '2007' '2001'\n",
      " '2014' '2012' '2020' '2002' '2004' '2017' '2007' '2011' '2003' '2006'\n",
      " '2016' '2022' '2019' '2013' '2022' '1995' '1997' '2020' '2021' '2016'\n",
      " '1994' '2008' '2019' '2016' '2021' '2020' '2016' '2021' '2022' '2010'\n",
      " '2018' '2002' '2019' '2011' '2011' '2016' '2015' '2016' '2021' '2014'\n",
      " '2000' '2019' '2008' '2020' '2021' '2021' '2021' '2017' '2020' '2021'\n",
      " '1991' '2003' '2021' '2004' '2020' '2021' '2011' '2008' '2016' '2014'\n",
      " '2009' '2006' '1970' '2016' '1990' ' 2022' '2021' '2016' '2019' '1997'\n",
      " '2011' '1990' '2012' '2022' '1975' '2012' '2018' '2017' '2021' '2019'\n",
      " '2018' '2018' '2022' '2020' '2021' '1997' '2018' '2015' '2018' '2020'\n",
      " '2021' '2010' '2007' '2003' '2014' '2005' '2018' '2000' '2022' '2021'\n",
      " '2008' '2021' '1994' '2020' '1999' '2001' '2013' '2006' '2017' '2012'\n",
      " '2022' '1999' '2021' '2012' '1999' '2019' '2021' '2008' '2012' '1995'\n",
      " '2010' '2020' '2012' '1980' '2013' '2022' '2010' '2022' '2016' '1990'\n",
      " '2016' '2016' '2020' '1978' '2014' ' 1988' '2021' '2004' '2021' '2019'\n",
      " '1972' '2022' '2020' '2010' '2019' '2006' '1998' '2021' '1993' '2017'\n",
      " '2020' '2015' '1979' '1999' '2007' '2019' '2022' '2014' '2017' '2021'\n",
      " '1998' '2007' '2013' '1959' '2014' '2008' '1995' '2005' '2021' '2018'\n",
      " '2013' '2003' '2004' '2015' '2017' '1998' '2017' '1976' '1978' '2009'\n",
      " '2006' '2016' '2021' '2020' '2021' '2012' '2020' '2019' '2008' '2012'\n",
      " '2004' '1991' '1984' '2022' '2021' '2007' '2020' '2000' '1997' '2021'\n",
      " '2018' '2020' '2013' '2021' '2022' '2013' '2011' '2017' '2019' '2021'\n",
      " '2013' '2007' '2017' '2001' '2005' '2001' '2012' '2009' '2017' '2021'\n",
      " '2010' '2021' '2006' '2004' '2003' '2021' '2017' '2015' '2003' '2010'\n",
      " '2020' '2021' '2018' '1980' '1997' '1939' '2001' '2020' '2021' '2015'\n",
      " '2016' '2018' '2022' '1995' '2013' '2022' '2021' '2022' '2021' '2014'\n",
      " '2017' '2016' '1994' '2017' '2021' '2001' '2019' '2021' '2016' '2008'\n",
      " '2021' '2020' '2014' '2012' '2013' '2004' '2003' '1987' '2019' '2013'\n",
      " '2019' '2006' '1966' '2022' '2018' '1995' '2009' '2005' '2021' '2005'\n",
      " '1987' '2021' '1999' '2018' '2022' '2010' '2021' '2001' '2005' '2000'\n",
      " '1988' '2013' '2018' '2016' '2011' '2004' '2007' '2002' '2019' '2017'\n",
      " '2021' '2018' '2021' '2020' '2019' '2020' '2008' '2022' '2014' '2017'\n",
      " '2020' '1979' '2017' '2021' '2009' '1999' '1985' '1998' '2015' '2015'\n",
      " '2004' '2001' '2021' '2002' '2014' '2019' '2020' '2021' '2011' '2022'\n",
      " '2021' '2006' '2022' '2003' '2019' '2022' '2022' '2022' '2007' '2014'\n",
      " '2004' '2021' '2021' '2014']\n"
     ]
    }
   ],
   "source": [
    "six_chars = movie_df[\"russian_title\"].apply(lambda s: s[-6:].replace(\"(\", \"\").replace(\")\", \"\")).values\n",
    "print(six_chars)"
   ]
  },
  {
   "cell_type": "markdown",
   "id": "9816ed51-593a-4430-a08c-2ff3a569880a",
   "metadata": {},
   "source": [
    "We see that it is almost always true, but for one movie there is little errors ` 1998` and ` 2022` - additional whitespaces. I'm going to check the whole title for this case."
   ]
  },
  {
   "cell_type": "code",
   "execution_count": 8,
   "id": "8e009a24-a115-465b-a07d-944e2fcd5f49",
   "metadata": {},
   "outputs": [
    {
     "data": {
      "text/plain": [
       "705    Привилегированные (ТВ, 2022)\n",
       "775       Собачье сердце (ТВ, 1988)\n",
       "Name: russian_title, dtype: object"
      ]
     },
     "execution_count": 8,
     "metadata": {},
     "output_type": "execute_result"
    }
   ],
   "source": [
    "indices = [i for i, val in enumerate(six_chars) if \" \" in val]\n",
    "movie_df[\"russian_title\"][indices]"
   ]
  },
  {
   "cell_type": "markdown",
   "id": "29928d44-e659-46ec-8bb0-59b9c3a4e34e",
   "metadata": {},
   "source": [
    "Aha!"
   ]
  },
  {
   "cell_type": "markdown",
   "id": "1641abd7-037e-45f9-9627-781506ab9dee",
   "metadata": {},
   "source": [
    "### Approach 2: removing the whole parenthesis"
   ]
  },
  {
   "cell_type": "markdown",
   "id": "d5f495c3-00d5-4217-8273-56c513813ca9",
   "metadata": {},
   "source": [
    "Let's switch to another strategy - finding out whether every title contains substring like `(smth)` and if it is true, then remove such substring"
   ]
  },
  {
   "cell_type": "code",
   "execution_count": 9,
   "id": "6e4f9f7c-f5bd-4e67-a441-8fb7374ad256",
   "metadata": {},
   "outputs": [],
   "source": [
    "def has_numbers_in_square_brackets(s):\n",
    "    return bool(re.search(r\"\\(.*\\)\", s))"
   ]
  },
  {
   "cell_type": "code",
   "execution_count": 10,
   "id": "0f4c0695-2b76-4d18-9142-aba5d3a2617b",
   "metadata": {},
   "outputs": [],
   "source": [
    "assert (\n",
    "    movie_df[\"russian_title\"].apply(has_numbers_in_square_brackets).sum() == movie_df.shape[0]\n",
    "), \"Not every title has brackets with something inside\""
   ]
  },
  {
   "cell_type": "markdown",
   "id": "21fd49ce-6666-47f0-b328-d9e27c107bec",
   "metadata": {},
   "source": [
    "Every title contains some information in brackets - we don't really care what's inside them. Our goal is to clean the titles, so, we'll just delete the brackets with their contents."
   ]
  },
  {
   "cell_type": "code",
   "execution_count": 11,
   "id": "18280da0-a4f0-4f88-a712-5cee7a9fabc4",
   "metadata": {},
   "outputs": [
    {
     "data": {
      "text/plain": [
       "0                           1+1\n",
       "1      10 причин моей ненависти\n",
       "2                12 лет рабства\n",
       "3                    12 обезьян\n",
       "4        12 разгневанных мужчин\n",
       "                 ...           \n",
       "979                  Я — начало\n",
       "980                    Я, робот\n",
       "981                Яйцо Фаберже\n",
       "982                      Ярость\n",
       "983                      Ярость\n",
       "Name: russian_title, Length: 984, dtype: object"
      ]
     },
     "execution_count": 11,
     "metadata": {},
     "output_type": "execute_result"
    }
   ],
   "source": [
    "movie_df[\"russian_title\"] = movie_df[\"russian_title\"].apply(lambda s: re.sub(r\"\\([^()]*\\)\", \"\", s).strip())\n",
    "movie_df[\"russian_title\"]"
   ]
  },
  {
   "cell_type": "markdown",
   "id": "d392c300-12ab-4af6-989a-fb5ca38bc581",
   "metadata": {},
   "source": [
    "Just checking"
   ]
  },
  {
   "cell_type": "code",
   "execution_count": 12,
   "id": "af7f18dc-074b-4bc5-bc7e-5ce8fce51f2b",
   "metadata": {},
   "outputs": [],
   "source": [
    "assert (\n",
    "    movie_df[\"russian_title\"].apply(has_numbers_in_square_brackets).sum() == 0\n",
    "), \"Not all brackets were deleted - check the procedure\""
   ]
  },
  {
   "cell_type": "markdown",
   "id": "9ab9a5e5-4fe6-46a1-a937-531d82398fde",
   "metadata": {},
   "source": [
    "## Checking for duplicates"
   ]
  },
  {
   "cell_type": "code",
   "execution_count": 13,
   "id": "e90f6f78-ee28-4dea-a799-3ce94d6e7764",
   "metadata": {},
   "outputs": [
    {
     "data": {
      "text/plain": [
       "True"
      ]
     },
     "execution_count": 13,
     "metadata": {},
     "output_type": "execute_result"
    }
   ],
   "source": [
    "movie_df.drop_duplicates().shape == movie_df.shape"
   ]
  },
  {
   "cell_type": "markdown",
   "id": "edcf6ba0-e452-41cd-adbc-43e0beb73724",
   "metadata": {},
   "source": [
    "There are no duplicates in the dataset - nothing to do here"
   ]
  },
  {
   "cell_type": "markdown",
   "id": "85b8afc7-9942-46aa-9705-2047319cad64",
   "metadata": {},
   "source": [
    "## Checking for missing values"
   ]
  },
  {
   "cell_type": "code",
   "execution_count": 14,
   "id": "db67ec59-087b-4c44-b9ba-759065bb5f59",
   "metadata": {},
   "outputs": [
    {
     "data": {
      "text/plain": [
       "id                False\n",
       "russian_title     False\n",
       "original_title     True\n",
       "dtype: bool"
      ]
     },
     "execution_count": 14,
     "metadata": {},
     "output_type": "execute_result"
    }
   ],
   "source": [
    "movie_df.isna().any()"
   ]
  },
  {
   "cell_type": "markdown",
   "id": "43877d24-7478-4929-8dec-29f3636ca9a0",
   "metadata": {},
   "source": [
    "We can see that the 'original_title' column contains `NaN` values.  \n",
    "Probably, because not every movie has an `original_title` - maybe movie is Russian-made and doesn't have English-translated title, for example."
   ]
  },
  {
   "cell_type": "code",
   "execution_count": 15,
   "id": "ddfa4567-4a81-4c32-bf1c-731a215de26f",
   "metadata": {},
   "outputs": [
    {
     "data": {
      "text/html": [
       "<div>\n",
       "<style scoped>\n",
       "    .dataframe tbody tr th:only-of-type {\n",
       "        vertical-align: middle;\n",
       "    }\n",
       "\n",
       "    .dataframe tbody tr th {\n",
       "        vertical-align: top;\n",
       "    }\n",
       "\n",
       "    .dataframe thead th {\n",
       "        text-align: right;\n",
       "    }\n",
       "</style>\n",
       "<table border=\"1\" class=\"dataframe\">\n",
       "  <thead>\n",
       "    <tr style=\"text-align: right;\">\n",
       "      <th></th>\n",
       "      <th>id</th>\n",
       "      <th>russian_title</th>\n",
       "      <th>original_title</th>\n",
       "    </tr>\n",
       "  </thead>\n",
       "  <tbody>\n",
       "    <tr>\n",
       "      <th>8</th>\n",
       "      <td>4533880</td>\n",
       "      <td>1941. Крылья над Берлином</td>\n",
       "      <td>NaN</td>\n",
       "    </tr>\n",
       "    <tr>\n",
       "      <th>18</th>\n",
       "      <td>84674</td>\n",
       "      <td>9 рота</td>\n",
       "      <td>NaN</td>\n",
       "    </tr>\n",
       "    <tr>\n",
       "      <th>41</th>\n",
       "      <td>8385</td>\n",
       "      <td>Андрей Рублев</td>\n",
       "      <td>NaN</td>\n",
       "    </tr>\n",
       "    <tr>\n",
       "      <th>53</th>\n",
       "      <td>1291197</td>\n",
       "      <td>Артек. Большое путешествие</td>\n",
       "      <td>NaN</td>\n",
       "    </tr>\n",
       "    <tr>\n",
       "      <th>60</th>\n",
       "      <td>4550354</td>\n",
       "      <td>Бабки</td>\n",
       "      <td>NaN</td>\n",
       "    </tr>\n",
       "    <tr>\n",
       "      <th>...</th>\n",
       "      <td>...</td>\n",
       "      <td>...</td>\n",
       "      <td>...</td>\n",
       "    </tr>\n",
       "    <tr>\n",
       "      <th>944</th>\n",
       "      <td>1209750</td>\n",
       "      <td>Чернобыль: Зона отчуждения. Финал</td>\n",
       "      <td>NaN</td>\n",
       "    </tr>\n",
       "    <tr>\n",
       "      <th>969</th>\n",
       "      <td>4312912</td>\n",
       "      <td>Этерна: Часть первая</td>\n",
       "      <td>NaN</td>\n",
       "    </tr>\n",
       "    <tr>\n",
       "      <th>975</th>\n",
       "      <td>4903616</td>\n",
       "      <td>Я иду искать</td>\n",
       "      <td>NaN</td>\n",
       "    </tr>\n",
       "    <tr>\n",
       "      <th>977</th>\n",
       "      <td>4493006</td>\n",
       "      <td>Я хочу! Я буду!</td>\n",
       "      <td>NaN</td>\n",
       "    </tr>\n",
       "    <tr>\n",
       "      <th>981</th>\n",
       "      <td>4491514</td>\n",
       "      <td>Яйцо Фаберже</td>\n",
       "      <td>NaN</td>\n",
       "    </tr>\n",
       "  </tbody>\n",
       "</table>\n",
       "<p>131 rows × 3 columns</p>\n",
       "</div>"
      ],
      "text/plain": [
       "          id                      russian_title original_title\n",
       "8    4533880          1941. Крылья над Берлином            NaN\n",
       "18     84674                             9 рота            NaN\n",
       "41      8385                      Андрей Рублев            NaN\n",
       "53   1291197         Артек. Большое путешествие            NaN\n",
       "60   4550354                              Бабки            NaN\n",
       "..       ...                                ...            ...\n",
       "944  1209750  Чернобыль: Зона отчуждения. Финал            NaN\n",
       "969  4312912               Этерна: Часть первая            NaN\n",
       "975  4903616                       Я иду искать            NaN\n",
       "977  4493006                    Я хочу! Я буду!            NaN\n",
       "981  4491514                       Яйцо Фаберже            NaN\n",
       "\n",
       "[131 rows x 3 columns]"
      ]
     },
     "execution_count": 15,
     "metadata": {},
     "output_type": "execute_result"
    }
   ],
   "source": [
    "movie_df[movie_df.isnull().any(axis=1)]"
   ]
  },
  {
   "cell_type": "markdown",
   "id": "927a1107-8761-4b0f-8bb4-2378f824e146",
   "metadata": {},
   "source": [
    "Yes, my assumption was right.  \n",
    "I think it is reasonable to drop such rows."
   ]
  },
  {
   "cell_type": "code",
   "execution_count": 16,
   "id": "a4dcea2f-e89e-48eb-a607-4b9af406a178",
   "metadata": {},
   "outputs": [
    {
     "data": {
      "text/plain": [
       "(853, 3)"
      ]
     },
     "execution_count": 16,
     "metadata": {},
     "output_type": "execute_result"
    }
   ],
   "source": [
    "movie_df = movie_df.dropna(axis=0, inplace=False) if movie_df.isna().any().any() else movie_df\n",
    "movie_df.shape"
   ]
  },
  {
   "cell_type": "code",
   "execution_count": 17,
   "id": "12d5677f-479a-41f7-a076-41082576d206",
   "metadata": {},
   "outputs": [],
   "source": [
    "assert movie_df.isna().any().any() == False"
   ]
  },
  {
   "cell_type": "markdown",
   "id": "5ea43dc3-e103-4a67-b008-82e22ea33b4d",
   "metadata": {},
   "source": [
    "# Semantic similarity"
   ]
  },
  {
   "cell_type": "markdown",
   "id": "c06f00d8-22a4-4339-898e-0669e7733b3f",
   "metadata": {},
   "source": [
    "## Computing similarities"
   ]
  },
  {
   "cell_type": "markdown",
   "id": "3c58c788-d17e-4d05-bee5-50a30a4ab3e3",
   "metadata": {},
   "source": [
    "### Choosing model"
   ]
  },
  {
   "cell_type": "code",
   "execution_count": 18,
   "id": "3bdf4a92-0650-46be-9bbd-6c607b5737d7",
   "metadata": {},
   "outputs": [],
   "source": [
    "model = SentenceTransformer(\"distiluse-base-multilingual-cased-v2\")"
   ]
  },
  {
   "cell_type": "markdown",
   "id": "14aed75e-9002-40f7-9979-ee0674ffae67",
   "metadata": {},
   "source": [
    "Multi-Lingual model of Universal Sentence Encoder for 50+ languages: ar, bg, ca, cs, da, de, el, es, et, fa, fi, fr, fr-ca, gl, gu, he, hi, hr, hu, hy, id, it, ja, ka, ko, ku, lt, lv, mk, mn, mr, ms, my, nb, nl, pl, pt, pt, pt-br, ro, ru, sk, sl, sq, sr, sv, th, tr, uk, ur, vi, zh-cn, zh-tw"
   ]
  },
  {
   "cell_type": "code",
   "execution_count": 19,
   "id": "d46e02ba-a659-4723-bcd1-fbce097c01c6",
   "metadata": {},
   "outputs": [],
   "source": [
    "# Two lists of sentences\n",
    "russian_titles = movie_df[\"russian_title\"].values\n",
    "original_titles = movie_df[\"original_title\"].values\n",
    "\n",
    "russian_titles_lowercase = movie_df[\"russian_title\"].apply(lambda title: title.lower()).values\n",
    "original_titles_lowercase = movie_df[\"original_title\"].apply(lambda title: title.lower()).values\n",
    "\n",
    "# Compute embedding for both lists\n",
    "russian_title_embs = model.encode(russian_titles_lowercase, convert_to_tensor=True)\n",
    "original_title_embs = model.encode(original_titles_lowercase, convert_to_tensor=True)\n",
    "\n",
    "# Compute cosine-similarits\n",
    "cosine_scores = util.cos_sim(russian_title_embs, original_title_embs)"
   ]
  },
  {
   "cell_type": "markdown",
   "id": "0c8ce5dd-12ea-4448-a822-12fd097c1b2b",
   "metadata": {},
   "source": [
    "## Creating resulting Dataframe & Sorting"
   ]
  },
  {
   "cell_type": "code",
   "execution_count": 25,
   "id": "ba11847a-5fe3-4909-b6d3-eb33cadf9e24",
   "metadata": {},
   "outputs": [
    {
     "data": {
      "text/html": [
       "<div>\n",
       "<style scoped>\n",
       "    .dataframe tbody tr th:only-of-type {\n",
       "        vertical-align: middle;\n",
       "    }\n",
       "\n",
       "    .dataframe tbody tr th {\n",
       "        vertical-align: top;\n",
       "    }\n",
       "\n",
       "    .dataframe thead th {\n",
       "        text-align: right;\n",
       "    }\n",
       "</style>\n",
       "<table border=\"1\" class=\"dataframe\">\n",
       "  <thead>\n",
       "    <tr style=\"text-align: right;\">\n",
       "      <th></th>\n",
       "      <th>russian_title</th>\n",
       "      <th>original_title</th>\n",
       "      <th>similarity</th>\n",
       "    </tr>\n",
       "  </thead>\n",
       "  <tbody>\n",
       "    <tr>\n",
       "      <th>0</th>\n",
       "      <td>1+1</td>\n",
       "      <td>Intouchables</td>\n",
       "      <td>0.190</td>\n",
       "    </tr>\n",
       "    <tr>\n",
       "      <th>1</th>\n",
       "      <td>10 причин моей ненависти</td>\n",
       "      <td>10 Things I Hate About You</td>\n",
       "      <td>0.791</td>\n",
       "    </tr>\n",
       "    <tr>\n",
       "      <th>2</th>\n",
       "      <td>12 лет рабства</td>\n",
       "      <td>12 Years a Slave</td>\n",
       "      <td>0.939</td>\n",
       "    </tr>\n",
       "    <tr>\n",
       "      <th>3</th>\n",
       "      <td>12 обезьян</td>\n",
       "      <td>Twelve Monkeys</td>\n",
       "      <td>0.932</td>\n",
       "    </tr>\n",
       "    <tr>\n",
       "      <th>4</th>\n",
       "      <td>12 разгневанных мужчин</td>\n",
       "      <td>12 Angry Men</td>\n",
       "      <td>0.962</td>\n",
       "    </tr>\n",
       "  </tbody>\n",
       "</table>\n",
       "</div>"
      ],
      "text/plain": [
       "              russian_title              original_title  similarity\n",
       "0                       1+1                Intouchables       0.190\n",
       "1  10 причин моей ненависти  10 Things I Hate About You       0.791\n",
       "2            12 лет рабства            12 Years a Slave       0.939\n",
       "3                12 обезьян              Twelve Monkeys       0.932\n",
       "4    12 разгневанных мужчин                12 Angry Men       0.962"
      ]
     },
     "execution_count": 25,
     "metadata": {},
     "output_type": "execute_result"
    }
   ],
   "source": [
    "rows = []\n",
    "for i in range(len(russian_titles)):\n",
    "    rows.append([russian_titles[i], original_titles[i], cosine_scores[i][i].cpu().detach().numpy()])\n",
    "\n",
    "similarity_df = pd.DataFrame(data=rows, columns=[\"russian_title\", \"original_title\", \"similarity\"])\n",
    "similarity_df[\"similarity\"] = similarity_df[\"similarity\"].apply(lambda similarity: similarity.round(3))\n",
    "similarity_df.head()"
   ]
  },
  {
   "cell_type": "markdown",
   "id": "24452595-a958-4c4e-8c93-4d441f3af101",
   "metadata": {},
   "source": [
    "## Results"
   ]
  },
  {
   "cell_type": "markdown",
   "id": "73de9c9a-32f5-4d2e-84dc-9294b75fc916",
   "metadata": {},
   "source": [
    "### Dissimilar titles"
   ]
  },
  {
   "cell_type": "markdown",
   "id": "81aa56c6-9361-484e-a0c4-0e0e782c70ba",
   "metadata": {},
   "source": [
    "Let's look at titles for which Russian translations doesn't convey meaning of the original name. "
   ]
  },
  {
   "cell_type": "code",
   "execution_count": 28,
   "id": "a12bf472-cc45-4016-8c22-564c6090ae30",
   "metadata": {},
   "outputs": [
    {
     "data": {
      "text/html": [
       "<div>\n",
       "<style scoped>\n",
       "    .dataframe tbody tr th:only-of-type {\n",
       "        vertical-align: middle;\n",
       "    }\n",
       "\n",
       "    .dataframe tbody tr th {\n",
       "        vertical-align: top;\n",
       "    }\n",
       "\n",
       "    .dataframe thead th {\n",
       "        text-align: right;\n",
       "    }\n",
       "</style>\n",
       "<table border=\"1\" class=\"dataframe\">\n",
       "  <thead>\n",
       "    <tr style=\"text-align: right;\">\n",
       "      <th></th>\n",
       "      <th>russian_title</th>\n",
       "      <th>original_title</th>\n",
       "      <th>similarity</th>\n",
       "    </tr>\n",
       "  </thead>\n",
       "  <tbody>\n",
       "    <tr>\n",
       "      <th>80</th>\n",
       "      <td>Борат</td>\n",
       "      <td>Borat: Cultural Learnings of America for Make ...</td>\n",
       "      <td>0.033</td>\n",
       "    </tr>\n",
       "    <tr>\n",
       "      <th>765</th>\n",
       "      <td>Философы: Урок выживания</td>\n",
       "      <td>After the Dark</td>\n",
       "      <td>0.075</td>\n",
       "    </tr>\n",
       "    <tr>\n",
       "      <th>507</th>\n",
       "      <td>Однажды в Ирландии</td>\n",
       "      <td>The Guard</td>\n",
       "      <td>0.104</td>\n",
       "    </tr>\n",
       "    <tr>\n",
       "      <th>113</th>\n",
       "      <td>Веном 2</td>\n",
       "      <td>Venom: Let There Be Carnage</td>\n",
       "      <td>0.112</td>\n",
       "    </tr>\n",
       "    <tr>\n",
       "      <th>311</th>\n",
       "      <td>Иллюзия обмана</td>\n",
       "      <td>Now You See Me</td>\n",
       "      <td>0.127</td>\n",
       "    </tr>\n",
       "    <tr>\n",
       "      <th>474</th>\n",
       "      <td>Невероятный мир глазами Энцо</td>\n",
       "      <td>The Art of Racing in the Rain</td>\n",
       "      <td>0.130</td>\n",
       "    </tr>\n",
       "    <tr>\n",
       "      <th>810</th>\n",
       "      <td>Человек, который изменил всё</td>\n",
       "      <td>Moneyball</td>\n",
       "      <td>0.130</td>\n",
       "    </tr>\n",
       "    <tr>\n",
       "      <th>169</th>\n",
       "      <td>Гарри Хафт: Последний бой</td>\n",
       "      <td>The Survivor</td>\n",
       "      <td>0.141</td>\n",
       "    </tr>\n",
       "    <tr>\n",
       "      <th>751</th>\n",
       "      <td>Удивительное путешествие доктора Дулиттла</td>\n",
       "      <td>Dolittle</td>\n",
       "      <td>0.142</td>\n",
       "    </tr>\n",
       "    <tr>\n",
       "      <th>505</th>\n",
       "      <td>Одинокий волк</td>\n",
       "      <td>Clean</td>\n",
       "      <td>0.144</td>\n",
       "    </tr>\n",
       "    <tr>\n",
       "      <th>55</th>\n",
       "      <td>Бёрдмэн</td>\n",
       "      <td>Birdman or (The Unexpected Virtue of Ignorance)</td>\n",
       "      <td>0.146</td>\n",
       "    </tr>\n",
       "    <tr>\n",
       "      <th>790</th>\n",
       "      <td>Хочу съесть твою поджелудочную железу</td>\n",
       "      <td>Kimi no suizo wo tabetai</td>\n",
       "      <td>0.158</td>\n",
       "    </tr>\n",
       "    <tr>\n",
       "      <th>648</th>\n",
       "      <td>Самый пьяный округ в мире</td>\n",
       "      <td>Lawless</td>\n",
       "      <td>0.160</td>\n",
       "    </tr>\n",
       "    <tr>\n",
       "      <th>270</th>\n",
       "      <td>Заклятье: Спуск к дьяволу</td>\n",
       "      <td>The Cellar</td>\n",
       "      <td>0.163</td>\n",
       "    </tr>\n",
       "    <tr>\n",
       "      <th>588</th>\n",
       "      <td>Полынь: Дорога мёртвых</td>\n",
       "      <td>Wyrmwood</td>\n",
       "      <td>0.164</td>\n",
       "    </tr>\n",
       "    <tr>\n",
       "      <th>784</th>\n",
       "      <td>Ходячий замок</td>\n",
       "      <td>Hauru no ugoku shiro</td>\n",
       "      <td>0.166</td>\n",
       "    </tr>\n",
       "    <tr>\n",
       "      <th>582</th>\n",
       "      <td>Пол: Секретный материальчик</td>\n",
       "      <td>Paul</td>\n",
       "      <td>0.169</td>\n",
       "    </tr>\n",
       "    <tr>\n",
       "      <th>638</th>\n",
       "      <td>Реальные упыри</td>\n",
       "      <td>What We Do in the Shadows</td>\n",
       "      <td>0.169</td>\n",
       "    </tr>\n",
       "    <tr>\n",
       "      <th>635</th>\n",
       "      <td>Рапунцель: Запутанная история</td>\n",
       "      <td>Tangled</td>\n",
       "      <td>0.181</td>\n",
       "    </tr>\n",
       "    <tr>\n",
       "      <th>106</th>\n",
       "      <td>Ведьма</td>\n",
       "      <td>The VVitch: A New-England Folktale</td>\n",
       "      <td>0.188</td>\n",
       "    </tr>\n",
       "    <tr>\n",
       "      <th>0</th>\n",
       "      <td>1+1</td>\n",
       "      <td>Intouchables</td>\n",
       "      <td>0.190</td>\n",
       "    </tr>\n",
       "    <tr>\n",
       "      <th>82</th>\n",
       "      <td>Босс-молокосос 2</td>\n",
       "      <td>The Boss Baby: Family Business</td>\n",
       "      <td>0.198</td>\n",
       "    </tr>\n",
       "    <tr>\n",
       "      <th>42</th>\n",
       "      <td>Анчартед: На картах не значится</td>\n",
       "      <td>Uncharted</td>\n",
       "      <td>0.199</td>\n",
       "    </tr>\n",
       "    <tr>\n",
       "      <th>349</th>\n",
       "      <td>Красавица и дракон</td>\n",
       "      <td>Ryu to Sobakasu no Hime</td>\n",
       "      <td>0.199</td>\n",
       "    </tr>\n",
       "    <tr>\n",
       "      <th>484</th>\n",
       "      <td>Нефть</td>\n",
       "      <td>There Will Be Blood</td>\n",
       "      <td>0.208</td>\n",
       "    </tr>\n",
       "    <tr>\n",
       "      <th>547</th>\n",
       "      <td>Первый встречный</td>\n",
       "      <td>Marry Me</td>\n",
       "      <td>0.211</td>\n",
       "    </tr>\n",
       "    <tr>\n",
       "      <th>297</th>\n",
       "      <td>И грянул шторм</td>\n",
       "      <td>The Finest Hours</td>\n",
       "      <td>0.214</td>\n",
       "    </tr>\n",
       "    <tr>\n",
       "      <th>449</th>\n",
       "      <td>Монстры на каникулах</td>\n",
       "      <td>Hotel Transylvania</td>\n",
       "      <td>0.214</td>\n",
       "    </tr>\n",
       "    <tr>\n",
       "      <th>773</th>\n",
       "      <td>Форсаж 8</td>\n",
       "      <td>The Fate of the Furious</td>\n",
       "      <td>0.217</td>\n",
       "    </tr>\n",
       "    <tr>\n",
       "      <th>215</th>\n",
       "      <td>Дитя погоды</td>\n",
       "      <td>Tenki no ko</td>\n",
       "      <td>0.218</td>\n",
       "    </tr>\n",
       "  </tbody>\n",
       "</table>\n",
       "</div>"
      ],
      "text/plain": [
       "                                 russian_title  \\\n",
       "80                                       Борат   \n",
       "765                   Философы: Урок выживания   \n",
       "507                         Однажды в Ирландии   \n",
       "113                                    Веном 2   \n",
       "311                             Иллюзия обмана   \n",
       "474               Невероятный мир глазами Энцо   \n",
       "810               Человек, который изменил всё   \n",
       "169                  Гарри Хафт: Последний бой   \n",
       "751  Удивительное путешествие доктора Дулиттла   \n",
       "505                              Одинокий волк   \n",
       "55                                     Бёрдмэн   \n",
       "790      Хочу съесть твою поджелудочную железу   \n",
       "648                  Самый пьяный округ в мире   \n",
       "270                  Заклятье: Спуск к дьяволу   \n",
       "588                     Полынь: Дорога мёртвых   \n",
       "784                              Ходячий замок   \n",
       "582                Пол: Секретный материальчик   \n",
       "638                             Реальные упыри   \n",
       "635              Рапунцель: Запутанная история   \n",
       "106                                     Ведьма   \n",
       "0                                          1+1   \n",
       "82                            Босс-молокосос 2   \n",
       "42             Анчартед: На картах не значится   \n",
       "349                         Красавица и дракон   \n",
       "484                                      Нефть   \n",
       "547                           Первый встречный   \n",
       "297                             И грянул шторм   \n",
       "449                       Монстры на каникулах   \n",
       "773                                   Форсаж 8   \n",
       "215                                Дитя погоды   \n",
       "\n",
       "                                        original_title  similarity  \n",
       "80   Borat: Cultural Learnings of America for Make ...       0.033  \n",
       "765                                     After the Dark       0.075  \n",
       "507                                          The Guard       0.104  \n",
       "113                        Venom: Let There Be Carnage       0.112  \n",
       "311                                     Now You See Me       0.127  \n",
       "474                      The Art of Racing in the Rain       0.130  \n",
       "810                                          Moneyball       0.130  \n",
       "169                                       The Survivor       0.141  \n",
       "751                                           Dolittle       0.142  \n",
       "505                                              Clean       0.144  \n",
       "55     Birdman or (The Unexpected Virtue of Ignorance)       0.146  \n",
       "790                           Kimi no suizo wo tabetai       0.158  \n",
       "648                                            Lawless       0.160  \n",
       "270                                         The Cellar       0.163  \n",
       "588                                           Wyrmwood       0.164  \n",
       "784                               Hauru no ugoku shiro       0.166  \n",
       "582                                               Paul       0.169  \n",
       "638                          What We Do in the Shadows       0.169  \n",
       "635                                            Tangled       0.181  \n",
       "106                 The VVitch: A New-England Folktale       0.188  \n",
       "0                                         Intouchables       0.190  \n",
       "82                      The Boss Baby: Family Business       0.198  \n",
       "42                                           Uncharted       0.199  \n",
       "349                            Ryu to Sobakasu no Hime       0.199  \n",
       "484                                There Will Be Blood       0.208  \n",
       "547                                           Marry Me       0.211  \n",
       "297                                   The Finest Hours       0.214  \n",
       "449                                 Hotel Transylvania       0.214  \n",
       "773                            The Fate of the Furious       0.217  \n",
       "215                                        Tenki no ko       0.218  "
      ]
     },
     "metadata": {},
     "output_type": "display_data"
    }
   ],
   "source": [
    "with pd.option_context(\"display.max_rows\", None, \"display.max_columns\", None):\n",
    "    display(similarity_df.sort_values(by=\"similarity\", ascending=True).iloc[:30])"
   ]
  },
  {
   "cell_type": "markdown",
   "id": "31835067-b54c-4f02-ab34-d3561254113c",
   "metadata": {},
   "source": [
    "There are a few cases for dissimilarity:\n",
    "* Russian title is a cropped version of original title:\n",
    "    * Борат::Borat: Cultural Learnings of America for Make Benefit Glorious Nation of Kazakhstan\n",
    "    * Веном 2::Venom: Let There Be Carnage\n",
    "    * Бёрдмэн::Birdman or (The Unexpected Virtue of Ignorance)\n",
    "* Russian title is an extended version of original title:\n",
    "    * Удивительное путешествие доктора Дулиттла::Dolittle\n",
    "    * Пол: Секретный материальчик::Paul\n",
    "    * Рапунцель: Запутанная история::Tangled\n",
    "* Russian title was made up by translators/localizers:\n",
    "    * Невероятный мир глазами Энцо::The Art of Racing in the Rain\n",
    "    * Человек, который изменил всё::Moneyball"
   ]
  },
  {
   "cell_type": "markdown",
   "id": "d5c28ae7-4983-43d6-b94a-1f68a663dfb5",
   "metadata": {},
   "source": [
    "### Similar titles"
   ]
  },
  {
   "cell_type": "code",
   "execution_count": 27,
   "id": "973ebbbe-372b-4ddf-85dd-661fc618d6e2",
   "metadata": {},
   "outputs": [
    {
     "data": {
      "text/html": [
       "<div>\n",
       "<style scoped>\n",
       "    .dataframe tbody tr th:only-of-type {\n",
       "        vertical-align: middle;\n",
       "    }\n",
       "\n",
       "    .dataframe tbody tr th {\n",
       "        vertical-align: top;\n",
       "    }\n",
       "\n",
       "    .dataframe thead th {\n",
       "        text-align: right;\n",
       "    }\n",
       "</style>\n",
       "<table border=\"1\" class=\"dataframe\">\n",
       "  <thead>\n",
       "    <tr style=\"text-align: right;\">\n",
       "      <th></th>\n",
       "      <th>russian_title</th>\n",
       "      <th>original_title</th>\n",
       "      <th>similarity</th>\n",
       "    </tr>\n",
       "  </thead>\n",
       "  <tbody>\n",
       "    <tr>\n",
       "      <th>23</th>\n",
       "      <td>X</td>\n",
       "      <td>X</td>\n",
       "      <td>1.000</td>\n",
       "    </tr>\n",
       "    <tr>\n",
       "      <th>6</th>\n",
       "      <td>1408</td>\n",
       "      <td>1408</td>\n",
       "      <td>1.000</td>\n",
       "    </tr>\n",
       "    <tr>\n",
       "      <th>7</th>\n",
       "      <td>1917</td>\n",
       "      <td>1917</td>\n",
       "      <td>1.000</td>\n",
       "    </tr>\n",
       "    <tr>\n",
       "      <th>10</th>\n",
       "      <td>2012</td>\n",
       "      <td>2012</td>\n",
       "      <td>1.000</td>\n",
       "    </tr>\n",
       "    <tr>\n",
       "      <th>13</th>\n",
       "      <td>365 дней</td>\n",
       "      <td>365 dni</td>\n",
       "      <td>0.997</td>\n",
       "    </tr>\n",
       "    <tr>\n",
       "      <th>708</th>\n",
       "      <td>Тело</td>\n",
       "      <td>El cuerpo</td>\n",
       "      <td>0.990</td>\n",
       "    </tr>\n",
       "    <tr>\n",
       "      <th>578</th>\n",
       "      <td>Пожары</td>\n",
       "      <td>Incendies</td>\n",
       "      <td>0.989</td>\n",
       "    </tr>\n",
       "    <tr>\n",
       "      <th>421</th>\n",
       "      <td>Мама</td>\n",
       "      <td>Mama</td>\n",
       "      <td>0.989</td>\n",
       "    </tr>\n",
       "    <tr>\n",
       "      <th>466</th>\n",
       "      <td>Назад в будущее</td>\n",
       "      <td>Back to the Future</td>\n",
       "      <td>0.982</td>\n",
       "    </tr>\n",
       "    <tr>\n",
       "      <th>21</th>\n",
       "      <td>Kingsman: Секретная служба</td>\n",
       "      <td>Kingsman: The Secret Service</td>\n",
       "      <td>0.982</td>\n",
       "    </tr>\n",
       "    <tr>\n",
       "      <th>579</th>\n",
       "      <td>Поиск</td>\n",
       "      <td>Searching</td>\n",
       "      <td>0.977</td>\n",
       "    </tr>\n",
       "    <tr>\n",
       "      <th>502</th>\n",
       "      <td>Один день</td>\n",
       "      <td>One Day</td>\n",
       "      <td>0.977</td>\n",
       "    </tr>\n",
       "    <tr>\n",
       "      <th>287</th>\n",
       "      <td>Зеленая книга</td>\n",
       "      <td>Green Book</td>\n",
       "      <td>0.975</td>\n",
       "    </tr>\n",
       "    <tr>\n",
       "      <th>384</th>\n",
       "      <td>Лето 84</td>\n",
       "      <td>Summer of 84</td>\n",
       "      <td>0.974</td>\n",
       "    </tr>\n",
       "    <tr>\n",
       "      <th>486</th>\n",
       "      <td>Никто</td>\n",
       "      <td>Nobody</td>\n",
       "      <td>0.973</td>\n",
       "    </tr>\n",
       "    <tr>\n",
       "      <th>338</th>\n",
       "      <td>Контакт</td>\n",
       "      <td>Contact</td>\n",
       "      <td>0.973</td>\n",
       "    </tr>\n",
       "    <tr>\n",
       "      <th>375</th>\n",
       "      <td>Легенда</td>\n",
       "      <td>Legend</td>\n",
       "      <td>0.972</td>\n",
       "    </tr>\n",
       "    <tr>\n",
       "      <th>539</th>\n",
       "      <td>Параллельные матери</td>\n",
       "      <td>Madres paralelas</td>\n",
       "      <td>0.971</td>\n",
       "    </tr>\n",
       "    <tr>\n",
       "      <th>84</th>\n",
       "      <td>Братья</td>\n",
       "      <td>Brothers</td>\n",
       "      <td>0.971</td>\n",
       "    </tr>\n",
       "    <tr>\n",
       "      <th>422</th>\n",
       "      <td>мама!</td>\n",
       "      <td>mother!</td>\n",
       "      <td>0.970</td>\n",
       "    </tr>\n",
       "    <tr>\n",
       "      <th>499</th>\n",
       "      <td>Общество мертвых поэтов</td>\n",
       "      <td>Dead Poets Society</td>\n",
       "      <td>0.970</td>\n",
       "    </tr>\n",
       "    <tr>\n",
       "      <th>802</th>\n",
       "      <td>Чёрный телефон</td>\n",
       "      <td>The Black Phone</td>\n",
       "      <td>0.968</td>\n",
       "    </tr>\n",
       "    <tr>\n",
       "      <th>607</th>\n",
       "      <td>Преступления будущего</td>\n",
       "      <td>Crimes of the Future</td>\n",
       "      <td>0.968</td>\n",
       "    </tr>\n",
       "    <tr>\n",
       "      <th>675</th>\n",
       "      <td>Социальная сеть</td>\n",
       "      <td>The Social Network</td>\n",
       "      <td>0.968</td>\n",
       "    </tr>\n",
       "    <tr>\n",
       "      <th>336</th>\n",
       "      <td>Код 8</td>\n",
       "      <td>Code 8</td>\n",
       "      <td>0.968</td>\n",
       "    </tr>\n",
       "    <tr>\n",
       "      <th>353</th>\n",
       "      <td>Красота по-американски</td>\n",
       "      <td>American Beauty</td>\n",
       "      <td>0.967</td>\n",
       "    </tr>\n",
       "    <tr>\n",
       "      <th>655</th>\n",
       "      <td>Семь психопатов</td>\n",
       "      <td>Seven Psychopaths</td>\n",
       "      <td>0.966</td>\n",
       "    </tr>\n",
       "    <tr>\n",
       "      <th>415</th>\n",
       "      <td>Маленькие женщины</td>\n",
       "      <td>Little Women</td>\n",
       "      <td>0.965</td>\n",
       "    </tr>\n",
       "    <tr>\n",
       "      <th>188</th>\n",
       "      <td>Гравитация</td>\n",
       "      <td>Gravity</td>\n",
       "      <td>0.964</td>\n",
       "    </tr>\n",
       "    <tr>\n",
       "      <th>97</th>\n",
       "      <td>В сердце моря</td>\n",
       "      <td>In the Heart of the Sea</td>\n",
       "      <td>0.962</td>\n",
       "    </tr>\n",
       "  </tbody>\n",
       "</table>\n",
       "</div>"
      ],
      "text/plain": [
       "                  russian_title                original_title  similarity\n",
       "23                            X                             X       1.000\n",
       "6                          1408                          1408       1.000\n",
       "7                          1917                          1917       1.000\n",
       "10                         2012                          2012       1.000\n",
       "13                     365 дней                       365 dni       0.997\n",
       "708                        Тело                     El cuerpo       0.990\n",
       "578                      Пожары                     Incendies       0.989\n",
       "421                        Мама                          Mama       0.989\n",
       "466             Назад в будущее            Back to the Future       0.982\n",
       "21   Kingsman: Секретная служба  Kingsman: The Secret Service       0.982\n",
       "579                       Поиск                     Searching       0.977\n",
       "502                   Один день                       One Day       0.977\n",
       "287               Зеленая книга                    Green Book       0.975\n",
       "384                     Лето 84                  Summer of 84       0.974\n",
       "486                       Никто                        Nobody       0.973\n",
       "338                     Контакт                       Contact       0.973\n",
       "375                     Легенда                        Legend       0.972\n",
       "539         Параллельные матери              Madres paralelas       0.971\n",
       "84                       Братья                      Brothers       0.971\n",
       "422                       мама!                       mother!       0.970\n",
       "499     Общество мертвых поэтов            Dead Poets Society       0.970\n",
       "802              Чёрный телефон               The Black Phone       0.968\n",
       "607       Преступления будущего          Crimes of the Future       0.968\n",
       "675             Социальная сеть            The Social Network       0.968\n",
       "336                       Код 8                        Code 8       0.968\n",
       "353      Красота по-американски               American Beauty       0.967\n",
       "655             Семь психопатов             Seven Psychopaths       0.966\n",
       "415           Маленькие женщины                  Little Women       0.965\n",
       "188                  Гравитация                       Gravity       0.964\n",
       "97                В сердце моря       In the Heart of the Sea       0.962"
      ]
     },
     "metadata": {},
     "output_type": "display_data"
    }
   ],
   "source": [
    "with pd.option_context(\"display.max_rows\", None, \"display.max_columns\", None):\n",
    "    display(similarity_df.sort_values(by=\"similarity\", ascending=False).iloc[:30])"
   ]
  },
  {
   "cell_type": "markdown",
   "id": "b6fe4c7e-cb1e-4554-8d09-d298da853361",
   "metadata": {},
   "source": [
    "Similar titles are easier - they are almost literal translation of original title. "
   ]
  },
  {
   "cell_type": "markdown",
   "id": "ae39491c-8312-4a55-b075-763bbf7dced8",
   "metadata": {},
   "source": [
    "## Things to do"
   ]
  },
  {
   "cell_type": "markdown",
   "id": "e0caa610-41a1-408b-a72f-8ba8d125342d",
   "metadata": {},
   "source": [
    "* Visualization:\n",
    "    * [Visualizing Embeddings With t-SNE](https://www.kaggle.com/code/colinmorris/visualizing-embeddings-with-t-sne/notebook)"
   ]
  },
  {
   "cell_type": "code",
   "execution_count": null,
   "id": "9ae3c4ef-08dd-4148-8363-cd55ce51a0db",
   "metadata": {},
   "outputs": [],
   "source": []
  }
 ],
 "metadata": {
  "kernelspec": {
   "display_name": "movie_reviews",
   "language": "python",
   "name": "movie_reviews"
  },
  "language_info": {
   "codemirror_mode": {
    "name": "ipython",
    "version": 3
   },
   "file_extension": ".py",
   "mimetype": "text/x-python",
   "name": "python",
   "nbconvert_exporter": "python",
   "pygments_lexer": "ipython3",
   "version": "3.8.10"
  },
  "toc-autonumbering": false
 },
 "nbformat": 4,
 "nbformat_minor": 5
}
