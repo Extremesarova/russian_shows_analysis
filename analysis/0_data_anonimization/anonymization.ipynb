{
 "cells": [
  {
   "cell_type": "markdown",
   "id": "7fd2559f-2d5e-4f18-8413-2c006aaa6d5a",
   "metadata": {},
   "source": [
    "# Data anonymization"
   ]
  },
  {
   "cell_type": "markdown",
   "id": "ef428d1c-1d0b-4c75-8b5f-f47ef09f25e7",
   "metadata": {},
   "source": [
    "The goal of this ..."
   ]
  },
  {
   "cell_type": "markdown",
   "id": "63a57abc-66c6-4981-8c20-e682a9b1ea0c",
   "metadata": {},
   "source": [
    "## Imports"
   ]
  },
  {
   "cell_type": "code",
   "execution_count": 24,
   "id": "588ddb20-51c8-461d-b0cb-a43915e49f82",
   "metadata": {},
   "outputs": [],
   "source": [
    "import numpy as np\n",
    "import pandas as pd"
   ]
  },
  {
   "cell_type": "code",
   "execution_count": 2,
   "id": "71a61da2-81ab-4975-8208-4a5980c16cf5",
   "metadata": {},
   "outputs": [],
   "source": [
    "SEED = 42"
   ]
  },
  {
   "cell_type": "markdown",
   "id": "75b3fd8b-88d2-4671-bc4f-3496d86a710c",
   "metadata": {},
   "source": [
    "## Data"
   ]
  },
  {
   "cell_type": "markdown",
   "id": "a77da19c-dbcf-4e4a-8f3b-528bd7aaa05a",
   "metadata": {},
   "source": [
    "### Loading data"
   ]
  },
  {
   "cell_type": "code",
   "execution_count": 139,
   "id": "09020fe0-360b-4c76-abc5-6aefafd87c99",
   "metadata": {},
   "outputs": [
    {
     "data": {
      "text/plain": [
       "(171094, 8)"
      ]
     },
     "execution_count": 139,
     "metadata": {},
     "output_type": "execute_result"
    }
   ],
   "source": [
    "movies_reviews_df = pd.read_parquet(\"../../data/movies_reviews.parquet\")\n",
    "movies_reviews_df.shape"
   ]
  },
  {
   "cell_type": "code",
   "execution_count": 140,
   "id": "2930142f-9402-41d6-be99-4adcb3e2ac2e",
   "metadata": {},
   "outputs": [
    {
     "data": {
      "text/plain": [
       "(35643, 8)"
      ]
     },
     "execution_count": 140,
     "metadata": {},
     "output_type": "execute_result"
    }
   ],
   "source": [
    "series_reviews_df = pd.read_parquet(\"../../data/series_reviews.parquet\")\n",
    "series_reviews_df.shape"
   ]
  },
  {
   "cell_type": "code",
   "execution_count": 141,
   "id": "e417e261-b674-49ea-93b2-54c2f1f65d8c",
   "metadata": {},
   "outputs": [
    {
     "data": {
      "text/plain": [
       "(984, 43)"
      ]
     },
     "execution_count": 141,
     "metadata": {},
     "output_type": "execute_result"
    }
   ],
   "source": [
    "movies_info_df = pd.read_parquet(\"../../data/movies_info.parquet\")\n",
    "movies_info_df.shape"
   ]
  },
  {
   "cell_type": "code",
   "execution_count": 142,
   "id": "eadf4b6c-9061-4803-9f7e-a4bc0eece8e3",
   "metadata": {},
   "outputs": [
    {
     "data": {
      "text/plain": [
       "(978, 43)"
      ]
     },
     "execution_count": 142,
     "metadata": {},
     "output_type": "execute_result"
    }
   ],
   "source": [
    "series_info_df = pd.read_parquet(\"../../data/series_info.parquet\")\n",
    "series_info_df.shape"
   ]
  },
  {
   "cell_type": "markdown",
   "id": "afc236fa-770a-4b79-9aea-7df7d6a4b9b2",
   "metadata": {},
   "source": [
    "## Looking at data"
   ]
  },
  {
   "cell_type": "markdown",
   "id": "89124785-619a-4143-add0-0cd9918ae154",
   "metadata": {},
   "source": [
    "### Info"
   ]
  },
  {
   "cell_type": "code",
   "execution_count": 143,
   "id": "488b136e-a6a6-40b6-8614-95edaf831139",
   "metadata": {},
   "outputs": [
    {
     "data": {
      "text/html": [
       "<div>\n",
       "<style scoped>\n",
       "    .dataframe tbody tr th:only-of-type {\n",
       "        vertical-align: middle;\n",
       "    }\n",
       "\n",
       "    .dataframe tbody tr th {\n",
       "        vertical-align: top;\n",
       "    }\n",
       "\n",
       "    .dataframe thead th {\n",
       "        text-align: right;\n",
       "    }\n",
       "</style>\n",
       "<table border=\"1\" class=\"dataframe\">\n",
       "  <thead>\n",
       "    <tr style=\"text-align: right;\">\n",
       "      <th></th>\n",
       "      <th>id</th>\n",
       "      <th>russian_title</th>\n",
       "      <th>original_title</th>\n",
       "      <th>actors</th>\n",
       "      <th>voice_actors</th>\n",
       "      <th>year</th>\n",
       "      <th>country</th>\n",
       "      <th>genre</th>\n",
       "      <th>slogan</th>\n",
       "      <th>director</th>\n",
       "      <th>...</th>\n",
       "      <th>rating_kinopoisk</th>\n",
       "      <th>rating_count_kinopoisk</th>\n",
       "      <th>rating_imdb</th>\n",
       "      <th>rating_count_imdb</th>\n",
       "      <th>synopsis</th>\n",
       "      <th>world_critics_percentage</th>\n",
       "      <th>world_critics_star_value</th>\n",
       "      <th>world_critics_number_of_reviews</th>\n",
       "      <th>russian_critics_percentage</th>\n",
       "      <th>russian_critics_number_of_reviews</th>\n",
       "    </tr>\n",
       "  </thead>\n",
       "  <tbody>\n",
       "    <tr>\n",
       "      <th>0</th>\n",
       "      <td>535341</td>\n",
       "      <td>1+1 (2011)</td>\n",
       "      <td>Intouchables</td>\n",
       "      <td>[Франсуа Клюзе, Омар Си, Анн Ле Ни, Одри Флеро...</td>\n",
       "      <td>[Владимир Зайцев, Илья Исаев, Елена Соловьева,...</td>\n",
       "      <td>2011</td>\n",
       "      <td>Франция</td>\n",
       "      <td>драма, комедия, биография</td>\n",
       "      <td>«Sometimes you have to reach into someone else...</td>\n",
       "      <td>Оливье Накаш, Эрик Толедано</td>\n",
       "      <td>...</td>\n",
       "      <td>8.8</td>\n",
       "      <td>1 392 175 оценок</td>\n",
       "      <td>IMDb: 8.50</td>\n",
       "      <td>825 895 оценок</td>\n",
       "      <td>Пострадав в результате несчастного случая, бог...</td>\n",
       "      <td>75%</td>\n",
       "      <td>6.8</td>\n",
       "      <td>130 оценок</td>\n",
       "      <td>100%</td>\n",
       "      <td>12 оценок</td>\n",
       "    </tr>\n",
       "    <tr>\n",
       "      <th>1</th>\n",
       "      <td>11130</td>\n",
       "      <td>10 причин моей ненависти (1999)</td>\n",
       "      <td>10 Things I Hate About You</td>\n",
       "      <td>[Хит Леджер, Джулия Стайлз, Джозеф Гордон-Леви...</td>\n",
       "      <td>[]</td>\n",
       "      <td>1999</td>\n",
       "      <td>США</td>\n",
       "      <td>драма, мелодрама, комедия</td>\n",
       "      <td>«I pine, I perish!»</td>\n",
       "      <td>Джил Джангер</td>\n",
       "      <td>...</td>\n",
       "      <td>7.8</td>\n",
       "      <td>118 427 оценок</td>\n",
       "      <td>IMDb: 7.30</td>\n",
       "      <td>328 973 оценки</td>\n",
       "      <td>Строгий отец поставил условие: Бьянка пойдет н...</td>\n",
       "      <td>70%</td>\n",
       "      <td>6.2</td>\n",
       "      <td>79 оценок</td>\n",
       "      <td></td>\n",
       "      <td></td>\n",
       "    </tr>\n",
       "    <tr>\n",
       "      <th>2</th>\n",
       "      <td>606646</td>\n",
       "      <td>12 лет рабства (2013)</td>\n",
       "      <td>12 Years a Slave</td>\n",
       "      <td>[Чиветель Эджиофор, Майкл Фассбендер, Лупита Н...</td>\n",
       "      <td>[Денис Беспалый, Илья Исаев, Вероника Саркисов...</td>\n",
       "      <td>2013</td>\n",
       "      <td>США, Великобритания</td>\n",
       "      <td>драма, биография, история</td>\n",
       "      <td>«The extraordinary true story of Solomon Northup»</td>\n",
       "      <td>Стив МакКуин</td>\n",
       "      <td>...</td>\n",
       "      <td>7.7</td>\n",
       "      <td>221 399 оценок</td>\n",
       "      <td>IMDb: 8.10</td>\n",
       "      <td>684 062 оценки</td>\n",
       "      <td>Соломон Нортап был женатым и образованным мужч...</td>\n",
       "      <td>95%</td>\n",
       "      <td>8.9</td>\n",
       "      <td>376 оценок</td>\n",
       "      <td>89%</td>\n",
       "      <td>27 оценок</td>\n",
       "    </tr>\n",
       "    <tr>\n",
       "      <th>3</th>\n",
       "      <td>502</td>\n",
       "      <td>12 обезьян (1995)</td>\n",
       "      <td>Twelve Monkeys</td>\n",
       "      <td>[Брюс Уиллис, Мэделин Стоу, Брэд Питт, Кристоф...</td>\n",
       "      <td>[Алексей Иващенко, Марианна Шульц, Всеволод Ку...</td>\n",
       "      <td>1995</td>\n",
       "      <td>США</td>\n",
       "      <td>фантастика, триллер, детектив</td>\n",
       "      <td>«Когда будущее становится историей»</td>\n",
       "      <td>Терри Гиллиам</td>\n",
       "      <td>...</td>\n",
       "      <td>7.8</td>\n",
       "      <td>139 294 оценки</td>\n",
       "      <td>IMDb: 8.00</td>\n",
       "      <td>607 807 оценок</td>\n",
       "      <td>2035 год... Чудовищный, неизлечимый вирус унич...</td>\n",
       "      <td>88%</td>\n",
       "      <td>7.6</td>\n",
       "      <td>74 оценки</td>\n",
       "      <td></td>\n",
       "      <td></td>\n",
       "    </tr>\n",
       "    <tr>\n",
       "      <th>4</th>\n",
       "      <td>346</td>\n",
       "      <td>12 разгневанных мужчин (1956)</td>\n",
       "      <td>12 Angry Men</td>\n",
       "      <td>[Генри Фонда, Мартин Болсам, Ли Дж. Кобб, Джоз...</td>\n",
       "      <td>[Борис Кордунов, Олег Голубицкий, Михаил Погор...</td>\n",
       "      <td>1956</td>\n",
       "      <td>США</td>\n",
       "      <td>драма, детектив, криминал</td>\n",
       "      <td>«they have twelve scraps of paper... twelve ch...</td>\n",
       "      <td>Сидни Люмет</td>\n",
       "      <td>...</td>\n",
       "      <td>8.5</td>\n",
       "      <td>114 157 оценок</td>\n",
       "      <td>IMDb: 9.00</td>\n",
       "      <td>762 170 оценок</td>\n",
       "      <td>Юношу обвиняют в убийстве собственного отца, е...</td>\n",
       "      <td>100%</td>\n",
       "      <td>9.1</td>\n",
       "      <td>58 оценок</td>\n",
       "      <td>–</td>\n",
       "      <td>1 оценка</td>\n",
       "    </tr>\n",
       "  </tbody>\n",
       "</table>\n",
       "<p>5 rows × 43 columns</p>\n",
       "</div>"
      ],
      "text/plain": [
       "       id                    russian_title              original_title  \\\n",
       "0  535341                       1+1 (2011)                Intouchables   \n",
       "1   11130  10 причин моей ненависти (1999)  10 Things I Hate About You   \n",
       "2  606646            12 лет рабства (2013)            12 Years a Slave   \n",
       "3     502                12 обезьян (1995)              Twelve Monkeys   \n",
       "4     346    12 разгневанных мужчин (1956)                12 Angry Men   \n",
       "\n",
       "                                              actors  \\\n",
       "0  [Франсуа Клюзе, Омар Си, Анн Ле Ни, Одри Флеро...   \n",
       "1  [Хит Леджер, Джулия Стайлз, Джозеф Гордон-Леви...   \n",
       "2  [Чиветель Эджиофор, Майкл Фассбендер, Лупита Н...   \n",
       "3  [Брюс Уиллис, Мэделин Стоу, Брэд Питт, Кристоф...   \n",
       "4  [Генри Фонда, Мартин Болсам, Ли Дж. Кобб, Джоз...   \n",
       "\n",
       "                                        voice_actors  year  \\\n",
       "0  [Владимир Зайцев, Илья Исаев, Елена Соловьева,...  2011   \n",
       "1                                                 []  1999   \n",
       "2  [Денис Беспалый, Илья Исаев, Вероника Саркисов...  2013   \n",
       "3  [Алексей Иващенко, Марианна Шульц, Всеволод Ку...  1995   \n",
       "4  [Борис Кордунов, Олег Голубицкий, Михаил Погор...  1956   \n",
       "\n",
       "               country                          genre  \\\n",
       "0              Франция      драма, комедия, биография   \n",
       "1                  США      драма, мелодрама, комедия   \n",
       "2  США, Великобритания      драма, биография, история   \n",
       "3                  США  фантастика, триллер, детектив   \n",
       "4                  США      драма, детектив, криминал   \n",
       "\n",
       "                                              slogan  \\\n",
       "0  «Sometimes you have to reach into someone else...   \n",
       "1                                «I pine, I perish!»   \n",
       "2  «The extraordinary true story of Solomon Northup»   \n",
       "3                «Когда будущее становится историей»   \n",
       "4  «they have twelve scraps of paper... twelve ch...   \n",
       "\n",
       "                      director  ... rating_kinopoisk rating_count_kinopoisk  \\\n",
       "0  Оливье Накаш, Эрик Толедано  ...              8.8       1 392 175 оценок   \n",
       "1                 Джил Джангер  ...              7.8         118 427 оценок   \n",
       "2                 Стив МакКуин  ...              7.7         221 399 оценок   \n",
       "3                Терри Гиллиам  ...              7.8         139 294 оценки   \n",
       "4                  Сидни Люмет  ...              8.5         114 157 оценок   \n",
       "\n",
       "  rating_imdb rating_count_imdb  \\\n",
       "0  IMDb: 8.50    825 895 оценок   \n",
       "1  IMDb: 7.30    328 973 оценки   \n",
       "2  IMDb: 8.10    684 062 оценки   \n",
       "3  IMDb: 8.00    607 807 оценок   \n",
       "4  IMDb: 9.00    762 170 оценок   \n",
       "\n",
       "                                            synopsis world_critics_percentage  \\\n",
       "0  Пострадав в результате несчастного случая, бог...                      75%   \n",
       "1  Строгий отец поставил условие: Бьянка пойдет н...                      70%   \n",
       "2  Соломон Нортап был женатым и образованным мужч...                      95%   \n",
       "3  2035 год... Чудовищный, неизлечимый вирус унич...                      88%   \n",
       "4  Юношу обвиняют в убийстве собственного отца, е...                     100%   \n",
       "\n",
       "  world_critics_star_value world_critics_number_of_reviews  \\\n",
       "0                      6.8                      130 оценок   \n",
       "1                      6.2                       79 оценок   \n",
       "2                      8.9                      376 оценок   \n",
       "3                      7.6                       74 оценки   \n",
       "4                      9.1                       58 оценок   \n",
       "\n",
       "  russian_critics_percentage russian_critics_number_of_reviews  \n",
       "0                       100%                         12 оценок  \n",
       "1                                                               \n",
       "2                        89%                         27 оценок  \n",
       "3                                                               \n",
       "4                          –                          1 оценка  \n",
       "\n",
       "[5 rows x 43 columns]"
      ]
     },
     "execution_count": 143,
     "metadata": {},
     "output_type": "execute_result"
    }
   ],
   "source": [
    "movies_info_df.head()"
   ]
  },
  {
   "cell_type": "markdown",
   "id": "5c958141-5077-408a-bab2-32f28303bcd9",
   "metadata": {},
   "source": [
    "For info datasets we are OK."
   ]
  },
  {
   "cell_type": "markdown",
   "id": "b1855de6-e446-47f1-a810-663078ffb39f",
   "metadata": {},
   "source": [
    "### Reviews"
   ]
  },
  {
   "cell_type": "code",
   "execution_count": 144,
   "id": "4e4604e1-2c3b-4e88-bc2f-c8c6fcd55bc2",
   "metadata": {},
   "outputs": [
    {
     "data": {
      "text/html": [
       "<div>\n",
       "<style scoped>\n",
       "    .dataframe tbody tr th:only-of-type {\n",
       "        vertical-align: middle;\n",
       "    }\n",
       "\n",
       "    .dataframe tbody tr th {\n",
       "        vertical-align: top;\n",
       "    }\n",
       "\n",
       "    .dataframe thead th {\n",
       "        text-align: right;\n",
       "    }\n",
       "</style>\n",
       "<table border=\"1\" class=\"dataframe\">\n",
       "  <thead>\n",
       "    <tr style=\"text-align: right;\">\n",
       "      <th></th>\n",
       "      <th>show_id</th>\n",
       "      <th>username</th>\n",
       "      <th>datetime</th>\n",
       "      <th>sentiment</th>\n",
       "      <th>subtitle</th>\n",
       "      <th>review_body</th>\n",
       "      <th>usefulness_ratio</th>\n",
       "      <th>direct_link</th>\n",
       "    </tr>\n",
       "  </thead>\n",
       "  <tbody>\n",
       "    <tr>\n",
       "      <th>0</th>\n",
       "      <td>277328</td>\n",
       "      <td>ilbarskov - 5279</td>\n",
       "      <td>16 февраля 2022 11:21</td>\n",
       "      <td>good</td>\n",
       "      <td>Достойное зрелище!</td>\n",
       "      <td>Варкрафт снял отличный режиссёр Данкан Джонс, ...</td>\n",
       "      <td>0 / 1</td>\n",
       "      <td>https://www.kinopoisk.ru/user/39222536/comment...</td>\n",
       "    </tr>\n",
       "    <tr>\n",
       "      <th>1</th>\n",
       "      <td>277328</td>\n",
       "      <td>Егор Стрелецкий - 6855</td>\n",
       "      <td>09 ноября 2021 11:47</td>\n",
       "      <td>good</td>\n",
       "      <td>«Ломать, колотить»</td>\n",
       "      <td>По странному стечению обстоятельств Варкрафт н...</td>\n",
       "      <td>2 / 5</td>\n",
       "      <td>https://www.kinopoisk.ru/user/90478727/comment...</td>\n",
       "    </tr>\n",
       "    <tr>\n",
       "      <th>2</th>\n",
       "      <td>277328</td>\n",
       "      <td>LapinPetrr</td>\n",
       "      <td>21 октября 2021 12:05</td>\n",
       "      <td>good</td>\n",
       "      <td>Лок`Тар огар!</td>\n",
       "      <td>Когда-то Blizzard была прекрасной компанией, к...</td>\n",
       "      <td>2 / 3</td>\n",
       "      <td>https://www.kinopoisk.ru/user/66435781/comment...</td>\n",
       "    </tr>\n",
       "    <tr>\n",
       "      <th>3</th>\n",
       "      <td>277328</td>\n",
       "      <td>vEnomanka</td>\n",
       "      <td>22 сентября 2021 23:58</td>\n",
       "      <td>bad</td>\n",
       "      <td>Маляры из студии Близзард</td>\n",
       "      <td>Среди отрицательных рецензий много критики сце...</td>\n",
       "      <td>6 / 16</td>\n",
       "      <td>https://www.kinopoisk.ru/user/3351738/comment/...</td>\n",
       "    </tr>\n",
       "    <tr>\n",
       "      <th>4</th>\n",
       "      <td>277328</td>\n",
       "      <td>Cooper_HD</td>\n",
       "      <td>08 июля 2021 01:06</td>\n",
       "      <td>good</td>\n",
       "      <td>Непонятый новый мир!</td>\n",
       "      <td>Долго я обходил данную площадку в составлении ...</td>\n",
       "      <td>4 / 6</td>\n",
       "      <td>https://www.kinopoisk.ru/user/4348938/comment/...</td>\n",
       "    </tr>\n",
       "  </tbody>\n",
       "</table>\n",
       "</div>"
      ],
      "text/plain": [
       "   show_id                username                datetime sentiment  \\\n",
       "0   277328        ilbarskov - 5279   16 февраля 2022 11:21      good   \n",
       "1   277328  Егор Стрелецкий - 6855    09 ноября 2021 11:47      good   \n",
       "2   277328              LapinPetrr   21 октября 2021 12:05      good   \n",
       "3   277328               vEnomanka  22 сентября 2021 23:58       bad   \n",
       "4   277328               Cooper_HD      08 июля 2021 01:06      good   \n",
       "\n",
       "                    subtitle  \\\n",
       "0         Достойное зрелище!   \n",
       "1         «Ломать, колотить»   \n",
       "2              Лок`Тар огар!   \n",
       "3  Маляры из студии Близзард   \n",
       "4       Непонятый новый мир!   \n",
       "\n",
       "                                         review_body usefulness_ratio  \\\n",
       "0  Варкрафт снял отличный режиссёр Данкан Джонс, ...            0 / 1   \n",
       "1  По странному стечению обстоятельств Варкрафт н...            2 / 5   \n",
       "2  Когда-то Blizzard была прекрасной компанией, к...            2 / 3   \n",
       "3  Среди отрицательных рецензий много критики сце...           6 / 16   \n",
       "4  Долго я обходил данную площадку в составлении ...            4 / 6   \n",
       "\n",
       "                                         direct_link  \n",
       "0  https://www.kinopoisk.ru/user/39222536/comment...  \n",
       "1  https://www.kinopoisk.ru/user/90478727/comment...  \n",
       "2  https://www.kinopoisk.ru/user/66435781/comment...  \n",
       "3  https://www.kinopoisk.ru/user/3351738/comment/...  \n",
       "4  https://www.kinopoisk.ru/user/4348938/comment/...  "
      ]
     },
     "execution_count": 144,
     "metadata": {},
     "output_type": "execute_result"
    }
   ],
   "source": [
    "movies_reviews_df.head()"
   ]
  },
  {
   "cell_type": "markdown",
   "id": "70c37af8-288b-4100-bdb3-74290de1be5c",
   "metadata": {},
   "source": [
    "For reviews dataset we have to map usernames to user IDs and drop direct link column.  "
   ]
  },
  {
   "cell_type": "markdown",
   "id": "aad852b3-75bd-42de-9672-c0b6fd8f04a4",
   "metadata": {},
   "source": [
    "### Working with usernames"
   ]
  },
  {
   "cell_type": "markdown",
   "id": "062ed0f1-65b0-4166-9ee4-58d78b6592cf",
   "metadata": {},
   "source": [
    "#### Reading"
   ]
  },
  {
   "cell_type": "markdown",
   "id": "4717a011-c9c9-4272-8d47-e2e947561863",
   "metadata": {},
   "source": [
    "Let's read all usernames under which users left their reviews for both movies and series"
   ]
  },
  {
   "cell_type": "code",
   "execution_count": 145,
   "id": "f5aac25c-5cc3-4eec-b448-844e95aef784",
   "metadata": {},
   "outputs": [
    {
     "data": {
      "text/plain": [
       "(171094, 35643)"
      ]
     },
     "execution_count": 145,
     "metadata": {},
     "output_type": "execute_result"
    }
   ],
   "source": [
    "movies_reviews_users = movies_reviews_df[\"username\"].values\n",
    "series_reviews_users = series_reviews_df[\"username\"].values\n",
    "len(movies_reviews_users), len(series_reviews_users)"
   ]
  },
  {
   "cell_type": "markdown",
   "id": "7f05f424-b93d-40d5-a802-f4b6a6aedfdb",
   "metadata": {},
   "source": [
    "#### Merging"
   ]
  },
  {
   "cell_type": "markdown",
   "id": "f53a9dee-1720-45fd-8a0c-5206cf3b2897",
   "metadata": {},
   "source": [
    "Let's merge them, drop duplicates and sort them"
   ]
  },
  {
   "cell_type": "code",
   "execution_count": 146,
   "id": "d2aa217b-9bec-460e-bd74-3968e88410dd",
   "metadata": {},
   "outputs": [
    {
     "data": {
      "text/plain": [
       "69166"
      ]
     },
     "execution_count": 146,
     "metadata": {},
     "output_type": "execute_result"
    }
   ],
   "source": [
    "users = sorted(list(set(np.concatenate((movies_reviews_users, series_reviews_users)))))\n",
    "len(users)"
   ]
  },
  {
   "cell_type": "markdown",
   "id": "738d2a2a-85ce-4a35-850e-049141ac0316",
   "metadata": {},
   "source": [
    "#### Checking"
   ]
  },
  {
   "cell_type": "code",
   "execution_count": 147,
   "id": "b3fa009f-2fb7-44e8-982b-b2e60141e7a9",
   "metadata": {},
   "outputs": [
    {
     "data": {
      "text/plain": [
       "['',\n",
       " '\\narthurkaf\\n',\n",
       " '-Barsuk-',\n",
       " 'Adomaltin',\n",
       " 'Alice Cosmo',\n",
       " 'Ann672',\n",
       " 'Astrid-Flora',\n",
       " 'Bladezer Lockers Man',\n",
       " 'Child of Lonely Star',\n",
       " 'Dania_Lux',\n",
       " 'DikCinema',\n",
       " 'Eh_sasha_sasha',\n",
       " 'FKNSS',\n",
       " 'Galateya7',\n",
       " 'Hank Betelgeuse',\n",
       " 'Imni',\n",
       " 'Jimenes',\n",
       " 'KateMoseeva',\n",
       " 'Krimbley',\n",
       " 'Leo Naphta',\n",
       " 'LsySugar',\n",
       " 'Marina Lemann',\n",
       " 'Mikhail Khorpyakov',\n",
       " 'MsOlya',\n",
       " 'NewTom2015',\n",
       " 'Omoroge',\n",
       " 'Pollyyuhan',\n",
       " 'Reina_del_crepusculo',\n",
       " 'SUPERNATURALFOREVER',\n",
       " 'Shakesbeer',\n",
       " 'Sophie Pashkina',\n",
       " 'TOX_SIN',\n",
       " 'TonyAmigos',\n",
       " 'Vedimir',\n",
       " 'WildesTier',\n",
       " 'Zuzuka_zEro',\n",
       " 'alex_cheredov',\n",
       " 'antonpan',\n",
       " 'benjoker',\n",
       " 'cinema-life-man',\n",
       " 'densmr',\n",
       " 'elen_pogodina',\n",
       " 'fona_t',\n",
       " 'habhaus',\n",
       " 'irina2446urakova',\n",
       " 'katrinaklimina',\n",
       " 'kritik16',\n",
       " 'lisnyak.polina',\n",
       " 'markkil2012',\n",
       " 'molora',\n",
       " 'nick_v',\n",
       " 'p4ggiswon@gmail.com',\n",
       " 'quoze',\n",
       " 'samoylovmichael',\n",
       " 'skvair',\n",
       " 'sweet_bait',\n",
       " 'twitter:Anika_tv',\n",
       " 'vk-20027013:Максим Сопильняк',\n",
       " 'yammyspot',\n",
       " 'Александр Толомоненко',\n",
       " 'Арсений93',\n",
       " 'Волчица Воды',\n",
       " 'Дмитрий Шамонов',\n",
       " 'Ипохондрик',\n",
       " 'Леонтьева Лиза',\n",
       " 'Морская брюнетка',\n",
       " 'Пиявочник',\n",
       " 'Солнце_в_кармане',\n",
       " 'Шутниг',\n",
       " 'слушая тишину']"
      ]
     },
     "execution_count": 147,
     "metadata": {},
     "output_type": "execute_result"
    }
   ],
   "source": [
    "users[::1000]"
   ]
  },
  {
   "cell_type": "markdown",
   "id": "fbbbcc4d-f59b-4339-9636-460aa5789eb0",
   "metadata": {},
   "source": [
    "Empty string is something we want to avoid - let's look at the data"
   ]
  },
  {
   "cell_type": "code",
   "execution_count": 148,
   "id": "c8fb519e-b7f2-4593-953a-314de2507c19",
   "metadata": {},
   "outputs": [
    {
     "data": {
      "text/html": [
       "<div>\n",
       "<style scoped>\n",
       "    .dataframe tbody tr th:only-of-type {\n",
       "        vertical-align: middle;\n",
       "    }\n",
       "\n",
       "    .dataframe tbody tr th {\n",
       "        vertical-align: top;\n",
       "    }\n",
       "\n",
       "    .dataframe thead th {\n",
       "        text-align: right;\n",
       "    }\n",
       "</style>\n",
       "<table border=\"1\" class=\"dataframe\">\n",
       "  <thead>\n",
       "    <tr style=\"text-align: right;\">\n",
       "      <th></th>\n",
       "      <th>show_id</th>\n",
       "      <th>username</th>\n",
       "      <th>datetime</th>\n",
       "      <th>sentiment</th>\n",
       "      <th>subtitle</th>\n",
       "      <th>review_body</th>\n",
       "      <th>usefulness_ratio</th>\n",
       "      <th>direct_link</th>\n",
       "    </tr>\n",
       "  </thead>\n",
       "  <tbody>\n",
       "    <tr>\n",
       "      <th>766</th>\n",
       "      <td>535341</td>\n",
       "      <td></td>\n",
       "      <td>13 июля 2012 18:23</td>\n",
       "      <td>good</td>\n",
       "      <td>«Вот сколько ты стоишь в мире  искусства».</td>\n",
       "      <td>Так сказать из Парижа с любовью, французский к...</td>\n",
       "      <td>13 / 5</td>\n",
       "      <td>https://www.kinopoisk.ru/user/428435/comment/1...</td>\n",
       "    </tr>\n",
       "    <tr>\n",
       "      <th>1060</th>\n",
       "      <td>11130</td>\n",
       "      <td></td>\n",
       "      <td>15 ноября 2009 16:04</td>\n",
       "      <td>good</td>\n",
       "      <td>Твою причёску ненавижу, и то, как говоришь со ...</td>\n",
       "      <td>Когда впервые увидела этот фильм, сначала поду...</td>\n",
       "      <td>27 / 4</td>\n",
       "      <td>https://www.kinopoisk.ru/user/496916/comment/6...</td>\n",
       "    </tr>\n",
       "    <tr>\n",
       "      <th>21988</th>\n",
       "      <td>252626</td>\n",
       "      <td></td>\n",
       "      <td>14 ноября 2009 14:17</td>\n",
       "      <td>good</td>\n",
       "      <td>Большое приключение</td>\n",
       "      <td>Фильм-шедевр. Спасибо большое Шону Пенну за эт...</td>\n",
       "      <td>15 / 6</td>\n",
       "      <td>https://www.kinopoisk.ru/user/496916/comment/6...</td>\n",
       "    </tr>\n",
       "    <tr>\n",
       "      <th>40341</th>\n",
       "      <td>232785</td>\n",
       "      <td></td>\n",
       "      <td>16 сентября 2012 20:39</td>\n",
       "      <td>good</td>\n",
       "      <td>Возможно все.</td>\n",
       "      <td>Этот фильм один из тех, в которых до последней...</td>\n",
       "      <td>8 / 2</td>\n",
       "      <td>https://www.kinopoisk.ru/user/428435/comment/1...</td>\n",
       "    </tr>\n",
       "    <tr>\n",
       "      <th>47502</th>\n",
       "      <td>3561</td>\n",
       "      <td></td>\n",
       "      <td>26 ноября 2009 11:07</td>\n",
       "      <td>good</td>\n",
       "      <td>Она вернулась в его жизнь, как пламя, которое ...</td>\n",
       "      <td>Фильм `Дневник памяти` снят по сюжету одноимен...</td>\n",
       "      <td>24 / 4</td>\n",
       "      <td>https://www.kinopoisk.ru/user/496916/comment/6...</td>\n",
       "    </tr>\n",
       "    <tr>\n",
       "      <th>51007</th>\n",
       "      <td>280932</td>\n",
       "      <td></td>\n",
       "      <td>28 июля 2009 03:08</td>\n",
       "      <td>neutral</td>\n",
       "      <td></td>\n",
       "      <td>Первые ощущения после просмотра: жизненно, при...</td>\n",
       "      <td>10 / 2</td>\n",
       "      <td>https://www.kinopoisk.ru/user/205364/comment/5...</td>\n",
       "    </tr>\n",
       "    <tr>\n",
       "      <th>61069</th>\n",
       "      <td>276376</td>\n",
       "      <td></td>\n",
       "      <td>13 октября 2008 01:31</td>\n",
       "      <td>neutral</td>\n",
       "      <td>Невероятные приключения американцев в Париже</td>\n",
       "      <td>В последнее время нечасто смотрю боевики в чис...</td>\n",
       "      <td>17 / 14</td>\n",
       "      <td>https://www.kinopoisk.ru/user/205364/comment/2...</td>\n",
       "    </tr>\n",
       "    <tr>\n",
       "      <th>76032</th>\n",
       "      <td>351</td>\n",
       "      <td></td>\n",
       "      <td>24 августа 2008 18:33</td>\n",
       "      <td>good</td>\n",
       "      <td></td>\n",
       "      <td>Трогательное, смешное, подчас шокирующее путеш...</td>\n",
       "      <td>18 / 14</td>\n",
       "      <td>https://www.kinopoisk.ru/user/176754/comment/2...</td>\n",
       "    </tr>\n",
       "    <tr>\n",
       "      <th>80977</th>\n",
       "      <td>389</td>\n",
       "      <td></td>\n",
       "      <td>10 ноября 2009 15:17</td>\n",
       "      <td>good</td>\n",
       "      <td>Наемный убийца и маленькая девочка</td>\n",
       "      <td>Фильм Люка Бессона вышел в далеком 1994 году. ...</td>\n",
       "      <td>19 / 8</td>\n",
       "      <td>https://www.kinopoisk.ru/user/496916/comment/6...</td>\n",
       "    </tr>\n",
       "    <tr>\n",
       "      <th>81906</th>\n",
       "      <td>739</td>\n",
       "      <td></td>\n",
       "      <td>18 октября 2008 01:42</td>\n",
       "      <td>bad</td>\n",
       "      <td></td>\n",
       "      <td>Как ни печально, совершенно мерзкий, бездушный...</td>\n",
       "      <td>53 / 82</td>\n",
       "      <td>https://www.kinopoisk.ru/user/205364/comment/2...</td>\n",
       "    </tr>\n",
       "    <tr>\n",
       "      <th>90444</th>\n",
       "      <td>273302</td>\n",
       "      <td></td>\n",
       "      <td>27 ноября 2007 19:47</td>\n",
       "      <td>good</td>\n",
       "      <td></td>\n",
       "      <td>За более чем 25 лет с момента публикации «Тума...</td>\n",
       "      <td>32 / 14</td>\n",
       "      <td>https://www.kinopoisk.ru/user/9422/comment/128...</td>\n",
       "    </tr>\n",
       "    <tr>\n",
       "      <th>95307</th>\n",
       "      <td>263531</td>\n",
       "      <td></td>\n",
       "      <td>12 июля 2012 21:55</td>\n",
       "      <td>good</td>\n",
       "      <td>«Мы не команда, мы часовая бомба».</td>\n",
       "      <td>Мы ждали, ждали и, наконец, дождались! В голов...</td>\n",
       "      <td>23 / 10</td>\n",
       "      <td>https://www.kinopoisk.ru/user/428435/comment/1...</td>\n",
       "    </tr>\n",
       "    <tr>\n",
       "      <th>99005</th>\n",
       "      <td>447301</td>\n",
       "      <td></td>\n",
       "      <td>31 июля 2010 14:25</td>\n",
       "      <td>good</td>\n",
       "      <td>Сон во сне - тотальное погружение.</td>\n",
       "      <td>Просмотр фильма, как процесс, очень приятен, а...</td>\n",
       "      <td>33 / 7</td>\n",
       "      <td>https://www.kinopoisk.ru/user/428435/comment/9...</td>\n",
       "    </tr>\n",
       "    <tr>\n",
       "      <th>119575</th>\n",
       "      <td>649917</td>\n",
       "      <td></td>\n",
       "      <td>25 ноября 2016 14:51</td>\n",
       "      <td>good</td>\n",
       "      <td>Гибсон вернулся! И Слава Богу!</td>\n",
       "      <td>После долгого молчания, длинною в 10 лет, Гибс...</td>\n",
       "      <td>11 / 5</td>\n",
       "      <td>https://www.kinopoisk.ru/user/13606334/comment...</td>\n",
       "    </tr>\n",
       "    <tr>\n",
       "      <th>120174</th>\n",
       "      <td>326</td>\n",
       "      <td></td>\n",
       "      <td>16 мая 2008 21:35</td>\n",
       "      <td>good</td>\n",
       "      <td></td>\n",
       "      <td>Роковое стечение обстоятельств и несовершенств...</td>\n",
       "      <td>19 / 12</td>\n",
       "      <td>https://www.kinopoisk.ru/user/205364/comment/2...</td>\n",
       "    </tr>\n",
       "    <tr>\n",
       "      <th>123733</th>\n",
       "      <td>423989</td>\n",
       "      <td></td>\n",
       "      <td>29 июля 2011 18:16</td>\n",
       "      <td>bad</td>\n",
       "      <td></td>\n",
       "      <td>Трейлер - творческая эссенция фильма, видеоряд...</td>\n",
       "      <td>4 / 9</td>\n",
       "      <td>https://www.kinopoisk.ru/user/40123/comment/12...</td>\n",
       "    </tr>\n",
       "    <tr>\n",
       "      <th>137658</th>\n",
       "      <td>329</td>\n",
       "      <td></td>\n",
       "      <td>16 мая 2008 14:01</td>\n",
       "      <td>good</td>\n",
       "      <td></td>\n",
       "      <td>Классное кино, отлично стилизованное и весьма ...</td>\n",
       "      <td>17 / 9</td>\n",
       "      <td>https://www.kinopoisk.ru/user/205364/comment/1...</td>\n",
       "    </tr>\n",
       "    <tr>\n",
       "      <th>141049</th>\n",
       "      <td>401177</td>\n",
       "      <td></td>\n",
       "      <td>16 ноября 2009 19:28</td>\n",
       "      <td>neutral</td>\n",
       "      <td>Когда сбываются самые заветные мечты, следует ...</td>\n",
       "      <td>Фильм конечно хорош, но для разового просмотра...</td>\n",
       "      <td>9 / 16</td>\n",
       "      <td>https://www.kinopoisk.ru/user/496916/comment/6...</td>\n",
       "    </tr>\n",
       "    <tr>\n",
       "      <th>145499</th>\n",
       "      <td>437410</td>\n",
       "      <td></td>\n",
       "      <td>10 августа 2012 22:39</td>\n",
       "      <td>good</td>\n",
       "      <td>Все говорили, что  это конец, а это только нач...</td>\n",
       "      <td>Долгожданная премьера и знаете не зря она долг...</td>\n",
       "      <td>20 / 4</td>\n",
       "      <td>https://www.kinopoisk.ru/user/428435/comment/1...</td>\n",
       "    </tr>\n",
       "    <tr>\n",
       "      <th>156990</th>\n",
       "      <td>387556</td>\n",
       "      <td></td>\n",
       "      <td>29 ноября 2009 10:23</td>\n",
       "      <td>good</td>\n",
       "      <td>Хати - навсегда мой герой...</td>\n",
       "      <td>Я видела много фильмов о любви животных к свои...</td>\n",
       "      <td>23 / 9</td>\n",
       "      <td>https://www.kinopoisk.ru/user/496916/comment/6...</td>\n",
       "    </tr>\n",
       "    <tr>\n",
       "      <th>157095</th>\n",
       "      <td>387556</td>\n",
       "      <td></td>\n",
       "      <td>21 ноября 2009 11:07</td>\n",
       "      <td>good</td>\n",
       "      <td>Нет повести печальнее на свете…</td>\n",
       "      <td>Описывать этот фильм нет особого смысла – его ...</td>\n",
       "      <td>37 / 5</td>\n",
       "      <td>https://www.kinopoisk.ru/user/205364/comment/6...</td>\n",
       "    </tr>\n",
       "    <tr>\n",
       "      <th>167662</th>\n",
       "      <td>420923</td>\n",
       "      <td></td>\n",
       "      <td>07 января 2010 17:32</td>\n",
       "      <td>good</td>\n",
       "      <td>Старый герой в новом свете.</td>\n",
       "      <td>Все кто привык  к советскому Шерлоку (который ...</td>\n",
       "      <td>11 / 6</td>\n",
       "      <td>https://www.kinopoisk.ru/user/428435/comment/7...</td>\n",
       "    </tr>\n",
       "  </tbody>\n",
       "</table>\n",
       "</div>"
      ],
      "text/plain": [
       "        show_id username                datetime sentiment  \\\n",
       "766      535341               13 июля 2012 18:23      good   \n",
       "1060      11130             15 ноября 2009 16:04      good   \n",
       "21988    252626             14 ноября 2009 14:17      good   \n",
       "40341    232785           16 сентября 2012 20:39      good   \n",
       "47502      3561             26 ноября 2009 11:07      good   \n",
       "51007    280932               28 июля 2009 03:08   neutral   \n",
       "61069    276376            13 октября 2008 01:31   neutral   \n",
       "76032       351            24 августа 2008 18:33      good   \n",
       "80977       389             10 ноября 2009 15:17      good   \n",
       "81906       739            18 октября 2008 01:42       bad   \n",
       "90444    273302             27 ноября 2007 19:47      good   \n",
       "95307    263531               12 июля 2012 21:55      good   \n",
       "99005    447301               31 июля 2010 14:25      good   \n",
       "119575   649917             25 ноября 2016 14:51      good   \n",
       "120174      326                16 мая 2008 21:35      good   \n",
       "123733   423989               29 июля 2011 18:16       bad   \n",
       "137658      329                16 мая 2008 14:01      good   \n",
       "141049   401177             16 ноября 2009 19:28   neutral   \n",
       "145499   437410            10 августа 2012 22:39      good   \n",
       "156990   387556             29 ноября 2009 10:23      good   \n",
       "157095   387556             21 ноября 2009 11:07      good   \n",
       "167662   420923             07 января 2010 17:32      good   \n",
       "\n",
       "                                                 subtitle  \\\n",
       "766            «Вот сколько ты стоишь в мире  искусства».   \n",
       "1060    Твою причёску ненавижу, и то, как говоришь со ...   \n",
       "21988                                 Большое приключение   \n",
       "40341                                       Возможно все.   \n",
       "47502   Она вернулась в его жизнь, как пламя, которое ...   \n",
       "51007                                                       \n",
       "61069        Невероятные приключения американцев в Париже   \n",
       "76032                                                       \n",
       "80977                  Наемный убийца и маленькая девочка   \n",
       "81906                                                       \n",
       "90444                                                       \n",
       "95307                  «Мы не команда, мы часовая бомба».   \n",
       "99005                  Сон во сне - тотальное погружение.   \n",
       "119575                     Гибсон вернулся! И Слава Богу!   \n",
       "120174                                                      \n",
       "123733                                                      \n",
       "137658                                                      \n",
       "141049  Когда сбываются самые заветные мечты, следует ...   \n",
       "145499  Все говорили, что  это конец, а это только нач...   \n",
       "156990                       Хати - навсегда мой герой...   \n",
       "157095                    Нет повести печальнее на свете…   \n",
       "167662                        Старый герой в новом свете.   \n",
       "\n",
       "                                              review_body usefulness_ratio  \\\n",
       "766     Так сказать из Парижа с любовью, французский к...           13 / 5   \n",
       "1060    Когда впервые увидела этот фильм, сначала поду...           27 / 4   \n",
       "21988   Фильм-шедевр. Спасибо большое Шону Пенну за эт...           15 / 6   \n",
       "40341   Этот фильм один из тех, в которых до последней...            8 / 2   \n",
       "47502   Фильм `Дневник памяти` снят по сюжету одноимен...           24 / 4   \n",
       "51007   Первые ощущения после просмотра: жизненно, при...           10 / 2   \n",
       "61069   В последнее время нечасто смотрю боевики в чис...          17 / 14   \n",
       "76032   Трогательное, смешное, подчас шокирующее путеш...          18 / 14   \n",
       "80977   Фильм Люка Бессона вышел в далеком 1994 году. ...           19 / 8   \n",
       "81906   Как ни печально, совершенно мерзкий, бездушный...          53 / 82   \n",
       "90444   За более чем 25 лет с момента публикации «Тума...          32 / 14   \n",
       "95307   Мы ждали, ждали и, наконец, дождались! В голов...          23 / 10   \n",
       "99005   Просмотр фильма, как процесс, очень приятен, а...           33 / 7   \n",
       "119575  После долгого молчания, длинною в 10 лет, Гибс...           11 / 5   \n",
       "120174  Роковое стечение обстоятельств и несовершенств...          19 / 12   \n",
       "123733  Трейлер - творческая эссенция фильма, видеоряд...            4 / 9   \n",
       "137658  Классное кино, отлично стилизованное и весьма ...           17 / 9   \n",
       "141049  Фильм конечно хорош, но для разового просмотра...           9 / 16   \n",
       "145499  Долгожданная премьера и знаете не зря она долг...           20 / 4   \n",
       "156990  Я видела много фильмов о любви животных к свои...           23 / 9   \n",
       "157095  Описывать этот фильм нет особого смысла – его ...           37 / 5   \n",
       "167662  Все кто привык  к советскому Шерлоку (который ...           11 / 6   \n",
       "\n",
       "                                              direct_link  \n",
       "766     https://www.kinopoisk.ru/user/428435/comment/1...  \n",
       "1060    https://www.kinopoisk.ru/user/496916/comment/6...  \n",
       "21988   https://www.kinopoisk.ru/user/496916/comment/6...  \n",
       "40341   https://www.kinopoisk.ru/user/428435/comment/1...  \n",
       "47502   https://www.kinopoisk.ru/user/496916/comment/6...  \n",
       "51007   https://www.kinopoisk.ru/user/205364/comment/5...  \n",
       "61069   https://www.kinopoisk.ru/user/205364/comment/2...  \n",
       "76032   https://www.kinopoisk.ru/user/176754/comment/2...  \n",
       "80977   https://www.kinopoisk.ru/user/496916/comment/6...  \n",
       "81906   https://www.kinopoisk.ru/user/205364/comment/2...  \n",
       "90444   https://www.kinopoisk.ru/user/9422/comment/128...  \n",
       "95307   https://www.kinopoisk.ru/user/428435/comment/1...  \n",
       "99005   https://www.kinopoisk.ru/user/428435/comment/9...  \n",
       "119575  https://www.kinopoisk.ru/user/13606334/comment...  \n",
       "120174  https://www.kinopoisk.ru/user/205364/comment/2...  \n",
       "123733  https://www.kinopoisk.ru/user/40123/comment/12...  \n",
       "137658  https://www.kinopoisk.ru/user/205364/comment/1...  \n",
       "141049  https://www.kinopoisk.ru/user/496916/comment/6...  \n",
       "145499  https://www.kinopoisk.ru/user/428435/comment/1...  \n",
       "156990  https://www.kinopoisk.ru/user/496916/comment/6...  \n",
       "157095  https://www.kinopoisk.ru/user/205364/comment/6...  \n",
       "167662  https://www.kinopoisk.ru/user/428435/comment/7...  "
      ]
     },
     "execution_count": 148,
     "metadata": {},
     "output_type": "execute_result"
    }
   ],
   "source": [
    "movies_reviews_df[movies_reviews_df[\"username\"] == \"\"]"
   ]
  },
  {
   "cell_type": "markdown",
   "id": "3922ab30-4a71-401e-867e-9637565ff5a6",
   "metadata": {},
   "source": [
    "We can see that, actually, we have column `direct_link` with link to the comment and this link contains the `user_id`. Different users happen to have empty usernames.  \n",
    "It will be easier to use actual `user_id`'s than generate them ourselves - we just need to find out how to extract `user_id`'s from links."
   ]
  },
  {
   "cell_type": "markdown",
   "id": "1abbcaa3-eb78-4874-87a3-8149045cd6be",
   "metadata": {},
   "source": [
    "#### Extracting `user_id`'s"
   ]
  },
  {
   "cell_type": "markdown",
   "id": "9226a1d1-a79e-4d0d-95eb-80e782c09508",
   "metadata": {},
   "source": [
    "Some reviews doesn't have direct link:"
   ]
  },
  {
   "cell_type": "code",
   "execution_count": 149,
   "id": "1f51f49b-cf6f-471b-ba3e-81e5f582a0c4",
   "metadata": {},
   "outputs": [
    {
     "data": {
      "text/plain": [
       "                                                          6734\n",
       "https://www.kinopoisk.ru/user/1939008/comment/1449048/       2\n",
       "https://www.kinopoisk.ru/user/1940813/comment/1449009/       2\n",
       "https://www.kinopoisk.ru/user/975381/comment/1442974/        2\n",
       "https://www.kinopoisk.ru/user/278280/comment/1440106/        2\n",
       "                                                          ... \n",
       "https://www.kinopoisk.ru/user/2009568/comment/2612773/       1\n",
       "https://www.kinopoisk.ru/user/5409448/comment/2599615/       1\n",
       "https://www.kinopoisk.ru/user/6828711/comment/2569361/       1\n",
       "https://www.kinopoisk.ru/user/668720/comment/2560131/        1\n",
       "https://www.kinopoisk.ru/user/1414072/comment/2128039/       1\n",
       "Name: direct_link, Length: 163988, dtype: int64"
      ]
     },
     "execution_count": 149,
     "metadata": {},
     "output_type": "execute_result"
    }
   ],
   "source": [
    "movies_reviews_df[\"direct_link\"].value_counts()"
   ]
  },
  {
   "cell_type": "markdown",
   "id": "d00bbc59-3154-407c-8fba-bf8f958c8d69",
   "metadata": {},
   "source": [
    "So, in this case, it will be easier to replace empty usernames with actual `user_id`'s and then encode usernames to new user IDs.  \n",
    "This way we will restore information for empty usernames (for building recommendation system)."
   ]
  },
  {
   "cell_type": "code",
   "execution_count": 150,
   "id": "5e19b9ca-7ec4-4c58-bcf7-729c4132e1a1",
   "metadata": {},
   "outputs": [],
   "source": [
    "movies_reviews_df.loc[movies_reviews_df[\"username\"] == \"\", \"username\"] = [\n",
    "    link.split(\"/\")[4]\n",
    "    for link in movies_reviews_df[movies_reviews_df[\"username\"] == \"\"][\n",
    "        \"direct_link\"\n",
    "    ].values\n",
    "]"
   ]
  },
  {
   "cell_type": "markdown",
   "id": "ff854554-b923-400d-ae1b-2ba9a2cc9a20",
   "metadata": {},
   "source": [
    "Let's do the same for series reviews"
   ]
  },
  {
   "cell_type": "code",
   "execution_count": 151,
   "id": "7f2b2d40-027f-457e-945f-08482d0ad7aa",
   "metadata": {
    "tags": []
   },
   "outputs": [
    {
     "data": {
      "text/html": [
       "<div>\n",
       "<style scoped>\n",
       "    .dataframe tbody tr th:only-of-type {\n",
       "        vertical-align: middle;\n",
       "    }\n",
       "\n",
       "    .dataframe tbody tr th {\n",
       "        vertical-align: top;\n",
       "    }\n",
       "\n",
       "    .dataframe thead th {\n",
       "        text-align: right;\n",
       "    }\n",
       "</style>\n",
       "<table border=\"1\" class=\"dataframe\">\n",
       "  <thead>\n",
       "    <tr style=\"text-align: right;\">\n",
       "      <th></th>\n",
       "      <th>show_id</th>\n",
       "      <th>username</th>\n",
       "      <th>datetime</th>\n",
       "      <th>sentiment</th>\n",
       "      <th>subtitle</th>\n",
       "      <th>review_body</th>\n",
       "      <th>usefulness_ratio</th>\n",
       "      <th>direct_link</th>\n",
       "    </tr>\n",
       "  </thead>\n",
       "  <tbody>\n",
       "    <tr>\n",
       "      <th>7467</th>\n",
       "      <td>161268</td>\n",
       "      <td></td>\n",
       "      <td>13 ноября 2009 13:24</td>\n",
       "      <td>good</td>\n",
       "      <td>Мне не до пломбира, пока на попе дыры (с)</td>\n",
       "      <td>Впервые увидела этот мульт лет в 12. Если чест...</td>\n",
       "      <td>32 / 23</td>\n",
       "      <td>https://www.kinopoisk.ru/user/496916/comment/6...</td>\n",
       "    </tr>\n",
       "    <tr>\n",
       "      <th>9113</th>\n",
       "      <td>453191</td>\n",
       "      <td></td>\n",
       "      <td>09 ноября 2009 13:11</td>\n",
       "      <td>good</td>\n",
       "      <td>Вампиры, вампиры, вампиры...</td>\n",
       "      <td>Сейчас пошла просто дикая мода на вампирство.....</td>\n",
       "      <td>48 / 43</td>\n",
       "      <td>https://www.kinopoisk.ru/user/496916/comment/6...</td>\n",
       "    </tr>\n",
       "    <tr>\n",
       "      <th>25905</th>\n",
       "      <td>178707</td>\n",
       "      <td></td>\n",
       "      <td>25 октября 2009 22:01</td>\n",
       "      <td>good</td>\n",
       "      <td></td>\n",
       "      <td>Сериал…сверхъестественное…я по началу думала п...</td>\n",
       "      <td>35 / 3</td>\n",
       "      <td>https://www.kinopoisk.ru/user/428435/comment/6...</td>\n",
       "    </tr>\n",
       "  </tbody>\n",
       "</table>\n",
       "</div>"
      ],
      "text/plain": [
       "       show_id username               datetime sentiment  \\\n",
       "7467    161268            13 ноября 2009 13:24      good   \n",
       "9113    453191            09 ноября 2009 13:11      good   \n",
       "25905   178707           25 октября 2009 22:01      good   \n",
       "\n",
       "                                        subtitle  \\\n",
       "7467   Мне не до пломбира, пока на попе дыры (с)   \n",
       "9113                Вампиры, вампиры, вампиры...   \n",
       "25905                                              \n",
       "\n",
       "                                             review_body usefulness_ratio  \\\n",
       "7467   Впервые увидела этот мульт лет в 12. Если чест...          32 / 23   \n",
       "9113   Сейчас пошла просто дикая мода на вампирство.....          48 / 43   \n",
       "25905  Сериал…сверхъестественное…я по началу думала п...           35 / 3   \n",
       "\n",
       "                                             direct_link  \n",
       "7467   https://www.kinopoisk.ru/user/496916/comment/6...  \n",
       "9113   https://www.kinopoisk.ru/user/496916/comment/6...  \n",
       "25905  https://www.kinopoisk.ru/user/428435/comment/6...  "
      ]
     },
     "execution_count": 151,
     "metadata": {},
     "output_type": "execute_result"
    }
   ],
   "source": [
    "series_reviews_df[series_reviews_df[\"username\"] == \"\"]"
   ]
  },
  {
   "cell_type": "code",
   "execution_count": 152,
   "id": "ebb0b47d-2dba-423e-8cd2-a8fdb506e78b",
   "metadata": {},
   "outputs": [],
   "source": [
    "series_reviews_df.loc[series_reviews_df[\"username\"] == \"\", \"username\"] = [\n",
    "    link.split(\"/\")[4]\n",
    "    for link in series_reviews_df[series_reviews_df[\"username\"] == \"\"][\n",
    "        \"direct_link\"\n",
    "    ].values\n",
    "]"
   ]
  },
  {
   "cell_type": "markdown",
   "id": "76da2ced-b79a-4ba3-aad0-0b4774b0eb78",
   "metadata": {},
   "source": [
    "#### Creating map"
   ]
  },
  {
   "cell_type": "code",
   "execution_count": 153,
   "id": "c5c910e9-79e5-468c-a5d4-c8e7716b1e47",
   "metadata": {},
   "outputs": [
    {
     "data": {
      "text/plain": [
       "69172"
      ]
     },
     "execution_count": 153,
     "metadata": {},
     "output_type": "execute_result"
    }
   ],
   "source": [
    "users = sorted(list(set(np.concatenate((movies_reviews_users, series_reviews_users)))))\n",
    "len(users)"
   ]
  },
  {
   "cell_type": "markdown",
   "id": "e82b80b8-07d6-4bf0-9b3f-c1c094dfd1eb",
   "metadata": {},
   "source": [
    "Before we had 69166 unique users. Now we have 6 more - not much, but better."
   ]
  },
  {
   "cell_type": "code",
   "execution_count": 154,
   "id": "627d1916-43b6-4417-b6b6-f64ef5c48000",
   "metadata": {},
   "outputs": [],
   "source": [
    "user_map = {user: id_ for user, id_ in zip(users, range(len(users)))}"
   ]
  },
  {
   "cell_type": "markdown",
   "id": "4d7812c7-eae3-400e-a64b-614d9d88f504",
   "metadata": {},
   "source": [
    "#### Updating dataset"
   ]
  },
  {
   "cell_type": "code",
   "execution_count": 155,
   "id": "5961622a-5478-404e-ae99-a8277dbcaccb",
   "metadata": {},
   "outputs": [],
   "source": [
    "movies_reviews_df[\"username\"] = movies_reviews_df[\"username\"].map(user_map)\n",
    "series_reviews_df[\"username\"] = series_reviews_df[\"username\"].map(user_map)"
   ]
  },
  {
   "cell_type": "markdown",
   "id": "375b1405-801b-4fff-a400-1edd1c4a2d3f",
   "metadata": {},
   "source": [
    "Let's also rename column `username` to `user_id`"
   ]
  },
  {
   "cell_type": "code",
   "execution_count": 156,
   "id": "f11f7cdb-2c0f-448f-b338-044e189c7994",
   "metadata": {},
   "outputs": [],
   "source": [
    "movies_reviews_df.rename({\"username\": \"user_id\"}, axis=1, inplace=True)\n",
    "series_reviews_df.rename({\"username\": \"user_id\"}, axis=1, inplace=True)"
   ]
  },
  {
   "cell_type": "markdown",
   "id": "b8481936-f19e-4f94-99b3-5854e8fcff1a",
   "metadata": {},
   "source": [
    "And drop `direct_link` and `review_id` columns for anonymized version of the dataset"
   ]
  },
  {
   "cell_type": "code",
   "execution_count": 157,
   "id": "36061004-6da1-480f-8f2f-745d7e4bd86a",
   "metadata": {},
   "outputs": [],
   "source": [
    "movies_reviews_df.drop(\"direct_link\", axis=1, inplace=True, errors=\"ignore\")\n",
    "series_reviews_df.drop(\"direct_link\", axis=1, inplace=True, errors=\"ignore\")"
   ]
  },
  {
   "cell_type": "markdown",
   "id": "f53e101d-35c8-4d5e-aa46-cec996cf6409",
   "metadata": {},
   "source": [
    "And save the datasets"
   ]
  },
  {
   "cell_type": "code",
   "execution_count": 158,
   "id": "8e1f19bb-8c2f-4769-9f67-7ab57ba08e7f",
   "metadata": {},
   "outputs": [],
   "source": [
    "movies_reviews_df.to_parquet(\"../../data/anonymized_movies_reviews.parquet\")\n",
    "series_reviews_df.to_parquet(\"../../data/anonymized_series_reviews.parquet\")"
   ]
  }
 ],
 "metadata": {
  "kernelspec": {
   "display_name": "movie_reviews",
   "language": "python",
   "name": "movie_reviews"
  },
  "language_info": {
   "codemirror_mode": {
    "name": "ipython",
    "version": 3
   },
   "file_extension": ".py",
   "mimetype": "text/x-python",
   "name": "python",
   "nbconvert_exporter": "python",
   "pygments_lexer": "ipython3",
   "version": "3.8.10"
  }
 },
 "nbformat": 4,
 "nbformat_minor": 5
}
