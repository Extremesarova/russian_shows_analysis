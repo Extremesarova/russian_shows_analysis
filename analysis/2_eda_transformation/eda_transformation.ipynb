{
 "cells": [
  {
   "cell_type": "markdown",
   "id": "b12aa654-a234-41c0-b1ee-562ea6f8d0ac",
   "metadata": {},
   "source": [
    "# Sentiment analysis of show reviews"
   ]
  },
  {
   "cell_type": "markdown",
   "id": "5add38d5-39e8-4d39-a4cb-97544d04d55c",
   "metadata": {},
   "source": [
    "The goal of this analysis is to ...\n",
    "* Get hands-on experience with packages and tools for analysing Russian language (natasha, nltk, spacy, rnnmorph, pymorphy2)\n",
    "* Investigate available pre-trained models for Russian language (wor2vec, fasttext, navec, models from sber, deeppavlov and others)\n",
    "* Learn how to finetune BERT-like models"
   ]
  },
  {
   "cell_type": "markdown",
   "id": "5138c25c-cb9d-4e21-bff1-565eb4c3f19a",
   "metadata": {},
   "source": [
    "## Imports"
   ]
  },
  {
   "cell_type": "code",
   "execution_count": 30,
   "id": "1ea98424-a1d6-456e-9663-ad6f45881408",
   "metadata": {},
   "outputs": [],
   "source": [
    "# !pip install dateparser"
   ]
  },
  {
   "cell_type": "code",
   "execution_count": 2,
   "id": "fce2d634-04a3-4ca9-908a-7b65d6705a60",
   "metadata": {},
   "outputs": [],
   "source": [
    "import os\n",
    "import sys\n",
    "import warnings\n",
    "\n",
    "import dateparser\n",
    "import numpy as np\n",
    "import optuna\n",
    "import pandas as pd\n",
    "import seaborn as sns\n",
    "from catboost import CatBoostClassifier, Pool, cv, metrics\n",
    "from matplotlib import pyplot as plt\n",
    "from sklearn.compose import ColumnTransformer\n",
    "from sklearn.exceptions import ConvergenceWarning\n",
    "from sklearn.impute import SimpleImputer\n",
    "from sklearn.linear_model import LogisticRegression, LogisticRegressionCV\n",
    "from sklearn.metrics import roc_auc_score\n",
    "from sklearn.model_selection import GridSearchCV, train_test_split\n",
    "from sklearn.pipeline import Pipeline, make_pipeline\n",
    "from sklearn.preprocessing import (\n",
    "    LabelEncoder,\n",
    "    OneHotEncoder,\n",
    "    RobustScaler,\n",
    "    StandardScaler,\n",
    ")\n",
    "from tqdm import tqdm\n",
    "\n",
    "tqdm.pandas()\n",
    "\n",
    "optuna.logging.set_verbosity(optuna.logging.WARNING)\n",
    "sns.set(rc={\"figure.dpi\": 100, \"savefig.dpi\": 300})\n",
    "sns.set_context(\"notebook\")\n",
    "sns.set_style(\"ticks\")\n",
    "\n",
    "ConvergenceWarning(\"ignore\")\n",
    "\n",
    "warnings.filterwarnings(\"ignore\")\n",
    "if not sys.warnoptions:\n",
    "    warnings.simplefilter(\"ignore\")\n",
    "    os.environ[\n",
    "        \"PYTHONWARNINGS\"\n",
    "    ] = \"ignore::UserWarning,ignore::ConvergenceWarning,ignore::RuntimeWarning\"\n",
    "%matplotlib inline\n",
    "%config InlineBackend.figure_format='retina'"
   ]
  },
  {
   "cell_type": "code",
   "execution_count": 3,
   "id": "5823680a-5654-4caa-bc88-bd546f1395eb",
   "metadata": {},
   "outputs": [],
   "source": [
    "SEED = 42"
   ]
  },
  {
   "cell_type": "markdown",
   "id": "2112133f-69a1-4404-b8bc-79f2ad134cad",
   "metadata": {},
   "source": [
    "## Data"
   ]
  },
  {
   "cell_type": "markdown",
   "id": "46746c6c-aa00-4af5-a281-1ac53d782500",
   "metadata": {},
   "source": [
    "### Loading data"
   ]
  },
  {
   "cell_type": "code",
   "execution_count": 100,
   "id": "56fbff50-2568-4000-b1b1-7fc0bebc6ab4",
   "metadata": {},
   "outputs": [
    {
     "data": {
      "text/plain": [
       "(171094, 7)"
      ]
     },
     "execution_count": 100,
     "metadata": {},
     "output_type": "execute_result"
    }
   ],
   "source": [
    "movie_reviews_df = pd.read_parquet(\"../../data/anonymized_movies_reviews.parquet\")\n",
    "movie_reviews_df.shape"
   ]
  },
  {
   "cell_type": "code",
   "execution_count": 101,
   "id": "8a00b20d-7908-42a6-a2cd-16bff5c4b8f6",
   "metadata": {},
   "outputs": [
    {
     "data": {
      "text/plain": [
       "(35643, 7)"
      ]
     },
     "execution_count": 101,
     "metadata": {},
     "output_type": "execute_result"
    }
   ],
   "source": [
    "series_reviews_df = pd.read_parquet(\"../../data/anonymized_series_reviews.parquet\")\n",
    "series_reviews_df.shape"
   ]
  },
  {
   "cell_type": "markdown",
   "id": "d556d49e-e9d6-49d0-b91a-4697d9be3300",
   "metadata": {},
   "source": [
    "### Dataset overview"
   ]
  },
  {
   "cell_type": "code",
   "execution_count": 102,
   "id": "6a66766c-d9b5-4026-9f62-a6e9e675ee80",
   "metadata": {},
   "outputs": [
    {
     "data": {
      "text/html": [
       "<div>\n",
       "<style scoped>\n",
       "    .dataframe tbody tr th:only-of-type {\n",
       "        vertical-align: middle;\n",
       "    }\n",
       "\n",
       "    .dataframe tbody tr th {\n",
       "        vertical-align: top;\n",
       "    }\n",
       "\n",
       "    .dataframe thead th {\n",
       "        text-align: right;\n",
       "    }\n",
       "</style>\n",
       "<table border=\"1\" class=\"dataframe\">\n",
       "  <thead>\n",
       "    <tr style=\"text-align: right;\">\n",
       "      <th></th>\n",
       "      <th>show_id</th>\n",
       "      <th>user_id</th>\n",
       "      <th>datetime</th>\n",
       "      <th>sentiment</th>\n",
       "      <th>subtitle</th>\n",
       "      <th>review_body</th>\n",
       "      <th>usefulness_ratio</th>\n",
       "    </tr>\n",
       "  </thead>\n",
       "  <tbody>\n",
       "    <tr>\n",
       "      <th>29900</th>\n",
       "      <td>1965</td>\n",
       "      <td>44279</td>\n",
       "      <td>21 января 2010 19:09</td>\n",
       "      <td>good</td>\n",
       "      <td></td>\n",
       "      <td>Юг США, Миссисипи, отличающееся расовым разноо...</td>\n",
       "      <td>16 / 4</td>\n",
       "    </tr>\n",
       "    <tr>\n",
       "      <th>154753</th>\n",
       "      <td>977743</td>\n",
       "      <td>49610</td>\n",
       "      <td>12 ноября 2018 00:10</td>\n",
       "      <td>bad</td>\n",
       "      <td>'Форма воды', Оскар, отношение, размышления, а...</td>\n",
       "      <td>В последний раз я столько хмурила брови и подн...</td>\n",
       "      <td>5 / 3</td>\n",
       "    </tr>\n",
       "    <tr>\n",
       "      <th>161478</th>\n",
       "      <td>623250</td>\n",
       "      <td>59545</td>\n",
       "      <td>05 марта 2018 14:59</td>\n",
       "      <td>good</td>\n",
       "      <td>Новая глава любимой саги</td>\n",
       "      <td>Мне хочется сравнить этот фильм с элегантным и...</td>\n",
       "      <td>20 / 39</td>\n",
       "    </tr>\n",
       "    <tr>\n",
       "      <th>73900</th>\n",
       "      <td>49166</td>\n",
       "      <td>33188</td>\n",
       "      <td>01 мая 2014 22:18</td>\n",
       "      <td>good</td>\n",
       "      <td>Маскарад абсурда</td>\n",
       "      <td>Для меня мультфильм 'Коралина в Стране Кошмаро...</td>\n",
       "      <td>1 / 1</td>\n",
       "    </tr>\n",
       "    <tr>\n",
       "      <th>39455</th>\n",
       "      <td>81733</td>\n",
       "      <td>46751</td>\n",
       "      <td>19 февраля 2009 14:39</td>\n",
       "      <td>bad</td>\n",
       "      <td>Из грязи - в князи?</td>\n",
       "      <td>Я люблю звенящую прозрачную Киру Найтли, с ее ...</td>\n",
       "      <td>25 / 32</td>\n",
       "    </tr>\n",
       "    <tr>\n",
       "      <th>91332</th>\n",
       "      <td>450765</td>\n",
       "      <td>37060</td>\n",
       "      <td>14 марта 2011 18:35</td>\n",
       "      <td>neutral</td>\n",
       "      <td>Любовь не по плану</td>\n",
       "      <td>А вы когда-нибудь задумывались: а что если все...</td>\n",
       "      <td>11 / 7</td>\n",
       "    </tr>\n",
       "    <tr>\n",
       "      <th>38957</th>\n",
       "      <td>81733</td>\n",
       "      <td>30715</td>\n",
       "      <td>21 апреля 2018 23:07</td>\n",
       "      <td>good</td>\n",
       "      <td></td>\n",
       "      <td>Как же приятно смотреть картины где нет ничего...</td>\n",
       "      <td>3 / 7</td>\n",
       "    </tr>\n",
       "    <tr>\n",
       "      <th>129787</th>\n",
       "      <td>6144</td>\n",
       "      <td>34494</td>\n",
       "      <td>05 января 2011 13:55</td>\n",
       "      <td>good</td>\n",
       "      <td></td>\n",
       "      <td>Пожалуй, один из тех фильмов, которые будут 'в...</td>\n",
       "      <td>7 / 3</td>\n",
       "    </tr>\n",
       "    <tr>\n",
       "      <th>79575</th>\n",
       "      <td>705356</td>\n",
       "      <td>36252</td>\n",
       "      <td>22 января 2015 02:06</td>\n",
       "      <td>good</td>\n",
       "      <td>Есть лишь любовь и есть страх</td>\n",
       "      <td>Очень много шумихи поднял совершенно недавно в...</td>\n",
       "      <td>6 / 7</td>\n",
       "    </tr>\n",
       "    <tr>\n",
       "      <th>119379</th>\n",
       "      <td>649917</td>\n",
       "      <td>22210</td>\n",
       "      <td>09 октября 2018 09:23</td>\n",
       "      <td>good</td>\n",
       "      <td>Следуй Обету, данному тобой</td>\n",
       "      <td>Потрясающий фильм о скромном, милом, добром мо...</td>\n",
       "      <td>3 / 0</td>\n",
       "    </tr>\n",
       "  </tbody>\n",
       "</table>\n",
       "</div>"
      ],
      "text/plain": [
       "        show_id  user_id               datetime sentiment  \\\n",
       "29900      1965    44279   21 января 2010 19:09      good   \n",
       "154753   977743    49610   12 ноября 2018 00:10       bad   \n",
       "161478   623250    59545    05 марта 2018 14:59      good   \n",
       "73900     49166    33188      01 мая 2014 22:18      good   \n",
       "39455     81733    46751  19 февраля 2009 14:39       bad   \n",
       "91332    450765    37060    14 марта 2011 18:35   neutral   \n",
       "38957     81733    30715   21 апреля 2018 23:07      good   \n",
       "129787     6144    34494   05 января 2011 13:55      good   \n",
       "79575    705356    36252   22 января 2015 02:06      good   \n",
       "119379   649917    22210  09 октября 2018 09:23      good   \n",
       "\n",
       "                                                 subtitle  \\\n",
       "29900                                                       \n",
       "154753  'Форма воды', Оскар, отношение, размышления, а...   \n",
       "161478                           Новая глава любимой саги   \n",
       "73900                                    Маскарад абсурда   \n",
       "39455                                 Из грязи - в князи?   \n",
       "91332                                  Любовь не по плану   \n",
       "38957                                                       \n",
       "129787                                                      \n",
       "79575                       Есть лишь любовь и есть страх   \n",
       "119379                        Следуй Обету, данному тобой   \n",
       "\n",
       "                                              review_body usefulness_ratio  \n",
       "29900   Юг США, Миссисипи, отличающееся расовым разноо...           16 / 4  \n",
       "154753  В последний раз я столько хмурила брови и подн...            5 / 3  \n",
       "161478  Мне хочется сравнить этот фильм с элегантным и...          20 / 39  \n",
       "73900   Для меня мультфильм 'Коралина в Стране Кошмаро...            1 / 1  \n",
       "39455   Я люблю звенящую прозрачную Киру Найтли, с ее ...          25 / 32  \n",
       "91332   А вы когда-нибудь задумывались: а что если все...           11 / 7  \n",
       "38957   Как же приятно смотреть картины где нет ничего...            3 / 7  \n",
       "129787  Пожалуй, один из тех фильмов, которые будут 'в...            7 / 3  \n",
       "79575   Очень много шумихи поднял совершенно недавно в...            6 / 7  \n",
       "119379  Потрясающий фильм о скромном, милом, добром мо...            3 / 0  "
      ]
     },
     "execution_count": 102,
     "metadata": {},
     "output_type": "execute_result"
    }
   ],
   "source": [
    "movie_reviews_df.sample(n=10, random_state=SEED)"
   ]
  },
  {
   "cell_type": "code",
   "execution_count": 103,
   "id": "ae1e9ab2-4b07-4fb8-a46c-9ec4231ec0b3",
   "metadata": {},
   "outputs": [
    {
     "data": {
      "text/html": [
       "<div>\n",
       "<style scoped>\n",
       "    .dataframe tbody tr th:only-of-type {\n",
       "        vertical-align: middle;\n",
       "    }\n",
       "\n",
       "    .dataframe tbody tr th {\n",
       "        vertical-align: top;\n",
       "    }\n",
       "\n",
       "    .dataframe thead th {\n",
       "        text-align: right;\n",
       "    }\n",
       "</style>\n",
       "<table border=\"1\" class=\"dataframe\">\n",
       "  <thead>\n",
       "    <tr style=\"text-align: right;\">\n",
       "      <th></th>\n",
       "      <th>show_id</th>\n",
       "      <th>user_id</th>\n",
       "      <th>datetime</th>\n",
       "      <th>sentiment</th>\n",
       "      <th>subtitle</th>\n",
       "      <th>review_body</th>\n",
       "      <th>usefulness_ratio</th>\n",
       "    </tr>\n",
       "  </thead>\n",
       "  <tbody>\n",
       "    <tr>\n",
       "      <th>17123</th>\n",
       "      <td>838050</td>\n",
       "      <td>26321</td>\n",
       "      <td>03 апреля 2016 20:22</td>\n",
       "      <td>neutral</td>\n",
       "      <td>А был ли метод?</td>\n",
       "      <td>Вот и я сподобилась посмотреть нашумевший сери...</td>\n",
       "      <td>7 / 6</td>\n",
       "    </tr>\n",
       "    <tr>\n",
       "      <th>29947</th>\n",
       "      <td>306084</td>\n",
       "      <td>21093</td>\n",
       "      <td>20 марта 2010 20:23</td>\n",
       "      <td>good</td>\n",
       "      <td>- Почему он не разговаривает? - Ботан же. ©</td>\n",
       "      <td>Наконец-то я для себя нашел любимый сериал, ко...</td>\n",
       "      <td>57 / 14</td>\n",
       "    </tr>\n",
       "    <tr>\n",
       "      <th>14526</th>\n",
       "      <td>1445244</td>\n",
       "      <td>56442</td>\n",
       "      <td>14 сентября 2021 12:51</td>\n",
       "      <td>bad</td>\n",
       "      <td>Первый блин комом</td>\n",
       "      <td>Единственный плюс этого сериала - отличная опе...</td>\n",
       "      <td>65 / 25</td>\n",
       "    </tr>\n",
       "    <tr>\n",
       "      <th>8471</th>\n",
       "      <td>453191</td>\n",
       "      <td>68606</td>\n",
       "      <td>26 декабря 2014 18:15</td>\n",
       "      <td>bad</td>\n",
       "      <td>«Санта-Барбара» по-вампирски.</td>\n",
       "      <td>А как неплохо все начиналось… не занудно… акте...</td>\n",
       "      <td>11 / 7</td>\n",
       "    </tr>\n",
       "    <tr>\n",
       "      <th>5288</th>\n",
       "      <td>38898</td>\n",
       "      <td>38121</td>\n",
       "      <td>18 июня 2010 00:25</td>\n",
       "      <td>good</td>\n",
       "      <td></td>\n",
       "      <td>Вот оттого, что книгу не читал, фильм и не пон...</td>\n",
       "      <td>29 / 17</td>\n",
       "    </tr>\n",
       "    <tr>\n",
       "      <th>17419</th>\n",
       "      <td>1331277</td>\n",
       "      <td>7511</td>\n",
       "      <td>19 января 2021 12:13</td>\n",
       "      <td>good</td>\n",
       "      <td>Если человек обещает что-то, что заведомо не с...</td>\n",
       "      <td>Хорошая фраза и неплохой сериал.&lt;p&gt;Зацепила ид...</td>\n",
       "      <td>12 / 2</td>\n",
       "    </tr>\n",
       "    <tr>\n",
       "      <th>1043</th>\n",
       "      <td>401152</td>\n",
       "      <td>6398</td>\n",
       "      <td>11 января 2017 22:28</td>\n",
       "      <td>good</td>\n",
       "      <td>В адаптации телеканала HBO.</td>\n",
       "      <td>Часть первая. &lt;p&gt;Лет пять назад я смотрел сие ...</td>\n",
       "      <td>3 / 4</td>\n",
       "    </tr>\n",
       "    <tr>\n",
       "      <th>30271</th>\n",
       "      <td>1209845</td>\n",
       "      <td>38603</td>\n",
       "      <td>13 марта 2021 02:48</td>\n",
       "      <td>good</td>\n",
       "      <td>Достойное продолжение франшизы</td>\n",
       "      <td>Первый фильм был очень популярен. Но к сожален...</td>\n",
       "      <td>14 / 6</td>\n",
       "    </tr>\n",
       "    <tr>\n",
       "      <th>33923</th>\n",
       "      <td>502838</td>\n",
       "      <td>60726</td>\n",
       "      <td>20 июня 2015 02:49</td>\n",
       "      <td>neutral</td>\n",
       "      <td>Больше Шерлоков хороших и разных..</td>\n",
       "      <td>Пролог.&lt;p&gt;Этот популярный нынче сериал я посмо...</td>\n",
       "      <td>3 / 6</td>\n",
       "    </tr>\n",
       "    <tr>\n",
       "      <th>17767</th>\n",
       "      <td>585100</td>\n",
       "      <td>60714</td>\n",
       "      <td>11 января 2016 15:29</td>\n",
       "      <td>good</td>\n",
       "      <td></td>\n",
       "      <td>Изредка я писал рецензии, это большая для меня...</td>\n",
       "      <td>13 / 1</td>\n",
       "    </tr>\n",
       "  </tbody>\n",
       "</table>\n",
       "</div>"
      ],
      "text/plain": [
       "       show_id  user_id                datetime sentiment  \\\n",
       "17123   838050    26321    03 апреля 2016 20:22   neutral   \n",
       "29947   306084    21093     20 марта 2010 20:23      good   \n",
       "14526  1445244    56442  14 сентября 2021 12:51       bad   \n",
       "8471    453191    68606   26 декабря 2014 18:15       bad   \n",
       "5288     38898    38121      18 июня 2010 00:25      good   \n",
       "17419  1331277     7511    19 января 2021 12:13      good   \n",
       "1043    401152     6398    11 января 2017 22:28      good   \n",
       "30271  1209845    38603     13 марта 2021 02:48      good   \n",
       "33923   502838    60726      20 июня 2015 02:49   neutral   \n",
       "17767   585100    60714    11 января 2016 15:29      good   \n",
       "\n",
       "                                                subtitle  \\\n",
       "17123                                    А был ли метод?   \n",
       "29947        - Почему он не разговаривает? - Ботан же. ©   \n",
       "14526                                  Первый блин комом   \n",
       "8471                       «Санта-Барбара» по-вампирски.   \n",
       "5288                                                       \n",
       "17419  Если человек обещает что-то, что заведомо не с...   \n",
       "1043                         В адаптации телеканала HBO.   \n",
       "30271                     Достойное продолжение франшизы   \n",
       "33923                 Больше Шерлоков хороших и разных..   \n",
       "17767                                                      \n",
       "\n",
       "                                             review_body usefulness_ratio  \n",
       "17123  Вот и я сподобилась посмотреть нашумевший сери...            7 / 6  \n",
       "29947  Наконец-то я для себя нашел любимый сериал, ко...          57 / 14  \n",
       "14526  Единственный плюс этого сериала - отличная опе...          65 / 25  \n",
       "8471   А как неплохо все начиналось… не занудно… акте...           11 / 7  \n",
       "5288   Вот оттого, что книгу не читал, фильм и не пон...          29 / 17  \n",
       "17419  Хорошая фраза и неплохой сериал.<p>Зацепила ид...           12 / 2  \n",
       "1043   Часть первая. <p>Лет пять назад я смотрел сие ...            3 / 4  \n",
       "30271  Первый фильм был очень популярен. Но к сожален...           14 / 6  \n",
       "33923  Пролог.<p>Этот популярный нынче сериал я посмо...            3 / 6  \n",
       "17767  Изредка я писал рецензии, это большая для меня...           13 / 1  "
      ]
     },
     "execution_count": 103,
     "metadata": {},
     "output_type": "execute_result"
    }
   ],
   "source": [
    "series_reviews_df.sample(n=10, random_state=SEED)"
   ]
  },
  {
   "cell_type": "markdown",
   "id": "2e2a9fe1-8718-4a5f-9e09-d7666bcbf3de",
   "metadata": {},
   "source": [
    "Let's merge datasets"
   ]
  },
  {
   "cell_type": "code",
   "execution_count": 104,
   "id": "e74a2be5-084f-4f71-9677-bdf5c89f769b",
   "metadata": {},
   "outputs": [],
   "source": [
    "movie_reviews_df.insert(2, \"type\", \"movie\")\n",
    "series_reviews_df.insert(2, \"type\", \"movie\")\n",
    "reviews_df = pd.concat([movie_reviews_df, series_reviews_df]).reset_index(drop=True)"
   ]
  },
  {
   "cell_type": "code",
   "execution_count": 105,
   "id": "448f04b7-6e78-4863-8df1-be7d23a18c35",
   "metadata": {},
   "outputs": [
    {
     "data": {
      "text/html": [
       "<div>\n",
       "<style scoped>\n",
       "    .dataframe tbody tr th:only-of-type {\n",
       "        vertical-align: middle;\n",
       "    }\n",
       "\n",
       "    .dataframe tbody tr th {\n",
       "        vertical-align: top;\n",
       "    }\n",
       "\n",
       "    .dataframe thead th {\n",
       "        text-align: right;\n",
       "    }\n",
       "</style>\n",
       "<table border=\"1\" class=\"dataframe\">\n",
       "  <thead>\n",
       "    <tr style=\"text-align: right;\">\n",
       "      <th></th>\n",
       "      <th>show_id</th>\n",
       "      <th>user_id</th>\n",
       "      <th>type</th>\n",
       "      <th>datetime</th>\n",
       "      <th>sentiment</th>\n",
       "      <th>subtitle</th>\n",
       "      <th>review_body</th>\n",
       "      <th>usefulness_ratio</th>\n",
       "    </tr>\n",
       "  </thead>\n",
       "  <tbody>\n",
       "    <tr>\n",
       "      <th>196236</th>\n",
       "      <td>257386</td>\n",
       "      <td>28525</td>\n",
       "      <td>movie</td>\n",
       "      <td>27 августа 2010 11:23</td>\n",
       "      <td>good</td>\n",
       "      <td>Вечный город.</td>\n",
       "      <td>К истории Древнего мира у меня отношение особо...</td>\n",
       "      <td>50 / 10</td>\n",
       "    </tr>\n",
       "    <tr>\n",
       "      <th>128582</th>\n",
       "      <td>688832</td>\n",
       "      <td>44953</td>\n",
       "      <td>movie</td>\n",
       "      <td>20 февраля 2015 23:19</td>\n",
       "      <td>bad</td>\n",
       "      <td>50 оттенков разочарования</td>\n",
       "      <td>Говорю сразу, книги читала все, да и по нескол...</td>\n",
       "      <td>11 / 6</td>\n",
       "    </tr>\n",
       "    <tr>\n",
       "      <th>159673</th>\n",
       "      <td>349</td>\n",
       "      <td>33910</td>\n",
       "      <td>movie</td>\n",
       "      <td>15 апреля 2018 21:04</td>\n",
       "      <td>good</td>\n",
       "      <td>Господи, спасибо, что не пронесло мимо</td>\n",
       "      <td>Есть два типа фильмов, мой друг. Одни ты прост...</td>\n",
       "      <td>5 / 1</td>\n",
       "    </tr>\n",
       "    <tr>\n",
       "      <th>109244</th>\n",
       "      <td>686898</td>\n",
       "      <td>44065</td>\n",
       "      <td>movie</td>\n",
       "      <td>11 сентября 2019 11:58</td>\n",
       "      <td>neutral</td>\n",
       "      <td>Что же стало с клоуном?</td>\n",
       "      <td>Итак, в первую очередь хотелось бы отметить то...</td>\n",
       "      <td>5 / 3</td>\n",
       "    </tr>\n",
       "    <tr>\n",
       "      <th>92610</th>\n",
       "      <td>61455</td>\n",
       "      <td>66782</td>\n",
       "      <td>movie</td>\n",
       "      <td>27 ноября 2017 18:52</td>\n",
       "      <td>good</td>\n",
       "      <td>Они отказываются подчиняться</td>\n",
       "      <td>Автора этого замечательного фильма, Джосса Уэд...</td>\n",
       "      <td>5 / 0</td>\n",
       "    </tr>\n",
       "    <tr>\n",
       "      <th>43727</th>\n",
       "      <td>491724</td>\n",
       "      <td>44563</td>\n",
       "      <td>movie</td>\n",
       "      <td>28 января 2012 23:18</td>\n",
       "      <td>good</td>\n",
       "      <td>Жестокая правда</td>\n",
       "      <td>Финчер снова нас поразил, он всегда нас поража...</td>\n",
       "      <td>18 / 11</td>\n",
       "    </tr>\n",
       "    <tr>\n",
       "      <th>50195</th>\n",
       "      <td>102130</td>\n",
       "      <td>67145</td>\n",
       "      <td>movie</td>\n",
       "      <td>17 августа 2009 11:56</td>\n",
       "      <td>good</td>\n",
       "      <td>Преодолеть 2 года жизни, что встретиться</td>\n",
       "      <td>Слышал о фильме много, и в основном положитель...</td>\n",
       "      <td>14 / 3</td>\n",
       "    </tr>\n",
       "    <tr>\n",
       "      <th>43651</th>\n",
       "      <td>491724</td>\n",
       "      <td>66283</td>\n",
       "      <td>movie</td>\n",
       "      <td>19 февраля 2012 15:33</td>\n",
       "      <td>bad</td>\n",
       "      <td>Мужчины, которые ненавидели женщин.</td>\n",
       "      <td>Я попробовала рассматривать этот фильм с двух ...</td>\n",
       "      <td>20 / 17</td>\n",
       "    </tr>\n",
       "    <tr>\n",
       "      <th>48775</th>\n",
       "      <td>7226</td>\n",
       "      <td>7905</td>\n",
       "      <td>movie</td>\n",
       "      <td>20 февраля 2014 03:44</td>\n",
       "      <td>good</td>\n",
       "      <td></td>\n",
       "      <td>«Догвилль» - это один из тех редких фильмов, п...</td>\n",
       "      <td>5 / 2</td>\n",
       "    </tr>\n",
       "    <tr>\n",
       "      <th>75262</th>\n",
       "      <td>458</td>\n",
       "      <td>33255</td>\n",
       "      <td>movie</td>\n",
       "      <td>22 июня 2013 21:14</td>\n",
       "      <td>good</td>\n",
       "      <td>Тайна закрытой двери</td>\n",
       "      <td>Я имела счастье смотреть этот мультфильм в кин...</td>\n",
       "      <td>6 / 0</td>\n",
       "    </tr>\n",
       "  </tbody>\n",
       "</table>\n",
       "</div>"
      ],
      "text/plain": [
       "        show_id  user_id   type                datetime sentiment  \\\n",
       "196236   257386    28525  movie   27 августа 2010 11:23      good   \n",
       "128582   688832    44953  movie   20 февраля 2015 23:19       bad   \n",
       "159673      349    33910  movie    15 апреля 2018 21:04      good   \n",
       "109244   686898    44065  movie  11 сентября 2019 11:58   neutral   \n",
       "92610     61455    66782  movie    27 ноября 2017 18:52      good   \n",
       "43727    491724    44563  movie    28 января 2012 23:18      good   \n",
       "50195    102130    67145  movie   17 августа 2009 11:56      good   \n",
       "43651    491724    66283  movie   19 февраля 2012 15:33       bad   \n",
       "48775      7226     7905  movie   20 февраля 2014 03:44      good   \n",
       "75262       458    33255  movie      22 июня 2013 21:14      good   \n",
       "\n",
       "                                        subtitle  \\\n",
       "196236                             Вечный город.   \n",
       "128582                 50 оттенков разочарования   \n",
       "159673    Господи, спасибо, что не пронесло мимо   \n",
       "109244                   Что же стало с клоуном?   \n",
       "92610               Они отказываются подчиняться   \n",
       "43727                            Жестокая правда   \n",
       "50195   Преодолеть 2 года жизни, что встретиться   \n",
       "43651        Мужчины, которые ненавидели женщин.   \n",
       "48775                                              \n",
       "75262                       Тайна закрытой двери   \n",
       "\n",
       "                                              review_body usefulness_ratio  \n",
       "196236  К истории Древнего мира у меня отношение особо...          50 / 10  \n",
       "128582  Говорю сразу, книги читала все, да и по нескол...           11 / 6  \n",
       "159673  Есть два типа фильмов, мой друг. Одни ты прост...            5 / 1  \n",
       "109244  Итак, в первую очередь хотелось бы отметить то...            5 / 3  \n",
       "92610   Автора этого замечательного фильма, Джосса Уэд...            5 / 0  \n",
       "43727   Финчер снова нас поразил, он всегда нас поража...          18 / 11  \n",
       "50195   Слышал о фильме много, и в основном положитель...           14 / 3  \n",
       "43651   Я попробовала рассматривать этот фильм с двух ...          20 / 17  \n",
       "48775   «Догвилль» - это один из тех редких фильмов, п...            5 / 2  \n",
       "75262   Я имела счастье смотреть этот мультфильм в кин...            6 / 0  "
      ]
     },
     "execution_count": 105,
     "metadata": {},
     "output_type": "execute_result"
    }
   ],
   "source": [
    "reviews_df.sample(n=10, random_state=SEED)"
   ]
  },
  {
   "cell_type": "markdown",
   "id": "19e43e2a-7b27-465d-a920-c2a4ad3f0e96",
   "metadata": {},
   "source": [
    "### Dataset Close Look"
   ]
  },
  {
   "cell_type": "markdown",
   "id": "3e431176-8999-4501-9e04-79fee9209a08",
   "metadata": {},
   "source": [
    "In this section, let's look at what columns we have, what type they are, how many non-zero values, etc."
   ]
  },
  {
   "cell_type": "markdown",
   "id": "31110b54-d901-4c0e-9511-3234e87f2411",
   "metadata": {},
   "source": [
    "But before, let's replace empty strings with NaN values."
   ]
  },
  {
   "cell_type": "code",
   "execution_count": 106,
   "id": "b053f4bc-9483-4d48-9ef0-17cd8f312f98",
   "metadata": {},
   "outputs": [],
   "source": [
    "reviews_df.replace(r\"^\\s*$\", np.nan, regex=True, inplace=True)"
   ]
  },
  {
   "cell_type": "code",
   "execution_count": 107,
   "id": "351fa979-35aa-4ceb-b7c4-a162230033d4",
   "metadata": {},
   "outputs": [
    {
     "name": "stdout",
     "output_type": "stream",
     "text": [
      "<class 'pandas.core.frame.DataFrame'>\n",
      "RangeIndex: 206737 entries, 0 to 206736\n",
      "Data columns (total 8 columns):\n",
      " #   Column            Non-Null Count   Dtype \n",
      "---  ------            --------------   ----- \n",
      " 0   show_id           206737 non-null  int64 \n",
      " 1   user_id           206737 non-null  int64 \n",
      " 2   type              206737 non-null  object\n",
      " 3   datetime          206737 non-null  object\n",
      " 4   sentiment         206737 non-null  object\n",
      " 5   subtitle          173836 non-null  object\n",
      " 6   review_body       206737 non-null  object\n",
      " 7   usefulness_ratio  206737 non-null  object\n",
      "dtypes: int64(2), object(6)\n",
      "memory usage: 12.6+ MB\n"
     ]
    }
   ],
   "source": [
    "reviews_df.info()"
   ]
  },
  {
   "cell_type": "markdown",
   "id": "7eb0e08f-8149-4878-8067-6e30f761c4aa",
   "metadata": {},
   "source": [
    "As we can see, `subtitle` is empty sometimes."
   ]
  },
  {
   "cell_type": "markdown",
   "id": "095fc0f4-5f9d-4485-9260-ace5bb586c14",
   "metadata": {},
   "source": [
    "### Memory optimization"
   ]
  },
  {
   "cell_type": "markdown",
   "id": "0dff99fe-ec7b-40df-ada8-7cd9120f05ba",
   "metadata": {},
   "source": [
    "Also, we should better be treating `sentiment` and `type` columns as categorical.  \n",
    "One of the benefits of such transformation is the dataset will be more efficiently stored."
   ]
  },
  {
   "cell_type": "code",
   "execution_count": 108,
   "id": "9359c5ad-25f1-4e0e-ac2a-502df128cb92",
   "metadata": {},
   "outputs": [],
   "source": [
    "reviews_df[[\"type\", \"sentiment\"]] = reviews_df[[\"type\", \"sentiment\"]].astype(\"category\")"
   ]
  },
  {
   "cell_type": "code",
   "execution_count": 109,
   "id": "fd17fb27-9b9e-42d6-b17b-7c13100f0531",
   "metadata": {},
   "outputs": [
    {
     "name": "stdout",
     "output_type": "stream",
     "text": [
      "<class 'pandas.core.frame.DataFrame'>\n",
      "RangeIndex: 206737 entries, 0 to 206736\n",
      "Data columns (total 8 columns):\n",
      " #   Column            Non-Null Count   Dtype   \n",
      "---  ------            --------------   -----   \n",
      " 0   show_id           206737 non-null  int64   \n",
      " 1   user_id           206737 non-null  int64   \n",
      " 2   type              206737 non-null  category\n",
      " 3   datetime          206737 non-null  object  \n",
      " 4   sentiment         206737 non-null  category\n",
      " 5   subtitle          173836 non-null  object  \n",
      " 6   review_body       206737 non-null  object  \n",
      " 7   usefulness_ratio  206737 non-null  object  \n",
      "dtypes: category(2), int64(2), object(4)\n",
      "memory usage: 9.9+ MB\n"
     ]
    }
   ],
   "source": [
    "reviews_df.info()"
   ]
  },
  {
   "cell_type": "markdown",
   "id": "62aac0a4-c3b8-4ef7-b7cd-0a4cab2d370f",
   "metadata": {},
   "source": [
    "We've just saved about 2.7 MB out of 12.6 MB (around 20%), which isn't bad for a one line of code."
   ]
  },
  {
   "cell_type": "markdown",
   "id": "72dfe938-7f90-46fc-9db3-8de5150657e4",
   "metadata": {},
   "source": [
    "## Tasks"
   ]
  },
  {
   "cell_type": "markdown",
   "id": "22c70c9a-bfd4-45ec-b700-6750bff377bd",
   "metadata": {},
   "source": [
    "Based on this look I've determined some things to do:\n",
    "* Look at the columns, determine the number of unique values, duplicates, etc.\n",
    "* **[+]** Normalize `datetime` column \n",
    "* **[+]** Calculate `usefulness_ratio` based on the format `likes / dislikes`\n",
    "* Extract user scores from reviews"
   ]
  },
  {
   "cell_type": "markdown",
   "id": "85b91c83-b8c1-4f8c-a861-5ec077cc2188",
   "metadata": {},
   "source": [
    "## EDA"
   ]
  },
  {
   "cell_type": "markdown",
   "id": "33c4b2cd-5c3f-47aa-a6c0-8c3985bfeb47",
   "metadata": {},
   "source": [
    "### `datetime`"
   ]
  },
  {
   "cell_type": "markdown",
   "id": "a345850e-4390-494b-ae79-c5d549ed78c5",
   "metadata": {},
   "source": [
    "#### Transformation"
   ]
  },
  {
   "cell_type": "markdown",
   "id": "01a3583c-4914-4cd9-92e2-969dc82d820a",
   "metadata": {},
   "source": [
    "Currently, datetime looks like this:"
   ]
  },
  {
   "cell_type": "code",
   "execution_count": 12,
   "id": "68619f16-b736-45cc-9482-33a5475083ff",
   "metadata": {},
   "outputs": [
    {
     "data": {
      "text/plain": [
       "'16 февраля 2022 11:21'"
      ]
     },
     "execution_count": 12,
     "metadata": {},
     "output_type": "execute_result"
    }
   ],
   "source": [
    "reviews_df[\"datetime\"][0]"
   ]
  },
  {
   "cell_type": "markdown",
   "id": "e262a667-98e1-45e0-ac58-9d7d08046aa7",
   "metadata": {},
   "source": [
    "I could create map with months manually, replace month for every date and then change the format, but I will use `dateparser` package "
   ]
  },
  {
   "cell_type": "code",
   "execution_count": 13,
   "id": "c528ee3e-8c4a-41ca-ad37-a1260cdb4f2d",
   "metadata": {},
   "outputs": [
    {
     "data": {
      "text/plain": [
       "'16.02.2022 11:21'"
      ]
     },
     "execution_count": 13,
     "metadata": {},
     "output_type": "execute_result"
    }
   ],
   "source": [
    "dateparser.parse(reviews_df[\"datetime\"][0]).strftime(\"%d.%m.%Y %H:%M\")"
   ]
  },
  {
   "cell_type": "code",
   "execution_count": 14,
   "id": "c2fe44e1-393c-4416-a8eb-525795a20821",
   "metadata": {},
   "outputs": [],
   "source": [
    "def normalize_datetime(datetime: str) -> str:\n",
    "    return dateparser.parse(datetime).strftime(\"%d.%m.%Y %H:%M\")"
   ]
  },
  {
   "cell_type": "code",
   "execution_count": 56,
   "id": "6e0e34eb-59b1-4f22-8ba8-3874fdec6b32",
   "metadata": {},
   "outputs": [
    {
     "name": "stderr",
     "output_type": "stream",
     "text": [
      "100%|█████████████████████████████████████████████████████████████████████████| 206737/206737 [03:36<00:00, 955.86it/s]\n"
     ]
    }
   ],
   "source": [
    "reviews_df[\"datetime\"] = reviews_df[\"datetime\"].progress_apply(normalize_datetime)\n",
    "reviews_df[\"datetime\"] = pd.to_datetime(reviews_df[\"datetime\"])"
   ]
  },
  {
   "cell_type": "markdown",
   "id": "95acc7a4-5bc1-48ee-a694-80a906788fc0",
   "metadata": {},
   "source": [
    "Now we can extract valuable information from the `datetime` column"
   ]
  },
  {
   "cell_type": "markdown",
   "id": "2a663105-5f25-4041-ad88-900908ebfa00",
   "metadata": {},
   "source": [
    "#### Analysis"
   ]
  },
  {
   "cell_type": "markdown",
   "id": "bc08146d-9ba6-4a6e-bb36-ab54eae5d5ab",
   "metadata": {},
   "source": [
    "`datetime` column represents date and time when the review was published."
   ]
  },
  {
   "cell_type": "markdown",
   "id": "b638ada8-ce68-4e96-aa76-50d2e1d91db8",
   "metadata": {},
   "source": [
    "##### Hour distribution"
   ]
  },
  {
   "cell_type": "markdown",
   "id": "3f42d159-691d-47a0-a86b-28e5c2f2b102",
   "metadata": {},
   "source": [
    "Let's look at hour distribution"
   ]
  },
  {
   "cell_type": "code",
   "execution_count": 73,
   "id": "ff9ca6d2-75f0-42fb-8ab9-6a718838045c",
   "metadata": {},
   "outputs": [
    {
     "data": {
      "image/png": "[encoded data removed]",
      "text/plain": [
       "<Figure size 432x288 with 1 Axes>"
      ]
     },
     "metadata": {
      "image/png": {
       "height": 266,
       "width": 389
      },
      "needs_background": "light"
     },
     "output_type": "display_data"
    }
   ],
   "source": [
    "ax = reviews_df[\"datetime\"].dt.hour.hist(bins=24)\n",
    "ax.set_xticks(range(0, 24), minor=False)\n",
    "ax.set(title=\"Hour distribution\");"
   ]
  },
  {
   "cell_type": "markdown",
   "id": "723dde64-5329-4dce-bfd3-91b1df876878",
   "metadata": {},
   "source": [
    "People tend to publish reviews the later the more often with absolute maximum around 20-23 o'clock in the evening and absolute minimum around 4-7 o'clock in the morning."
   ]
  },
  {
   "cell_type": "markdown",
   "id": "ac40b406-d75f-42e4-bb32-3963567f0c2d",
   "metadata": {},
   "source": [
    "##### Weekday distribution"
   ]
  },
  {
   "cell_type": "code",
   "execution_count": 77,
   "id": "258b1705-5360-4e4c-a55e-a185f952b73e",
   "metadata": {},
   "outputs": [
    {
     "data": {
      "image/png": "[encoded data removed]",
      "text/plain": [
       "<Figure size 432x288 with 1 Axes>"
      ]
     },
     "metadata": {
      "image/png": {
       "height": 266,
       "width": 389
      },
      "needs_background": "light"
     },
     "output_type": "display_data"
    }
   ],
   "source": [
    "ax = reviews_df[\"datetime\"].dt.weekday.hist(bins=7)\n",
    "ax.set_xticks(range(0, 7), minor=False)\n",
    "ax.set(title=\"Weekday distribution\");"
   ]
  },
  {
   "cell_type": "markdown",
   "id": "5bdb5ac8-2f58-4ef0-af7c-f89654a7bb55",
   "metadata": {},
   "source": [
    "People tend to publish more reviews on Sundays, but between Mondays, Thursdays, Fridays and Saturdays the difference is not that significant"
   ]
  },
  {
   "cell_type": "markdown",
   "id": "e87bae40-c81d-4e05-8bdb-115cfc87c384",
   "metadata": {},
   "source": [
    "##### Month distribution"
   ]
  },
  {
   "cell_type": "code",
   "execution_count": 79,
   "id": "5566c189-7ded-4ced-aa4c-3583ac5246eb",
   "metadata": {},
   "outputs": [
    {
     "data": {
      "image/png": "[encoded data removed]",
      "text/plain": [
       "<Figure size 432x288 with 1 Axes>"
      ]
     },
     "metadata": {
      "image/png": {
       "height": 266,
       "width": 389
      },
      "needs_background": "light"
     },
     "output_type": "display_data"
    }
   ],
   "source": [
    "ax = reviews_df[\"datetime\"].dt.month.hist(bins=12)\n",
    "ax.set_xticks(range(0, 12), minor=False)\n",
    "ax.set(title=\"Month distribution\");"
   ]
  },
  {
   "cell_type": "markdown",
   "id": "4841d6be-16bc-4f32-b3af-8bd727ce037c",
   "metadata": {},
   "source": [
    "People tend to publish more reviews on winter months (especially on January). It can be caused by the number of holidays in Russia on January and, also, generally correlated with cold weather."
   ]
  },
  {
   "cell_type": "markdown",
   "id": "7b669c65-20c1-448e-8d61-0159474db313",
   "metadata": {},
   "source": [
    "### `usefulness_ratio`"
   ]
  },
  {
   "cell_type": "markdown",
   "id": "dada74f6-fd1c-4a69-a9e2-849db03b0627",
   "metadata": {},
   "source": [
    "#### Transformation"
   ]
  },
  {
   "cell_type": "markdown",
   "id": "f46338c3-9fd3-4a5f-be03-86985ae46dac",
   "metadata": {},
   "source": [
    "Currently, `usefulness_ratio` looks like this:"
   ]
  },
  {
   "cell_type": "code",
   "execution_count": 17,
   "id": "df62e19e-ae8b-43a0-b3f0-bb91d2f8fc37",
   "metadata": {},
   "outputs": [
    {
     "data": {
      "text/plain": [
       "0      0 / 1\n",
       "1      2 / 5\n",
       "2      2 / 3\n",
       "3     6 / 16\n",
       "4      4 / 6\n",
       "5      3 / 6\n",
       "6      6 / 6\n",
       "7      8 / 6\n",
       "8     7 / 67\n",
       "9      1 / 9\n",
       "10     4 / 6\n",
       "11     8 / 0\n",
       "12     3 / 7\n",
       "13     4 / 1\n",
       "14     1 / 1\n",
       "15     9 / 1\n",
       "16     4 / 0\n",
       "17     2 / 0\n",
       "18     3 / 1\n",
       "19     2 / 1\n",
       "Name: usefulness_ratio, dtype: object"
      ]
     },
     "execution_count": 17,
     "metadata": {},
     "output_type": "execute_result"
    }
   ],
   "source": [
    "reviews_df[\"usefulness_ratio\"].sample(\n",
    "    10,\n",
    ")"
   ]
  },
  {
   "cell_type": "markdown",
   "id": "7bb06dc8-e9f8-4e9f-a72e-1ded101a8dfb",
   "metadata": {},
   "source": [
    "We can replace `/` with `-` and then evaluate expression to get difference between likes and dislikes for the review. Let's do this."
   ]
  },
  {
   "cell_type": "code",
   "execution_count": 26,
   "id": "e2eb4ce1-7285-432a-8f99-9d27f4629e2f",
   "metadata": {},
   "outputs": [
    {
     "name": "stderr",
     "output_type": "stream",
     "text": [
      "100%|██████████████████████████████████████████████████████████████████████| 206737/206737 [00:01<00:00, 202585.69it/s]\n"
     ]
    }
   ],
   "source": [
    "reviews_df[\"usefulness\"] = (\n",
    "    reviews_df[\"usefulness_ratio\"].replace(\" / \", \"-\", regex=True).progress_apply(eval)\n",
    ")"
   ]
  },
  {
   "cell_type": "markdown",
   "id": "afe921d4-ab47-4329-854a-4dde3d8f07ba",
   "metadata": {},
   "source": [
    "Now we can drop the `usefulness_ratio` column."
   ]
  },
  {
   "cell_type": "code",
   "execution_count": 27,
   "id": "d861062f-e7be-42b6-a05f-07e6033756cb",
   "metadata": {},
   "outputs": [],
   "source": [
    "reviews_df.drop(\"usefulness_ratio\", axis=1, inplace=True, errors=\"ignore\")"
   ]
  },
  {
   "cell_type": "markdown",
   "id": "f69d6233-d389-488f-89fa-8c5b8bf729ee",
   "metadata": {},
   "source": [
    "#### Analysis"
   ]
  },
  {
   "cell_type": "code",
   "execution_count": 31,
   "id": "50942cf2-07cc-4443-b440-fae09d771cd9",
   "metadata": {},
   "outputs": [
    {
     "data": {
      "text/plain": [
       "count    206737.000000\n",
       "mean          3.836236\n",
       "std          67.719842\n",
       "min       -9332.000000\n",
       "25%          -1.000000\n",
       "50%           4.000000\n",
       "75%          12.000000\n",
       "max        4921.000000\n",
       "Name: usefulness, dtype: float64"
      ]
     },
     "execution_count": 31,
     "metadata": {},
     "output_type": "execute_result"
    }
   ],
   "source": [
    "reviews_df[\"usefulness\"].describe()"
   ]
  },
  {
   "cell_type": "markdown",
   "id": "881186a8-3863-4183-8008-c53156d6a919",
   "metadata": {},
   "source": [
    "We have some pretty big outliers"
   ]
  },
  {
   "cell_type": "code",
   "execution_count": 35,
   "id": "71aef1e8-699b-47aa-a047-030f48d36691",
   "metadata": {},
   "outputs": [],
   "source": [
    "usefulness = reviews_df[\"usefulness\"]"
   ]
  },
  {
   "cell_type": "code",
   "execution_count": 54,
   "id": "37febaa4-f93d-459b-9441-92f5ebcec943",
   "metadata": {},
   "outputs": [
    {
     "data": {
      "text/plain": [
       "(-29.0, 41.0)"
      ]
     },
     "execution_count": 54,
     "metadata": {},
     "output_type": "execute_result"
    }
   ],
   "source": [
    "usefulness.quantile(0.05), usefulness.quantile(0.95)"
   ]
  },
  {
   "cell_type": "code",
   "execution_count": 111,
   "id": "a8ea6b26-fb31-4d0d-8033-bea997e3c6f1",
   "metadata": {},
   "outputs": [
    {
     "data": {
      "image/png": "[encoded data removed]",
      "text/plain": [
       "<Figure size 432x288 with 1 Axes>"
      ]
     },
     "metadata": {
      "image/png": {
       "height": 251,
       "width": 389
      },
      "needs_background": "light"
     },
     "output_type": "display_data"
    }
   ],
   "source": [
    "usefulness[\n",
    "    (usefulness >= usefulness.quantile(0.05))\n",
    "    & (usefulness <= usefulness.quantile(0.95))\n",
    "].hist(bins=50);"
   ]
  },
  {
   "cell_type": "code",
   "execution_count": null,
   "id": "3358574d-0113-4391-9898-e2b9ce3c1260",
   "metadata": {},
   "outputs": [],
   "source": []
  }
 ],
 "metadata": {
  "kernelspec": {
   "display_name": "movie_reviews",
   "language": "python",
   "name": "movie_reviews"
  },
  "language_info": {
   "codemirror_mode": {
    "name": "ipython",
    "version": 3
   },
   "file_extension": ".py",
   "mimetype": "text/x-python",
   "name": "python",
   "nbconvert_exporter": "python",
   "pygments_lexer": "ipython3",
   "version": "3.8.10"
  }
 },
 "nbformat": 4,
 "nbformat_minor": 5
}
