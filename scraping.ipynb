{
 "cells": [
  {
   "cell_type": "markdown",
   "id": "9e230fb9-126b-4298-b518-2a5fe020fe75",
   "metadata": {},
   "source": [
    "# Importing needed packages"
   ]
  },
  {
   "cell_type": "code",
   "execution_count": 36,
   "id": "c645ac2f-f3b4-4f21-9fad-8d9ba94670c7",
   "metadata": {},
   "outputs": [],
   "source": [
    "import re\n",
    "import unicodedata\n",
    "import pprint\n",
    "\n",
    "import pandas as pd\n",
    "import requests\n",
    "from bs4 import BeautifulSoup"
   ]
  },
  {
   "cell_type": "code",
   "execution_count": 47,
   "id": "bb5d74da-4125-43fb-9375-8786b2124739",
   "metadata": {},
   "outputs": [],
   "source": [
    "pp = pprint.PrettyPrinter(indent=1, width=140, compact=True)"
   ]
  },
  {
   "cell_type": "markdown",
   "id": "1b1f4987-3528-461d-8810-1cf90c2444c9",
   "metadata": {},
   "source": [
    "# Parsing main page"
   ]
  },
  {
   "cell_type": "markdown",
   "id": "c39347d4-868b-4c91-95ad-7fee35cec09d",
   "metadata": {},
   "source": [
    "## Getting the code for the page with movie"
   ]
  },
  {
   "cell_type": "code",
   "execution_count": 2,
   "id": "a8f947c7-e7be-4af8-83c2-ea416671aa41",
   "metadata": {},
   "outputs": [],
   "source": [
    "# f = requests.get(\"https://www.kinopoisk.ru/film/339/\")"
   ]
  },
  {
   "cell_type": "markdown",
   "id": "585dcf87",
   "metadata": {},
   "source": [
    "## Getting the code from the downloaded page"
   ]
  },
  {
   "cell_type": "code",
   "execution_count": 3,
   "id": "99ef2ab1",
   "metadata": {},
   "outputs": [],
   "source": [
    "path = \"./data/indiana_front.html\"\n",
    "with open(path, 'r', encoding=\"utf-8\") as f:\n",
    "    indiana_front = f.read()"
   ]
  },
  {
   "cell_type": "markdown",
   "id": "7e3fb11b-3888-4775-8332-14a959f84d09",
   "metadata": {},
   "source": [
    "Passing the code into the `BeautifulSoup` constructor"
   ]
  },
  {
   "cell_type": "code",
   "execution_count": 4,
   "id": "b061adb8-dd32-4fa6-916f-bb2e4593c02e",
   "metadata": {},
   "outputs": [],
   "source": [
    "soup = BeautifulSoup(indiana_front, \"html.parser\")"
   ]
  },
  {
   "cell_type": "code",
   "execution_count": 5,
   "id": "69f722e5-2f6f-4463-b56e-0e07dd485724",
   "metadata": {},
   "outputs": [],
   "source": [
    "movie_dict = {}"
   ]
  },
  {
   "cell_type": "markdown",
   "id": "2a2cf2bf-7f85-4a8d-855b-9c4236228a2e",
   "metadata": {},
   "source": [
    "## Parsing movie's name"
   ]
  },
  {
   "cell_type": "code",
   "execution_count": 6,
   "id": "619e222c-911e-4651-ab05-933e68131f02",
   "metadata": {},
   "outputs": [],
   "source": [
    "movie_name_dict = {}"
   ]
  },
  {
   "cell_type": "code",
   "execution_count": 7,
   "id": "09c29236-6855-4788-85f4-e167b52343a0",
   "metadata": {},
   "outputs": [],
   "source": [
    "movie_name = soup.find_all(\"h1\", attrs={\"class\": re.compile(\"styles_title\")})[0]"
   ]
  },
  {
   "cell_type": "code",
   "execution_count": 8,
   "id": "3f228244-c545-42ad-8f5b-bb7a71cb9365",
   "metadata": {},
   "outputs": [
    {
     "data": {
      "text/plain": [
       "'Индиана Джонс: В поисках утраченного ковчега (1981)'"
      ]
     },
     "execution_count": 8,
     "metadata": {},
     "output_type": "execute_result"
    }
   ],
   "source": [
    "movie_name.get_text()"
   ]
  },
  {
   "cell_type": "code",
   "execution_count": 9,
   "id": "f54a3530-c1e5-416b-a379-f53ab81c7422",
   "metadata": {},
   "outputs": [],
   "source": [
    "movie_name_original = soup.find_all(\n",
    "    \"span\", attrs={\"class\": re.compile(\"styles_originalTitle\")}\n",
    ")[0]"
   ]
  },
  {
   "cell_type": "code",
   "execution_count": 10,
   "id": "42c9ea05-03cc-4f86-a351-be5464ce7d06",
   "metadata": {},
   "outputs": [
    {
     "data": {
      "text/plain": [
       "'Raiders of the Lost Ark'"
      ]
     },
     "execution_count": 10,
     "metadata": {},
     "output_type": "execute_result"
    }
   ],
   "source": [
    "movie_name_original.get_text()"
   ]
  },
  {
   "cell_type": "code",
   "execution_count": 11,
   "id": "c773f434-c71f-44c8-a3cb-f91e6cd15b16",
   "metadata": {},
   "outputs": [],
   "source": [
    "movie_name_dict[\"Название\"] = movie_name.get_text()\n",
    "movie_name_dict[\"Оргинальное название\"] = movie_name_original.get_text()"
   ]
  },
  {
   "cell_type": "markdown",
   "id": "99da69a7-6734-4790-816c-2c09cca6b052",
   "metadata": {},
   "source": [
    "## Parsing information about the movie"
   ]
  },
  {
   "cell_type": "code",
   "execution_count": 12,
   "id": "4d27840f-629b-4ba7-83ad-a171bc715dfa",
   "metadata": {},
   "outputs": [],
   "source": [
    "movie_info_dict = {}"
   ]
  },
  {
   "cell_type": "code",
   "execution_count": 13,
   "id": "041a4887-533c-4113-8674-0319868dbb23",
   "metadata": {},
   "outputs": [],
   "source": [
    "movie_info_divs = soup.find_all(attrs={\"data-test-id\": \"encyclopedic-table\"})[0]"
   ]
  },
  {
   "cell_type": "code",
   "execution_count": 14,
   "id": "63136a81-e308-492d-b8cf-d1689aaebb91",
   "metadata": {},
   "outputs": [],
   "source": [
    "values = []\n",
    "for div in movie_info_divs.find_all(\n",
    "    \"div\", attrs={\"class\": re.compile(\"styles_value\"), \"data-tid\": re.compile(\".*\")}\n",
    "):\n",
    "    current_value = div.get_text().replace(\"сборы\", \"\")\n",
    "    current_value = unicodedata.normalize(\"NFKD\", current_value)\n",
    "    if \"слова\" not in current_value:\n",
    "        values.append(current_value)"
   ]
  },
  {
   "cell_type": "code",
   "execution_count": 15,
   "id": "b93cc884-c352-4f34-ab46-2c607b7ee7a2",
   "metadata": {},
   "outputs": [],
   "source": [
    "titles = []\n",
    "for div in movie_info_divs.find_all(class_=re.compile(\"styles_title\")):\n",
    "    current_title = div.get_text()\n",
    "    titles.append(current_title)"
   ]
  },
  {
   "cell_type": "code",
   "execution_count": 16,
   "id": "55358df7-48f6-4e30-9d29-eb82ca0efb41",
   "metadata": {},
   "outputs": [],
   "source": [
    "assert len(values) == len(titles)\n",
    "movie_info_dict = dict(zip(titles, values))\n",
    "movie_dict = {**movie_name_dict, **movie_info_dict}"
   ]
  },
  {
   "cell_type": "code",
   "execution_count": 17,
   "id": "77bb51a5-4cba-47d5-8b4d-df998785d08a",
   "metadata": {},
   "outputs": [
    {
     "data": {
      "text/plain": [
       "{'Название': 'Индиана Джонс: В поисках утраченного ковчега (1981)',\n",
       " 'Оргинальное название': 'Raiders of the Lost Ark',\n",
       " 'Год производства': '1981',\n",
       " 'Страна': 'США',\n",
       " 'Жанр': 'приключения, боевик, комедия',\n",
       " 'Слоган': '«Indiana Jones - the new hero from the creators of JAWS and STAR WARS»',\n",
       " 'Режиссер': 'Стивен Спилберг',\n",
       " 'Сценарий': 'Лоуренс Кэздан, Джордж Лукас, Филип Кауфман',\n",
       " 'Продюсер': 'Ховард Дж. Казанян, Джордж Лукас, Фрэнк Маршалл, ...',\n",
       " 'Оператор': 'Дуглас Слоком',\n",
       " 'Композитор': 'Джон Уильямс',\n",
       " 'Художник': 'Норман Рейнольдс, Айвор Лесли Дилли, Дебора Нэдулмэн, ...',\n",
       " 'Монтаж': 'Майкл Кан, Джордж Лукас',\n",
       " 'Бюджет': '$18 000 000',\n",
       " 'Сборы в США': '$212 222 025',\n",
       " 'Сборы в мире': '+ $141 766 000 = $353 988 025',\n",
       " 'Зрители': '88.1 млн , 6.4 млн , 4.2 млн , ...',\n",
       " 'Премьера в мире': '12 июня 1981, ...',\n",
       " 'Релиз на DVD': '20 ноября 2003, «Premier Digital»',\n",
       " 'Возраст': '12+',\n",
       " 'Рейтинг MPAA': 'PGрекомендуется присутствие родителей',\n",
       " 'Время': '115 мин. / 01:55'}"
      ]
     },
     "execution_count": 17,
     "metadata": {},
     "output_type": "execute_result"
    }
   ],
   "source": [
    "movie_dict"
   ]
  },
  {
   "cell_type": "markdown",
   "id": "3c0cffbc-58fb-4869-873a-d223e0cffc5a",
   "metadata": {},
   "source": [
    "## Parsing movie's rating"
   ]
  },
  {
   "cell_type": "code",
   "execution_count": 18,
   "id": "139bd427-d1b0-404f-a672-76dd1e07bdc7",
   "metadata": {},
   "outputs": [],
   "source": [
    "movie_rating_dict = {}"
   ]
  },
  {
   "cell_type": "code",
   "execution_count": 19,
   "id": "e4df886c-bf8b-4f12-9caf-e9fc3bc1d77b",
   "metadata": {},
   "outputs": [],
   "source": [
    "movie_rating_kinopoisk = soup.find_all(\"a\", attrs={\"class\": re.compile(\"film-rating-value\")})[0]"
   ]
  },
  {
   "cell_type": "code",
   "execution_count": 20,
   "id": "f4d694e2-8cad-4982-a353-09cd68f329f9",
   "metadata": {},
   "outputs": [
    {
     "data": {
      "text/plain": [
       "'8.0'"
      ]
     },
     "execution_count": 20,
     "metadata": {},
     "output_type": "execute_result"
    }
   ],
   "source": [
    "movie_rating_kinopoisk.get_text()"
   ]
  },
  {
   "cell_type": "code",
   "execution_count": 21,
   "id": "8111dc2a-4d6d-4d69-a4eb-ced8d84f21bc",
   "metadata": {},
   "outputs": [],
   "source": [
    "movie_rating_count_kinopoisk = soup.find_all(\"span\", attrs={\"class\": re.compile(\"styles_count\")})[0]"
   ]
  },
  {
   "cell_type": "code",
   "execution_count": 22,
   "id": "0c7ed6a6-a65d-4079-9058-e3d57fd17ed7",
   "metadata": {},
   "outputs": [
    {
     "data": {
      "text/plain": [
       "'142 538 оценок'"
      ]
     },
     "execution_count": 22,
     "metadata": {},
     "output_type": "execute_result"
    }
   ],
   "source": [
    "movie_rating_count_kinopoisk.get_text()"
   ]
  },
  {
   "cell_type": "code",
   "execution_count": 23,
   "id": "7e49f8d5-3d0b-4d06-bb2c-4397e2475d9e",
   "metadata": {},
   "outputs": [],
   "source": [
    "movie_rating_imdb = soup.find_all(\n",
    "    \"span\", attrs={\"class\": re.compile(\"styles_valueSection\")}\n",
    ")[0]"
   ]
  },
  {
   "cell_type": "code",
   "execution_count": 24,
   "id": "c11646e3-0745-4d3d-88a0-c0fa0c008398",
   "metadata": {},
   "outputs": [
    {
     "data": {
      "text/plain": [
       "'IMDb: 8.40'"
      ]
     },
     "execution_count": 24,
     "metadata": {},
     "output_type": "execute_result"
    }
   ],
   "source": [
    "movie_rating_imdb.get_text()"
   ]
  },
  {
   "cell_type": "code",
   "execution_count": 25,
   "id": "0b6d46a4-dce3-4e8f-851f-7a07b1a11ce0",
   "metadata": {},
   "outputs": [],
   "source": [
    "movie_rating_count_imdb = soup.find_all(\n",
    "    \"div\", attrs={\"class\": re.compile(\"film-sub-rating\")}\n",
    ")[0].find(\n",
    "    \"span\", attrs={\"class\": re.compile(\"styles_count\")}\n",
    ")"
   ]
  },
  {
   "cell_type": "code",
   "execution_count": 26,
   "id": "f3311431-7236-4846-8f00-c1d737ffeb65",
   "metadata": {},
   "outputs": [
    {
     "data": {
      "text/plain": [
       "'938 581 оценка'"
      ]
     },
     "execution_count": 26,
     "metadata": {},
     "output_type": "execute_result"
    }
   ],
   "source": [
    "movie_rating_count_imdb.get_text()"
   ]
  },
  {
   "cell_type": "code",
   "execution_count": 27,
   "id": "0f988255-0917-4d65-8b09-40879444fc9f",
   "metadata": {},
   "outputs": [],
   "source": [
    "movie_rating_dict[\"Рейтинг кинопоиска\"] = movie_rating_kinopoisk.get_text()\n",
    "movie_rating_dict[\"Количество оценок кинопоиска\"] = movie_rating_count_kinopoisk.get_text()\n",
    "movie_rating_dict[\"Рейтинг IMDb\"] = movie_rating_imdb.get_text()\n",
    "movie_rating_dict[\"Количество оценок IMDb\"] = movie_rating_count_imdb.get_text()"
   ]
  },
  {
   "cell_type": "code",
   "execution_count": 28,
   "id": "d9a6a426-dd61-425b-b000-4f5225910055",
   "metadata": {},
   "outputs": [
    {
     "data": {
      "text/plain": [
       "{'Рейтинг кинопоиска': '8.0',\n",
       " 'Количество оценок кинопоиска': '142 538 оценок',\n",
       " 'Рейтинг IMDb': 'IMDb: 8.40',\n",
       " 'Количество оценок IMDb': '938 581 оценка'}"
      ]
     },
     "execution_count": 28,
     "metadata": {},
     "output_type": "execute_result"
    }
   ],
   "source": [
    "movie_rating_dict"
   ]
  },
  {
   "cell_type": "markdown",
   "id": "4071527e-5167-4416-baaf-dc4ae92781af",
   "metadata": {},
   "source": [
    "# Preparing final dict with information about film"
   ]
  },
  {
   "cell_type": "code",
   "execution_count": 48,
   "id": "a9f3b23a-f25a-4a7f-8860-a3359db70cb3",
   "metadata": {},
   "outputs": [
    {
     "name": "stdout",
     "output_type": "stream",
     "text": [
      "{'Бюджет': '$18 000 000',\n",
      " 'Возраст': '12+',\n",
      " 'Время': '115 мин. / 01:55',\n",
      " 'Год производства': '1981',\n",
      " 'Жанр': 'приключения, боевик, комедия',\n",
      " 'Зрители': '88.1 млн , 6.4 млн , 4.2 млн , ...',\n",
      " 'Количество оценок IMDb': '938 581 оценка',\n",
      " 'Количество оценок кинопоиска': '142 538 оценок',\n",
      " 'Композитор': 'Джон Уильямс',\n",
      " 'Монтаж': 'Майкл Кан, Джордж Лукас',\n",
      " 'Название': 'Индиана Джонс: В поисках утраченного ковчега (1981)',\n",
      " 'Оператор': 'Дуглас Слоком',\n",
      " 'Оргинальное название': 'Raiders of the Lost Ark',\n",
      " 'Премьера в мире': '12 июня 1981, ...',\n",
      " 'Продюсер': 'Ховард Дж. Казанян, Джордж Лукас, Фрэнк Маршалл, ...',\n",
      " 'Режиссер': 'Стивен Спилберг',\n",
      " 'Рейтинг IMDb': 'IMDb: 8.40',\n",
      " 'Рейтинг MPAA': 'PGрекомендуется присутствие родителей',\n",
      " 'Рейтинг кинопоиска': '8.0',\n",
      " 'Релиз на DVD': '20 ноября 2003, «Premier Digital»',\n",
      " 'Сборы в США': '$212 222 025',\n",
      " 'Сборы в мире': '+ $141 766 000 = $353 988 025',\n",
      " 'Слоган': '«Indiana Jones - the new hero from the creators of JAWS and STAR WARS»',\n",
      " 'Страна': 'США',\n",
      " 'Сценарий': 'Лоуренс Кэздан, Джордж Лукас, Филип Кауфман',\n",
      " 'Художник': 'Норман Рейнольдс, Айвор Лесли Дилли, Дебора Нэдулмэн, ...'}\n"
     ]
    }
   ],
   "source": [
    "movie_dict = {**movie_name_dict, **movie_info_dict, **movie_rating_dict}\n",
    "pp.pprint(movie_dict)"
   ]
  },
  {
   "cell_type": "code",
   "execution_count": null,
   "id": "491f92e1-07a0-4c59-afe8-3d75e0a37e1c",
   "metadata": {},
   "outputs": [],
   "source": []
  }
 ],
 "metadata": {
  "kernelspec": {
   "display_name": "movie_reviews",
   "language": "python",
   "name": "movie_reviews"
  },
  "language_info": {
   "codemirror_mode": {
    "name": "ipython",
    "version": 3
   },
   "file_extension": ".py",
   "mimetype": "text/x-python",
   "name": "python",
   "nbconvert_exporter": "python",
   "pygments_lexer": "ipython3",
   "version": "3.8.10"
  }
 },
 "nbformat": 4,
 "nbformat_minor": 5
}
