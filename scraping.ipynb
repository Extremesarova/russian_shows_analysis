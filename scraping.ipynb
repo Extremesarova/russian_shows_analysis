{
 "cells": [
  {
   "cell_type": "markdown",
   "id": "9e230fb9-126b-4298-b518-2a5fe020fe75",
   "metadata": {},
   "source": [
    "# Importing needed packages"
   ]
  },
  {
   "cell_type": "code",
   "execution_count": 1,
   "id": "c645ac2f-f3b4-4f21-9fad-8d9ba94670c7",
   "metadata": {},
   "outputs": [],
   "source": [
    "import re\n",
    "import unicodedata\n",
    "\n",
    "import pandas as pd\n",
    "import requests\n",
    "from bs4 import BeautifulSoup"
   ]
  },
  {
   "cell_type": "markdown",
   "id": "1b1f4987-3528-461d-8810-1cf90c2444c9",
   "metadata": {},
   "source": [
    "# Parsing main page"
   ]
  },
  {
   "cell_type": "markdown",
   "id": "c39347d4-868b-4c91-95ad-7fee35cec09d",
   "metadata": {},
   "source": [
    "Getting the code for the page with movie"
   ]
  },
  {
   "cell_type": "code",
   "execution_count": 8,
   "id": "a8f947c7-e7be-4af8-83c2-ea416671aa41",
   "metadata": {},
   "outputs": [],
   "source": [
    "f = requests.get(\"https://www.kinopoisk.ru/film/339/\")"
   ]
  },
  {
   "cell_type": "markdown",
   "id": "7e3fb11b-3888-4775-8332-14a959f84d09",
   "metadata": {},
   "source": [
    "Passing the code into the `BeautifulSoup` constructor"
   ]
  },
  {
   "cell_type": "code",
   "execution_count": 9,
   "id": "b061adb8-dd32-4fa6-916f-bb2e4593c02e",
   "metadata": {},
   "outputs": [],
   "source": [
    "soup = BeautifulSoup(f.text, \"html.parser\")"
   ]
  },
  {
   "cell_type": "code",
   "execution_count": 11,
   "id": "69f722e5-2f6f-4463-b56e-0e07dd485724",
   "metadata": {},
   "outputs": [],
   "source": [
    "movie_dict = {}"
   ]
  },
  {
   "cell_type": "markdown",
   "id": "2a2cf2bf-7f85-4a8d-855b-9c4236228a2e",
   "metadata": {},
   "source": [
    "## Parsing movie's name"
   ]
  },
  {
   "cell_type": "code",
   "execution_count": 12,
   "id": "619e222c-911e-4651-ab05-933e68131f02",
   "metadata": {},
   "outputs": [],
   "source": [
    "movie_name_dict = {}"
   ]
  },
  {
   "cell_type": "code",
   "execution_count": 13,
   "id": "09c29236-6855-4788-85f4-e167b52343a0",
   "metadata": {},
   "outputs": [],
   "source": [
    "movie_name = soup.find_all(\"h1\", attrs={\"class\": re.compile(\"styles_title\")})[0]"
   ]
  },
  {
   "cell_type": "code",
   "execution_count": 14,
   "id": "3f228244-c545-42ad-8f5b-bb7a71cb9365",
   "metadata": {},
   "outputs": [
    {
     "data": {
      "text/plain": [
       "'Индиана Джонс: В поисках утраченного ковчега (1981)'"
      ]
     },
     "execution_count": 14,
     "metadata": {},
     "output_type": "execute_result"
    }
   ],
   "source": [
    "movie_name.get_text()"
   ]
  },
  {
   "cell_type": "code",
   "execution_count": 15,
   "id": "f54a3530-c1e5-416b-a379-f53ab81c7422",
   "metadata": {},
   "outputs": [],
   "source": [
    "movie_name_original = soup.find_all(\n",
    "    \"span\", attrs={\"class\": re.compile(\"styles_originalTitle\")}\n",
    ")[0]"
   ]
  },
  {
   "cell_type": "code",
   "execution_count": 16,
   "id": "42c9ea05-03cc-4f86-a351-be5464ce7d06",
   "metadata": {},
   "outputs": [
    {
     "data": {
      "text/plain": [
       "'Raiders of the Lost Ark'"
      ]
     },
     "execution_count": 16,
     "metadata": {},
     "output_type": "execute_result"
    }
   ],
   "source": [
    "movie_name_original.get_text()"
   ]
  },
  {
   "cell_type": "code",
   "execution_count": 17,
   "id": "c773f434-c71f-44c8-a3cb-f91e6cd15b16",
   "metadata": {},
   "outputs": [],
   "source": [
    "movie_name_dict[\"Название\"] = movie_name.get_text()\n",
    "movie_name_dict[\"Оргинальное название\"] = movie_name_original.get_text()"
   ]
  },
  {
   "cell_type": "markdown",
   "id": "99da69a7-6734-4790-816c-2c09cca6b052",
   "metadata": {},
   "source": [
    "## Parsing information about the movie"
   ]
  },
  {
   "cell_type": "code",
   "execution_count": 18,
   "id": "4d27840f-629b-4ba7-83ad-a171bc715dfa",
   "metadata": {},
   "outputs": [],
   "source": [
    "movie_info_dict = {}"
   ]
  },
  {
   "cell_type": "code",
   "execution_count": 19,
   "id": "041a4887-533c-4113-8674-0319868dbb23",
   "metadata": {},
   "outputs": [],
   "source": [
    "movie_info_divs = soup.find_all(attrs={\"data-test-id\": \"encyclopedic-table\"})[0]"
   ]
  },
  {
   "cell_type": "code",
   "execution_count": 20,
   "id": "63136a81-e308-492d-b8cf-d1689aaebb91",
   "metadata": {},
   "outputs": [],
   "source": [
    "values = []\n",
    "for div in movie_info_divs.find_all(\n",
    "    \"div\", attrs={\"class\": re.compile(\"styles_value\"), \"data-tid\": re.compile(\".*\")}\n",
    "):\n",
    "    current_value = div.get_text().replace(\"сборы\", \"\")\n",
    "    current_value = unicodedata.normalize(\"NFKD\", current_value)\n",
    "    if \"слова\" not in current_value:\n",
    "        values.append(current_value)"
   ]
  },
  {
   "cell_type": "code",
   "execution_count": 21,
   "id": "b93cc884-c352-4f34-ab46-2c607b7ee7a2",
   "metadata": {},
   "outputs": [],
   "source": [
    "titles = []\n",
    "for div in movie_info_divs.find_all(class_=re.compile(\"styles_title\")):\n",
    "    current_title = div.get_text()\n",
    "    titles.append(current_title)"
   ]
  },
  {
   "cell_type": "code",
   "execution_count": 22,
   "id": "55358df7-48f6-4e30-9d29-eb82ca0efb41",
   "metadata": {},
   "outputs": [],
   "source": [
    "assert len(values) == len(titles)\n",
    "movie_info_dict = dict(zip(titles, values))\n",
    "movie_dict = {**movie_name_dict, **movie_info_dict}"
   ]
  },
  {
   "cell_type": "code",
   "execution_count": 23,
   "id": "77bb51a5-4cba-47d5-8b4d-df998785d08a",
   "metadata": {},
   "outputs": [
    {
     "data": {
      "text/plain": [
       "{'Название': 'Индиана Джонс: В поисках утраченного ковчега (1981)',\n",
       " 'Оргинальное название': 'Raiders of the Lost Ark',\n",
       " 'Год производства': '1981',\n",
       " 'Страна': 'США',\n",
       " 'Жанр': 'приключения, боевик, комедия',\n",
       " 'Слоган': '«Indiana Jones - the new hero from the creators of JAWS and STAR WARS»',\n",
       " 'Режиссер': 'Стивен Спилберг',\n",
       " 'Сценарий': 'Лоуренс Кэздан, Джордж Лукас, Филип Кауфман',\n",
       " 'Продюсер': 'Ховард Дж. Казанян, Джордж Лукас, Фрэнк Маршалл, ...',\n",
       " 'Оператор': 'Дуглас Слоком',\n",
       " 'Композитор': 'Джон Уильямс',\n",
       " 'Художник': 'Норман Рейнольдс, Айвор Лесли Дилли, Дебора Нэдулмэн, ...',\n",
       " 'Монтаж': 'Майкл Кан, Джордж Лукас',\n",
       " 'Бюджет': '$18 000 000',\n",
       " 'Сборы в США': '$212 222 025',\n",
       " 'Сборы в мире': '+ $141 766 000 = $353 988 025',\n",
       " 'Зрители': '88.1 млн , 6.4 млн , 4.2 млн , ...',\n",
       " 'Премьера в мире': '12 июня 1981, ...',\n",
       " 'Релиз на DVD': '20 ноября 2003, «Premier Digital»',\n",
       " 'Возраст': '12+',\n",
       " 'Рейтинг MPAA': 'PGрекомендуется присутствие родителей',\n",
       " 'Время': '115 мин. / 01:55'}"
      ]
     },
     "execution_count": 23,
     "metadata": {},
     "output_type": "execute_result"
    }
   ],
   "source": [
    "movie_dict"
   ]
  },
  {
   "cell_type": "markdown",
   "id": "3c0cffbc-58fb-4869-873a-d223e0cffc5a",
   "metadata": {},
   "source": [
    "## Parsing movie's rating"
   ]
  },
  {
   "cell_type": "code",
   "execution_count": null,
   "id": "139bd427-d1b0-404f-a672-76dd1e07bdc7",
   "metadata": {},
   "outputs": [],
   "source": [
    "movie_rating_dict = {}"
   ]
  },
  {
   "cell_type": "code",
   "execution_count": null,
   "id": "e4df886c-bf8b-4f12-9caf-e9fc3bc1d77b",
   "metadata": {},
   "outputs": [],
   "source": [
    "movie_name = soup.find_all(\"h1\", attrs={\"class\": re.compile(\"styles_title\")})[0]"
   ]
  },
  {
   "cell_type": "code",
   "execution_count": null,
   "id": "f4d694e2-8cad-4982-a353-09cd68f329f9",
   "metadata": {},
   "outputs": [],
   "source": [
    "movie_name.get_text()"
   ]
  },
  {
   "cell_type": "code",
   "execution_count": null,
   "id": "7e49f8d5-3d0b-4d06-bb2c-4397e2475d9e",
   "metadata": {},
   "outputs": [],
   "source": [
    "movie_name_original = soup.find_all(\n",
    "    \"span\", attrs={\"class\": re.compile(\"styles_originalTitle\")}\n",
    ")[0]"
   ]
  },
  {
   "cell_type": "code",
   "execution_count": null,
   "id": "c11646e3-0745-4d3d-88a0-c0fa0c008398",
   "metadata": {},
   "outputs": [],
   "source": [
    "movie_name_original.get_text()"
   ]
  },
  {
   "cell_type": "code",
   "execution_count": null,
   "id": "0f988255-0917-4d65-8b09-40879444fc9f",
   "metadata": {},
   "outputs": [],
   "source": [
    "movie_name_dict[\"Название\"] = movie_name.get_text()\n",
    "movie_name_dict[\"Оргинальное название\"] = movie_name_original.get_text()"
   ]
  },
  {
   "cell_type": "code",
   "execution_count": null,
   "id": "d9a6a426-dd61-425b-b000-4f5225910055",
   "metadata": {},
   "outputs": [],
   "source": []
  }
 ],
 "metadata": {
  "kernelspec": {
   "display_name": "movie_reviews",
   "language": "python",
   "name": "movie_reviews"
  },
  "language_info": {
   "codemirror_mode": {
    "name": "ipython",
    "version": 3
   },
   "file_extension": ".py",
   "mimetype": "text/x-python",
   "name": "python",
   "nbconvert_exporter": "python",
   "pygments_lexer": "ipython3",
   "version": "3.8.10"
  }
 },
 "nbformat": 4,
 "nbformat_minor": 5
}
