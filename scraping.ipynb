{
 "cells": [
  {
   "cell_type": "markdown",
   "id": "9e230fb9-126b-4298-b518-2a5fe020fe75",
   "metadata": {},
   "source": [
    "# Importing needed packages"
   ]
  },
  {
   "cell_type": "code",
   "execution_count": 1,
   "id": "c645ac2f-f3b4-4f21-9fad-8d9ba94670c7",
   "metadata": {},
   "outputs": [],
   "source": [
    "import re\n",
    "import unicodedata\n",
    "import pprint\n",
    "\n",
    "import pandas as pd\n",
    "import requests\n",
    "from bs4 import BeautifulSoup"
   ]
  },
  {
   "cell_type": "code",
   "execution_count": 2,
   "id": "bb5d74da-4125-43fb-9375-8786b2124739",
   "metadata": {},
   "outputs": [],
   "source": [
    "pp = pprint.PrettyPrinter(indent=1, width=140, compact=True)"
   ]
  },
  {
   "cell_type": "markdown",
   "id": "1b1f4987-3528-461d-8810-1cf90c2444c9",
   "metadata": {},
   "source": [
    "# Parsing main page"
   ]
  },
  {
   "cell_type": "markdown",
   "id": "c39347d4-868b-4c91-95ad-7fee35cec09d",
   "metadata": {},
   "source": [
    "## Getting the code for the page with movie"
   ]
  },
  {
   "cell_type": "code",
   "execution_count": 3,
   "id": "a8f947c7-e7be-4af8-83c2-ea416671aa41",
   "metadata": {},
   "outputs": [],
   "source": [
    "# f = requests.get(\"https://www.kinopoisk.ru/film/339/\")"
   ]
  },
  {
   "cell_type": "markdown",
   "id": "585dcf87",
   "metadata": {},
   "source": [
    "## Getting the code from the downloaded page"
   ]
  },
  {
   "cell_type": "code",
   "execution_count": 4,
   "id": "99ef2ab1",
   "metadata": {},
   "outputs": [],
   "source": [
    "path_front = \"./data/indiana_front.html\"\n",
    "with open(path_front, 'r', encoding=\"utf-8\") as f:\n",
    "    indiana_front = f.read()"
   ]
  },
  {
   "cell_type": "markdown",
   "id": "7e3fb11b-3888-4775-8332-14a959f84d09",
   "metadata": {},
   "source": [
    "Passing the code into the `BeautifulSoup` constructor"
   ]
  },
  {
   "cell_type": "code",
   "execution_count": 5,
   "id": "b061adb8-dd32-4fa6-916f-bb2e4593c02e",
   "metadata": {},
   "outputs": [],
   "source": [
    "soup_front = BeautifulSoup(indiana_front, \"html.parser\")"
   ]
  },
  {
   "cell_type": "code",
   "execution_count": 6,
   "id": "69f722e5-2f6f-4463-b56e-0e07dd485724",
   "metadata": {},
   "outputs": [],
   "source": [
    "movie_dict = {}"
   ]
  },
  {
   "cell_type": "markdown",
   "id": "4731da8f-896e-4882-bb8b-f5e71f586095",
   "metadata": {},
   "source": [
    "## Parsing movie's id"
   ]
  },
  {
   "cell_type": "code",
   "execution_count": 7,
   "id": "3fb54a38-53e9-4edf-a556-98fd6ecc5bfc",
   "metadata": {},
   "outputs": [],
   "source": [
    "movie_id_dict = {}"
   ]
  },
  {
   "cell_type": "code",
   "execution_count": 8,
   "id": "a748c4c8-6e6e-4600-acbf-91f7c0bae81d",
   "metadata": {},
   "outputs": [],
   "source": [
    "film_id = soup_front.find_all(\"link\", attrs={\"href\": re.compile(\"https://www.kinopoisk.ru/film/\")})[0]"
   ]
  },
  {
   "cell_type": "code",
   "execution_count": 9,
   "id": "019681f1-182d-4184-bbf1-71f1ad9ca3c3",
   "metadata": {},
   "outputs": [
    {
     "data": {
      "text/plain": [
       "'339'"
      ]
     },
     "execution_count": 9,
     "metadata": {},
     "output_type": "execute_result"
    }
   ],
   "source": [
    "film_id[\"href\"].split(\"/\")[-2]"
   ]
  },
  {
   "cell_type": "code",
   "execution_count": 10,
   "id": "cc0704e1-6b7f-4de1-b78a-dfdbee5c63c7",
   "metadata": {},
   "outputs": [],
   "source": [
    "movie_id_dict[\"id\"] = int(film_id[\"href\"].split(\"/\")[-2])"
   ]
  },
  {
   "cell_type": "markdown",
   "id": "2a2cf2bf-7f85-4a8d-855b-9c4236228a2e",
   "metadata": {},
   "source": [
    "## Parsing movie's name"
   ]
  },
  {
   "cell_type": "code",
   "execution_count": 11,
   "id": "619e222c-911e-4651-ab05-933e68131f02",
   "metadata": {},
   "outputs": [],
   "source": [
    "movie_name_dict = {}"
   ]
  },
  {
   "cell_type": "code",
   "execution_count": 12,
   "id": "09c29236-6855-4788-85f4-e167b52343a0",
   "metadata": {},
   "outputs": [],
   "source": [
    "movie_name = soup_front.find_all(\"h1\", attrs={\"class\": re.compile(\"styles_title\")})[0]"
   ]
  },
  {
   "cell_type": "code",
   "execution_count": 13,
   "id": "3f228244-c545-42ad-8f5b-bb7a71cb9365",
   "metadata": {},
   "outputs": [
    {
     "data": {
      "text/plain": [
       "'Индиана Джонс: В поисках утраченного ковчега (1981)'"
      ]
     },
     "execution_count": 13,
     "metadata": {},
     "output_type": "execute_result"
    }
   ],
   "source": [
    "movie_name.get_text()"
   ]
  },
  {
   "cell_type": "code",
   "execution_count": 14,
   "id": "f54a3530-c1e5-416b-a379-f53ab81c7422",
   "metadata": {},
   "outputs": [],
   "source": [
    "movie_name_original = soup_front.find_all(\n",
    "    \"span\", attrs={\"class\": re.compile(\"styles_originalTitle\")}\n",
    ")[0]"
   ]
  },
  {
   "cell_type": "code",
   "execution_count": 15,
   "id": "42c9ea05-03cc-4f86-a351-be5464ce7d06",
   "metadata": {},
   "outputs": [
    {
     "data": {
      "text/plain": [
       "'Raiders of the Lost Ark'"
      ]
     },
     "execution_count": 15,
     "metadata": {},
     "output_type": "execute_result"
    }
   ],
   "source": [
    "movie_name_original.get_text()"
   ]
  },
  {
   "cell_type": "code",
   "execution_count": 16,
   "id": "c773f434-c71f-44c8-a3cb-f91e6cd15b16",
   "metadata": {},
   "outputs": [],
   "source": [
    "movie_name_dict[\"Название\"] = movie_name.get_text()\n",
    "movie_name_dict[\"Оргинальное название\"] = movie_name_original.get_text()"
   ]
  },
  {
   "cell_type": "markdown",
   "id": "99da69a7-6734-4790-816c-2c09cca6b052",
   "metadata": {},
   "source": [
    "## Parsing information about the movie"
   ]
  },
  {
   "cell_type": "code",
   "execution_count": 17,
   "id": "4d27840f-629b-4ba7-83ad-a171bc715dfa",
   "metadata": {},
   "outputs": [],
   "source": [
    "movie_info_dict = {}"
   ]
  },
  {
   "cell_type": "code",
   "execution_count": 18,
   "id": "041a4887-533c-4113-8674-0319868dbb23",
   "metadata": {},
   "outputs": [],
   "source": [
    "movie_info_divs = soup_front.find_all(attrs={\"data-test-id\": \"encyclopedic-table\"})[0]"
   ]
  },
  {
   "cell_type": "code",
   "execution_count": 19,
   "id": "63136a81-e308-492d-b8cf-d1689aaebb91",
   "metadata": {},
   "outputs": [],
   "source": [
    "values = []\n",
    "for div in movie_info_divs.find_all(\n",
    "    \"div\", attrs={\"class\": re.compile(\"styles_value\"), \"data-tid\": re.compile(\".*\")}\n",
    "):\n",
    "    current_value = div.get_text().replace(\"сборы\", \"\")\n",
    "    current_value = unicodedata.normalize(\"NFKD\", current_value)\n",
    "    if \"слова\" not in current_value:\n",
    "        values.append(current_value)"
   ]
  },
  {
   "cell_type": "code",
   "execution_count": 20,
   "id": "b93cc884-c352-4f34-ab46-2c607b7ee7a2",
   "metadata": {},
   "outputs": [],
   "source": [
    "titles = []\n",
    "for div in movie_info_divs.find_all(class_=re.compile(\"styles_title\")):\n",
    "    current_title = div.get_text()\n",
    "    titles.append(current_title)"
   ]
  },
  {
   "cell_type": "code",
   "execution_count": 21,
   "id": "55358df7-48f6-4e30-9d29-eb82ca0efb41",
   "metadata": {},
   "outputs": [],
   "source": [
    "assert len(values) == len(titles)\n",
    "movie_info_dict = dict(zip(titles, values))\n",
    "movie_dict = {**movie_name_dict, **movie_info_dict}"
   ]
  },
  {
   "cell_type": "code",
   "execution_count": 22,
   "id": "77bb51a5-4cba-47d5-8b4d-df998785d08a",
   "metadata": {},
   "outputs": [
    {
     "data": {
      "text/plain": [
       "{'Название': 'Индиана Джонс: В поисках утраченного ковчега (1981)',\n",
       " 'Оргинальное название': 'Raiders of the Lost Ark',\n",
       " 'Год производства': '1981',\n",
       " 'Страна': 'США',\n",
       " 'Жанр': 'приключения, боевик, комедия',\n",
       " 'Слоган': '«Indiana Jones - the new hero from the creators of JAWS and STAR WARS»',\n",
       " 'Режиссер': 'Стивен Спилберг',\n",
       " 'Сценарий': 'Лоуренс Кэздан, Джордж Лукас, Филип Кауфман',\n",
       " 'Продюсер': 'Ховард Дж. Казанян, Джордж Лукас, Фрэнк Маршалл, ...',\n",
       " 'Оператор': 'Дуглас Слоком',\n",
       " 'Композитор': 'Джон Уильямс',\n",
       " 'Художник': 'Норман Рейнольдс, Айвор Лесли Дилли, Дебора Нэдулмэн, ...',\n",
       " 'Монтаж': 'Майкл Кан, Джордж Лукас',\n",
       " 'Бюджет': '$18 000 000',\n",
       " 'Сборы в США': '$212 222 025',\n",
       " 'Сборы в мире': '+ $141 766 000 = $353 988 025',\n",
       " 'Зрители': '88.1 млн , 6.4 млн , 4.2 млн , ...',\n",
       " 'Премьера в мире': '12 июня 1981, ...',\n",
       " 'Релиз на DVD': '20 ноября 2003, «Premier Digital»',\n",
       " 'Возраст': '12+',\n",
       " 'Рейтинг MPAA': 'PGрекомендуется присутствие родителей',\n",
       " 'Время': '115 мин. / 01:55'}"
      ]
     },
     "execution_count": 22,
     "metadata": {},
     "output_type": "execute_result"
    }
   ],
   "source": [
    "movie_dict"
   ]
  },
  {
   "cell_type": "markdown",
   "id": "3c0cffbc-58fb-4869-873a-d223e0cffc5a",
   "metadata": {},
   "source": [
    "## Parsing movie's rating"
   ]
  },
  {
   "cell_type": "code",
   "execution_count": 23,
   "id": "139bd427-d1b0-404f-a672-76dd1e07bdc7",
   "metadata": {},
   "outputs": [],
   "source": [
    "movie_rating_dict = {}"
   ]
  },
  {
   "cell_type": "code",
   "execution_count": 24,
   "id": "e4df886c-bf8b-4f12-9caf-e9fc3bc1d77b",
   "metadata": {},
   "outputs": [],
   "source": [
    "movie_rating_kinopoisk = soup_front.find_all(\"a\", attrs={\"class\": re.compile(\"film-rating-value\")})[0]"
   ]
  },
  {
   "cell_type": "code",
   "execution_count": 25,
   "id": "f4d694e2-8cad-4982-a353-09cd68f329f9",
   "metadata": {},
   "outputs": [
    {
     "data": {
      "text/plain": [
       "'8.0'"
      ]
     },
     "execution_count": 25,
     "metadata": {},
     "output_type": "execute_result"
    }
   ],
   "source": [
    "movie_rating_kinopoisk.get_text()"
   ]
  },
  {
   "cell_type": "code",
   "execution_count": 26,
   "id": "8111dc2a-4d6d-4d69-a4eb-ced8d84f21bc",
   "metadata": {},
   "outputs": [],
   "source": [
    "movie_rating_count_kinopoisk = soup_front.find_all(\"span\", attrs={\"class\": re.compile(\"styles_count\")})[0]"
   ]
  },
  {
   "cell_type": "code",
   "execution_count": 27,
   "id": "0c7ed6a6-a65d-4079-9058-e3d57fd17ed7",
   "metadata": {},
   "outputs": [
    {
     "data": {
      "text/plain": [
       "'142 538 оценок'"
      ]
     },
     "execution_count": 27,
     "metadata": {},
     "output_type": "execute_result"
    }
   ],
   "source": [
    "movie_rating_count_kinopoisk.get_text()"
   ]
  },
  {
   "cell_type": "code",
   "execution_count": 28,
   "id": "7e49f8d5-3d0b-4d06-bb2c-4397e2475d9e",
   "metadata": {},
   "outputs": [],
   "source": [
    "movie_rating_imdb = soup_front.find_all(\n",
    "    \"span\", attrs={\"class\": re.compile(\"styles_valueSection\")}\n",
    ")[0]"
   ]
  },
  {
   "cell_type": "code",
   "execution_count": 29,
   "id": "c11646e3-0745-4d3d-88a0-c0fa0c008398",
   "metadata": {},
   "outputs": [
    {
     "data": {
      "text/plain": [
       "'IMDb: 8.40'"
      ]
     },
     "execution_count": 29,
     "metadata": {},
     "output_type": "execute_result"
    }
   ],
   "source": [
    "movie_rating_imdb.get_text()"
   ]
  },
  {
   "cell_type": "code",
   "execution_count": 30,
   "id": "0b6d46a4-dce3-4e8f-851f-7a07b1a11ce0",
   "metadata": {},
   "outputs": [],
   "source": [
    "movie_rating_count_imdb = soup_front.find_all(\n",
    "    \"div\", attrs={\"class\": re.compile(\"film-sub-rating\")}\n",
    ")[0].find(\n",
    "    \"span\", attrs={\"class\": re.compile(\"styles_count\")}\n",
    ")"
   ]
  },
  {
   "cell_type": "code",
   "execution_count": 31,
   "id": "f3311431-7236-4846-8f00-c1d737ffeb65",
   "metadata": {},
   "outputs": [
    {
     "data": {
      "text/plain": [
       "'938 581 оценка'"
      ]
     },
     "execution_count": 31,
     "metadata": {},
     "output_type": "execute_result"
    }
   ],
   "source": [
    "movie_rating_count_imdb.get_text()"
   ]
  },
  {
   "cell_type": "code",
   "execution_count": 32,
   "id": "0f988255-0917-4d65-8b09-40879444fc9f",
   "metadata": {},
   "outputs": [],
   "source": [
    "movie_rating_dict[\"Рейтинг кинопоиска\"] = movie_rating_kinopoisk.get_text()\n",
    "movie_rating_dict[\"Количество оценок кинопоиска\"] = movie_rating_count_kinopoisk.get_text()\n",
    "movie_rating_dict[\"Рейтинг IMDb\"] = movie_rating_imdb.get_text()\n",
    "movie_rating_dict[\"Количество оценок IMDb\"] = movie_rating_count_imdb.get_text()"
   ]
  },
  {
   "cell_type": "code",
   "execution_count": 33,
   "id": "d9a6a426-dd61-425b-b000-4f5225910055",
   "metadata": {},
   "outputs": [
    {
     "data": {
      "text/plain": [
       "{'Рейтинг кинопоиска': '8.0',\n",
       " 'Количество оценок кинопоиска': '142 538 оценок',\n",
       " 'Рейтинг IMDb': 'IMDb: 8.40',\n",
       " 'Количество оценок IMDb': '938 581 оценка'}"
      ]
     },
     "execution_count": 33,
     "metadata": {},
     "output_type": "execute_result"
    }
   ],
   "source": [
    "movie_rating_dict"
   ]
  },
  {
   "cell_type": "markdown",
   "id": "4071527e-5167-4416-baaf-dc4ae92781af",
   "metadata": {},
   "source": [
    "# Preparing final dict with information about the film"
   ]
  },
  {
   "cell_type": "code",
   "execution_count": 34,
   "id": "a9f3b23a-f25a-4a7f-8860-a3359db70cb3",
   "metadata": {},
   "outputs": [
    {
     "name": "stdout",
     "output_type": "stream",
     "text": [
      "{'id': 339,\n",
      " 'Бюджет': '$18 000 000',\n",
      " 'Возраст': '12+',\n",
      " 'Время': '115 мин. / 01:55',\n",
      " 'Год производства': '1981',\n",
      " 'Жанр': 'приключения, боевик, комедия',\n",
      " 'Зрители': '88.1 млн , 6.4 млн , 4.2 млн , ...',\n",
      " 'Количество оценок IMDb': '938 581 оценка',\n",
      " 'Количество оценок кинопоиска': '142 538 оценок',\n",
      " 'Композитор': 'Джон Уильямс',\n",
      " 'Монтаж': 'Майкл Кан, Джордж Лукас',\n",
      " 'Название': 'Индиана Джонс: В поисках утраченного ковчега (1981)',\n",
      " 'Оператор': 'Дуглас Слоком',\n",
      " 'Оргинальное название': 'Raiders of the Lost Ark',\n",
      " 'Премьера в мире': '12 июня 1981, ...',\n",
      " 'Продюсер': 'Ховард Дж. Казанян, Джордж Лукас, Фрэнк Маршалл, ...',\n",
      " 'Режиссер': 'Стивен Спилберг',\n",
      " 'Рейтинг IMDb': 'IMDb: 8.40',\n",
      " 'Рейтинг MPAA': 'PGрекомендуется присутствие родителей',\n",
      " 'Рейтинг кинопоиска': '8.0',\n",
      " 'Релиз на DVD': '20 ноября 2003, «Premier Digital»',\n",
      " 'Сборы в США': '$212 222 025',\n",
      " 'Сборы в мире': '+ $141 766 000 = $353 988 025',\n",
      " 'Слоган': '«Indiana Jones - the new hero from the creators of JAWS and STAR WARS»',\n",
      " 'Страна': 'США',\n",
      " 'Сценарий': 'Лоуренс Кэздан, Джордж Лукас, Филип Кауфман',\n",
      " 'Художник': 'Норман Рейнольдс, Айвор Лесли Дилли, Дебора Нэдулмэн, ...'}\n"
     ]
    }
   ],
   "source": [
    "movie_dict = {**movie_id_dict, **movie_name_dict, **movie_info_dict, **movie_rating_dict}\n",
    "pp.pprint(movie_dict)"
   ]
  },
  {
   "cell_type": "markdown",
   "id": "a6d03b23-fe47-4336-9517-9417b74c1af2",
   "metadata": {},
   "source": [
    "# Parsing page with reviews"
   ]
  },
  {
   "cell_type": "markdown",
   "id": "a855c867-ca52-41f9-ac13-4004c4ecc0f9",
   "metadata": {},
   "source": [
    "## Getting the code for the page with movie"
   ]
  },
  {
   "cell_type": "code",
   "execution_count": 3,
   "id": "06055d2d-4205-4ca3-aa1d-7bc2244a401b",
   "metadata": {},
   "outputs": [],
   "source": [
    "# f = requests.get(\"https://www.kinopoisk.ru/film/339/reviews/\")"
   ]
  },
  {
   "cell_type": "markdown",
   "id": "7d5389a5-dbc4-4407-a5d0-740737a4af14",
   "metadata": {},
   "source": [
    "## Getting the code from the downloaded page"
   ]
  },
  {
   "cell_type": "code",
   "execution_count": 35,
   "id": "0458322a-2855-46ae-8d17-eaf655539bea",
   "metadata": {},
   "outputs": [],
   "source": [
    "path_reviews = \"./data/indiana_reviews.html\"\n",
    "with open(path_reviews, 'r', encoding=\"utf-8\") as f:\n",
    "    indiana_reviews = f.read()"
   ]
  },
  {
   "cell_type": "markdown",
   "id": "7b21c2ea-09d6-434c-b9b1-f4fa791add78",
   "metadata": {},
   "source": [
    "Passing the code into the `BeautifulSoup` constructor"
   ]
  },
  {
   "cell_type": "code",
   "execution_count": 36,
   "id": "b1994634-1a1e-451c-98dc-c06aab45a7b8",
   "metadata": {},
   "outputs": [],
   "source": [
    "soup_reviews = BeautifulSoup(indiana_reviews, \"html.parser\")"
   ]
  },
  {
   "cell_type": "code",
   "execution_count": 37,
   "id": "8f0cb6bc-7307-4bf8-afeb-24f068d86104",
   "metadata": {},
   "outputs": [],
   "source": [
    "reviews_dict = {}"
   ]
  },
  {
   "cell_type": "markdown",
   "id": "c6736e94-bc0d-4755-bf8b-0f74bbc16146",
   "metadata": {},
   "source": [
    "## Parsing movie's id"
   ]
  },
  {
   "cell_type": "code",
   "execution_count": 47,
   "id": "eaedeedd-0005-4a34-b4c0-47e8ddad6a9d",
   "metadata": {},
   "outputs": [],
   "source": [
    "reviews_id_dict = {}"
   ]
  },
  {
   "cell_type": "code",
   "execution_count": 48,
   "id": "60970c2b-4693-4ec6-8216-98e09152216a",
   "metadata": {},
   "outputs": [],
   "source": [
    "film_id = soup_reviews.find_all(\"link\", attrs={\"href\": re.compile(\"https://www.kinopoisk.ru/film/\")})[0]"
   ]
  },
  {
   "cell_type": "code",
   "execution_count": 49,
   "id": "d302a59d-2064-4cb3-82e6-7f838019a979",
   "metadata": {},
   "outputs": [],
   "source": [
    "film_id = film_id[\"href\"].split(\"/\")[-3]"
   ]
  },
  {
   "cell_type": "code",
   "execution_count": 51,
   "id": "2e868514-4c8a-40ae-a83f-4727708bae39",
   "metadata": {},
   "outputs": [
    {
     "data": {
      "text/plain": [
       "{'id': 339}"
      ]
     },
     "execution_count": 51,
     "metadata": {},
     "output_type": "execute_result"
    }
   ],
   "source": [
    "reviews_id_dict[\"id\"] = int(film_id)\n",
    "reviews_id_dict"
   ]
  },
  {
   "cell_type": "markdown",
   "id": "63e7f227-f576-4497-882d-8cbad3322541",
   "metadata": {},
   "source": [
    "## Parsing reviews"
   ]
  },
  {
   "cell_type": "code",
   "execution_count": 53,
   "id": "491f92e1-07a0-4c59-afe8-3d75e0a37e1c",
   "metadata": {},
   "outputs": [],
   "source": [
    "reviews = soup_reviews.find_all(\"div\", attrs={\"class\": \"reviewItem userReview\"})"
   ]
  },
  {
   "cell_type": "code",
   "execution_count": 54,
   "id": "17a4144f-49d3-47c0-b963-ad45c7e05111",
   "metadata": {},
   "outputs": [
    {
     "data": {
      "text/plain": [
       "<div class=\"reviewItem userReview\" data-id=\"3128202\" id=\"_DRAGGABLE_3128202\" style=\"width: 555px; position: relative; padding: 1px 0 40px 0\">\n",
       "<div id=\"3128202\"></div>\n",
       "<div class=\"response good\" id=\"div_review_3128202\" itemprop=\"reviews\" itemscope=\"\" itemtype=\"http://schema.org/Review\">\n",
       "<meta content=\"Знакомство с Индианой Джонс в 2022.\" itemprop=\"headline\"/>\n",
       "<div itemprop=\"author\" itemscope=\"\" itemtype=\"http://schema.org/Person\">\n",
       "<img alt=\"\" data-lazy-src=\"https://avatars.mds.yandex.net/get-kino-vod-users-avatar/57335/63366919-43-695797.jpg/46x73_bw\" itemprop=\"image\" src=\"https://st.kp.yandex.net/images/spacer.gif\" title=\"\" width=\"46\"/>\n",
       "<div>\n",
       "<p class=\"profile_name\"><s></s><a data-popup-info=\"disabled\" href=\"/user/63366919/\" itemprop=\"name\">komisar.jeber</a></p>\n",
       "<ul class=\"actions\">\n",
       "<li class=\"first\"><a href=\"/user/63366919/comments/\">рецензии</a></li>\n",
       "<li><a href=\"/user/63366919/votes/\">оценки</a></li>\n",
       "<li><a href=\"/user/63366919/friends/\">друзья</a></li>\n",
       "<li><a href=\"/user/63366919/movies/\">фильмы</a></li>\n",
       "<li><a href=\"/user/63366919/stars/\">звёзды</a></li>\n",
       "</ul>\n",
       "<p class=\"sub_title\" id=\"ext_title_3128202\">Знакомство с Индианой Джонс в 2022.</p>\n",
       "</div>\n",
       "</div>\n",
       "<table>\n",
       "<tbody>\n",
       "<tr>\n",
       "<td>\n",
       "<div class=\"brand_words\" onmousedown=\"clearSelect(3128202)\" onmouseup=\"getSelect(3128202)\">\n",
       "<p id=\"ext_text_3128202\"><span class=\"_reachbanner_\" itemprop=\"reviewBody\">Спустя более 40 лет после выхода данного фильма я впервые его посмотрел. Ранее видел множество фрагментов из него и кучу отсылок. Так каково же это - впервые посмотреть приключения Индианы Джонс в 2022 году?<br/>\n",
       "<br/>\n",
       "Даже спустя 41 год после премьеры, фильм смотрится довольно прилично. Главные его достоинства это экшен и главный герой, хотя искушенному кинолюбителю этого может показаться мало. Фильм смотрится практически на одном дыхании. Экшен изобретательный и снят отлично, а для 81 года просто невообразимо. Его в фильме более чем достаточно, иногда от него даже можно устать, хоть кино и динамичное.<br/>\n",
       "<br/>\n",
       "Сам Индиана Джонс в исполнении Харисона Форда получился то что надо, однако на сегодняшний день он выглядит весьма типично и подобных персонажей в кинохронике уже немало.  Все же это не умаляет заслуг создателей и актер в этой роли смотрится превосходно. Кого-то другого на его месте представить сложно.<br/>\n",
       "<br/>\n",
       "Отдельно хочется выделить Карен Ален и ее персонажа в частности. Для стандартной девушки в беде смотрится очень органично и практически никогда не раздражает, персонаж вышел живым и несмотря на заранее уготованную участь вполне самостоятельным и инициативным.<br/>\n",
       "<br/>\n",
       "Теперь о недостатках. Основные из них это главный злодей, реализм и логика сюжета в некоторых местах. Если второе и третье достаточно привычно видеть практически в любом боевике или приключенческом фильме, и вопросы 'Как? Зачем? Почему? Какой в этом смысл?' тут лучше не задавать.<br/>\n",
       "<br/>\n",
       "Антагонист. Вот он-то получился совсем никакой - незапоминающийся, непугающий, не внушающий интриги и даже неинтересный, актер выбран странно и вызывает скорее смех.<br/>\n",
       "<br/>\n",
       "В целом фильм рекомендовал бы тем кто хочет поностальгировать и ознакомиться с культурным наследием кинематографа. Современный искушенный киноман вряд ли найдет для себя что-то новое.<br/>\n",
       "<br/>\n",
       "7 из 10</span></p>\n",
       "</div>\n",
       "</td>\n",
       "</tr>\n",
       "</tbody>\n",
       "</table>\n",
       "<p class=\"links\">\n",
       "<a href=\"/user/63366919/comment/3128202/\">прямая ссылка</a>\n",
       "<span class=\"commentsNumReview one_review\"><a href=\"/user/63366919/comment/3128202/#comm0\"><s></s><b>+ комментарий</b><i>добавить комментарий</i></a></span>\n",
       "</p>\n",
       "<ul class=\"useful\">\n",
       "<li>Полезная рецензия?\n",
       "                <a class=\"mod\" href=\"#\" onclick=\"OpenSpoiler(3128202); return false;\"><s>пожаловаться на </s>спойлер?</a>\n",
       "</li>\n",
       "<li class=\"answer\">\n",
       "<a class=\"vote\" href=\"#\" id=\"vote_link_ok_3128202\" onclick=\"setCommentVote('3128202', 'ok', '63366919', '339'); return false\">Да</a>\n",
       "                / <a class=\"vote\" href=\"#\" id=\"vote_link_no_3128202\" onclick=\"setCommentVote('3128202', 'no', '63366919', '339'); return false\">Нет</a>\n",
       "</li>\n",
       "<li id=\"comment_num_vote_3128202\">1 / 0</li>\n",
       "</ul>\n",
       "<i class=\"ajax_bottom\" id=\"comment_num_vote_3128202_note\"></i>\n",
       "<span class=\"date\">23 февраля 2022 | 15:18</span>\n",
       "<ul class=\"voter\">\n",
       "<li>тип рецензии:</li>\n",
       "<li id=\"li_good_3128202\"><span class=\"yes\" title=\"положительная рецензия\"></span></li>\n",
       "<li id=\"li_good_3128202_a\" style=\"display: none\"><a class=\"yes\" href=\"#\" onclick=\"change_review_status(3128202, 'good'); return false;\" title=\"положительная рецензия\"></a></li>\n",
       "<li id=\"li_bad_3128202_a\"><a class=\"no\" href=\"#\" onclick=\"change_review_status(3128202, 'bad'); return false;\" title=\"отрицательная рецензия\"></a></li>\n",
       "<li id=\"li_bad_3128202\" style=\"display: none\"><span class=\"no\" title=\"отрицательная рецензия\"></span></li>\n",
       "<li class=\"nomargin\" id=\"li_neutral_3128202_a\"><a class=\"neutral\" href=\"#\" onclick=\"change_review_status(3128202, 'neutral'); return false;\" title=\"нейтральная рецензия\"></a></li>\n",
       "<li class=\"nomargin\" id=\"li_neutral_3128202\" style=\"display: none\"><span class=\"neutral\" title=\"нейтральная рецензия\"></span></li>\n",
       "</ul>\n",
       "<i class=\"ajax\" id=\"change_status_ajax_star_3128202\"></i>\n",
       "<strike></strike> </div>\n",
       "<div class=\"signer signer_edit\" id=\"spoiler_txt_3128202\">\n",
       "<textarea id=\"spoiler_textarea_3128202\"></textarea>\n",
       "<input class=\"save\" onclick=\"VoteSpoiler(3128202)\" type=\"button\" value=\"отправить\"/>\n",
       "<input class=\"close\" onclick=\"CloseSpoiler(3128202)\" type=\"button\" value=\"закрыть\"/>\n",
       "<a href=\"#\" onclick=\"CloseSpoiler(3128202); return false;\"></a>\n",
       "</div>\n",
       "</div>"
      ]
     },
     "execution_count": 54,
     "metadata": {},
     "output_type": "execute_result"
    }
   ],
   "source": [
    "reviews[0]"
   ]
  },
  {
   "cell_type": "code",
   "execution_count": null,
   "id": "aa55a556-7670-4bda-8b7b-02d4638f5466",
   "metadata": {},
   "outputs": [],
   "source": []
  }
 ],
 "metadata": {
  "kernelspec": {
   "display_name": "movie_reviews",
   "language": "python",
   "name": "movie_reviews"
  },
  "language_info": {
   "codemirror_mode": {
    "name": "ipython",
    "version": 3
   },
   "file_extension": ".py",
   "mimetype": "text/x-python",
   "name": "python",
   "nbconvert_exporter": "python",
   "pygments_lexer": "ipython3",
   "version": "3.8.10"
  }
 },
 "nbformat": 4,
 "nbformat_minor": 5
}
