{
 "cells": [
  {
   "cell_type": "markdown",
   "id": "59dbf9ed-20b0-464a-bc32-e72c17d9e00f",
   "metadata": {},
   "source": [
    "# Importing needed packages"
   ]
  },
  {
   "cell_type": "code",
   "execution_count": 1,
   "id": "093e083e-6355-4536-91b3-d32415417fed",
   "metadata": {},
   "outputs": [],
   "source": [
    "import re\n",
    "from bs4 import BeautifulSoup"
   ]
  },
  {
   "cell_type": "markdown",
   "id": "98d88211-3bb7-40ad-a661-8f09eaf6281d",
   "metadata": {},
   "source": [
    "## Getting the code from the downloaded page"
   ]
  },
  {
   "cell_type": "code",
   "execution_count": 2,
   "id": "cdf539fd-7639-4152-bb51-c89a1f6388a7",
   "metadata": {},
   "outputs": [],
   "source": [
    "page = 6"
   ]
  },
  {
   "cell_type": "code",
   "execution_count": 3,
   "id": "662ad10c-47a7-4636-8165-a2b341f89766",
   "metadata": {},
   "outputs": [],
   "source": [
    "pop_films_path = f\"../film_catalog/Популярные фильмы — Кинопоиск {page}.html\"\n",
    "with open(pop_films_path, \"r\", encoding=\"utf-8\") as f:\n",
    "    pop_films = f.read()"
   ]
  },
  {
   "cell_type": "markdown",
   "id": "780641bc-af3a-4c5d-8303-5780828c4092",
   "metadata": {},
   "source": [
    "Passing the code into the `BeautifulSoup` constructor"
   ]
  },
  {
   "cell_type": "code",
   "execution_count": 4,
   "id": "8b78bdab-3826-459b-a36c-c5b99f8fc846",
   "metadata": {},
   "outputs": [],
   "source": [
    "soup_pop = BeautifulSoup(pop_films, \"html.parser\")"
   ]
  },
  {
   "cell_type": "code",
   "execution_count": 5,
   "id": "1f129ad4-584a-4089-879a-166a8fe25f99",
   "metadata": {},
   "outputs": [],
   "source": [
    "s = soup_pop.find_all(\"a\", attrs={\"class\": re.compile(\"base-movie-main-info_link\")})"
   ]
  },
  {
   "cell_type": "code",
   "execution_count": 6,
   "id": "aa8fe9cf-e038-40dc-862f-8129ad263a0a",
   "metadata": {},
   "outputs": [
    {
     "name": "stdout",
     "output_type": "stream",
     "text": [
      "251 https://www.kinopoisk.ru/film/1045583/ Конёк-Горбунок\n",
      "252 https://www.kinopoisk.ru/film/841081/ Ла-Ла Ленд\n",
      "253 https://www.kinopoisk.ru/film/824437/ Меч короля Артура\n",
      "254 https://www.kinopoisk.ru/film/575613/ Бегущий в лабиринте\n",
      "255 https://www.kinopoisk.ru/film/1183599/ Огонь\n",
      "256 https://www.kinopoisk.ru/film/1991/ Привидение\n",
      "257 https://www.kinopoisk.ru/film/5273/ Шрэк 2\n",
      "258 https://www.kinopoisk.ru/film/399/ Храброе сердце\n",
      "259 https://www.kinopoisk.ru/film/468466/ Гравитация\n",
      "260 https://www.kinopoisk.ru/film/471/ Крепкий орешек\n",
      "261 https://www.kinopoisk.ru/film/714888/ Звёздные войны: Пробуждение силы\n",
      "262 https://www.kinopoisk.ru/film/394/ Бешеные псы\n",
      "263 https://www.kinopoisk.ru/film/5059/ Знакомьтесь, Джо Блэк\n",
      "264 https://www.kinopoisk.ru/film/522876/ Век Адалин\n",
      "265 https://www.kinopoisk.ru/film/309/ Эквилибриум\n",
      "266 https://www.kinopoisk.ru/film/464484/ Облачный атлас\n",
      "267 https://www.kinopoisk.ru/film/4871/ Запах женщины\n",
      "268 https://www.kinopoisk.ru/film/467293/ Грязь\n",
      "269 https://www.kinopoisk.ru/film/252641/ Хранители\n",
      "270 https://www.kinopoisk.ru/film/470553/ Прислуга\n",
      "271 https://www.kinopoisk.ru/film/432724/ Гадкий я\n",
      "272 https://www.kinopoisk.ru/film/6034/ Невероятная жизнь Уолтера Митти\n",
      "273 https://www.kinopoisk.ru/film/427855/ Пол: Секретный материальчик\n",
      "274 https://www.kinopoisk.ru/film/844/ Звёздные войны: Эпизод 2 — Атака клонов\n",
      "275 https://www.kinopoisk.ru/film/468102/ О чём говорят мужчины\n",
      "276 https://www.kinopoisk.ru/film/386/ Чужой\n",
      "277 https://www.kinopoisk.ru/film/462358/ Люди Икс: Первый класс\n",
      "278 https://www.kinopoisk.ru/film/2717/ Убить Билла\n",
      "279 https://www.kinopoisk.ru/film/546915/ Тихоокеанский рубеж\n",
      "280 https://www.kinopoisk.ru/film/257898/ Стрелок\n",
      "281 https://www.kinopoisk.ru/film/555/ Большой Лебовски\n",
      "282 https://www.kinopoisk.ru/film/693126/ Город героев\n",
      "283 https://www.kinopoisk.ru/film/959365/ Невидимый гость\n",
      "284 https://www.kinopoisk.ru/film/276295/ Залечь на дно в Брюгге\n",
      "285 https://www.kinopoisk.ru/film/232785/ Господин Никто\n",
      "286 https://www.kinopoisk.ru/film/462059/ Круиз по джунглям\n",
      "287 https://www.kinopoisk.ru/film/77443/ Город грехов\n",
      "288 https://www.kinopoisk.ru/film/104904/ Люди Икс: Начало. Росомаха\n",
      "289 https://www.kinopoisk.ru/film/817969/ Убийство в Восточном экспрессе\n",
      "290 https://www.kinopoisk.ru/film/84830/ Жмурки\n",
      "291 https://www.kinopoisk.ru/film/252667/ Человек из стали\n",
      "292 https://www.kinopoisk.ru/film/450213/ Невидимая сторона\n",
      "293 https://www.kinopoisk.ru/film/666/ Форсаж\n",
      "294 https://www.kinopoisk.ru/film/409372/ 500 дней лета\n",
      "295 https://www.kinopoisk.ru/film/81924/ 300 спартанцев\n",
      "296 https://www.kinopoisk.ru/film/81297/ Малышка на миллион\n",
      "297 https://www.kinopoisk.ru/film/48162/ Хроники Нарнии: Лев, колдунья и волшебный шкаф\n",
      "298 https://www.kinopoisk.ru/film/635772/ Игра в имитацию\n",
      "299 https://www.kinopoisk.ru/film/491724/ Девушка с татуировкой дракона\n",
      "300 https://www.kinopoisk.ru/film/841152/ Славные парни\n"
     ]
    }
   ],
   "source": [
    "for i, film in enumerate(s):\n",
    "    half_link = BeautifulSoup(str(film)).find(\"a\", href=True)[\"href\"]\n",
    "    link = f\"https://www.kinopoisk.ru{half_link}\"\n",
    "    name = (\n",
    "        BeautifulSoup(str(film))\n",
    "        .find(\"span\", attrs={\"class\": re.compile(\"styles_mainTitle\")})\n",
    "        .get_text()\n",
    "    )\n",
    "    print(i + 50 * (page - 1) + 1, link, name)"
   ]
  },
  {
   "cell_type": "code",
   "execution_count": null,
   "id": "2172980d-95fe-482f-8a23-7034427e5815",
   "metadata": {},
   "outputs": [],
   "source": []
  }
 ],
 "metadata": {
  "kernelspec": {
   "display_name": "movie_reviews",
   "language": "python",
   "name": "movie_reviews"
  },
  "language_info": {
   "codemirror_mode": {
    "name": "ipython",
    "version": 3
   },
   "file_extension": ".py",
   "mimetype": "text/x-python",
   "name": "python",
   "nbconvert_exporter": "python",
   "pygments_lexer": "ipython3",
   "version": "3.8.10"
  }
 },
 "nbformat": 4,
 "nbformat_minor": 5
}
