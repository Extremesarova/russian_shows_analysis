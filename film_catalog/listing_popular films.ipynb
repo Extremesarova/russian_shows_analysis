{
 "cells": [
  {
   "cell_type": "markdown",
   "id": "59dbf9ed-20b0-464a-bc32-e72c17d9e00f",
   "metadata": {},
   "source": [
    "# Importing needed packages"
   ]
  },
  {
   "cell_type": "code",
   "execution_count": 1,
   "id": "093e083e-6355-4536-91b3-d32415417fed",
   "metadata": {},
   "outputs": [],
   "source": [
    "import pprint\n",
    "import re\n",
    "import unicodedata\n",
    "\n",
    "import pandas as pd\n",
    "import requests\n",
    "from bs4 import BeautifulSoup"
   ]
  },
  {
   "cell_type": "markdown",
   "id": "98d88211-3bb7-40ad-a661-8f09eaf6281d",
   "metadata": {},
   "source": [
    "## Getting the code from the downloaded page"
   ]
  },
  {
   "cell_type": "code",
   "execution_count": 2,
   "id": "cdf539fd-7639-4152-bb51-c89a1f6388a7",
   "metadata": {},
   "outputs": [],
   "source": [
    "page = 5"
   ]
  },
  {
   "cell_type": "code",
   "execution_count": 3,
   "id": "662ad10c-47a7-4636-8165-a2b341f89766",
   "metadata": {},
   "outputs": [],
   "source": [
    "pop_films_path = f\"./film_catalog/Популярные фильмы — Кинопоиск {page}.html\"\n",
    "with open(pop_films_path, \"r\", encoding=\"utf-8\") as f:\n",
    "    pop_films = f.read()"
   ]
  },
  {
   "cell_type": "markdown",
   "id": "780641bc-af3a-4c5d-8303-5780828c4092",
   "metadata": {},
   "source": [
    "Passing the code into the `BeautifulSoup` constructor"
   ]
  },
  {
   "cell_type": "code",
   "execution_count": 4,
   "id": "8b78bdab-3826-459b-a36c-c5b99f8fc846",
   "metadata": {},
   "outputs": [],
   "source": [
    "soup_pop = BeautifulSoup(pop_films, \"html.parser\")"
   ]
  },
  {
   "cell_type": "code",
   "execution_count": 5,
   "id": "1f129ad4-584a-4089-879a-166a8fe25f99",
   "metadata": {},
   "outputs": [],
   "source": [
    "s = soup_pop.find_all(\"a\", attrs={\"class\": re.compile(\"base-movie-main-info_link\")})"
   ]
  },
  {
   "cell_type": "code",
   "execution_count": 6,
   "id": "aa8fe9cf-e038-40dc-862f-8129ad263a0a",
   "metadata": {},
   "outputs": [
    {
     "name": "stdout",
     "output_type": "stream",
     "text": [
      "201 https://www.kinopoisk.ru/film/6695/ Звёздные войны: Эпизод 1 — Скрытая угроза\n",
      "202 https://www.kinopoisk.ru/film/840817/ Движение вверх\n",
      "203 https://www.kinopoisk.ru/film/677893/ Стажёр\n",
      "204 https://www.kinopoisk.ru/film/395/ Шестое чувство\n",
      "205 https://www.kinopoisk.ru/film/424266/ Книга Илая\n",
      "206 https://www.kinopoisk.ru/film/676266/ Первый мститель: Другая война\n",
      "207 https://www.kinopoisk.ru/film/391772/ Всегда говори «ДА»\n",
      "208 https://www.kinopoisk.ru/film/63912/ Укрощение строптивого\n",
      "209 https://www.kinopoisk.ru/film/427198/ Социальная сеть\n",
      "210 https://www.kinopoisk.ru/film/461939/ Линкольн для адвоката\n",
      "211 https://www.kinopoisk.ru/film/575180/ Пираты Карибского моря: Мертвецы не рассказывают сказки\n",
      "212 https://www.kinopoisk.ru/film/519/ Человек дождя\n",
      "213 https://www.kinopoisk.ru/film/355/ Пианист\n",
      "214 https://www.kinopoisk.ru/film/408410/ Гран Торино\n",
      "215 https://www.kinopoisk.ru/film/278273/ Чёрный лебедь\n",
      "216 https://www.kinopoisk.ru/film/485311/ Король говорит!\n",
      "217 https://www.kinopoisk.ru/film/405609/ Алиса в Стране чудес\n",
      "218 https://www.kinopoisk.ru/film/103734/ Кунг-фу Панда\n",
      "219 https://www.kinopoisk.ru/film/341/ Амели\n",
      "220 https://www.kinopoisk.ru/film/718811/ Прибытие\n",
      "221 https://www.kinopoisk.ru/film/930534/ Сплит\n",
      "222 https://www.kinopoisk.ru/film/278217/ Новый Человек-паук\n",
      "223 https://www.kinopoisk.ru/film/3563/ Трасса 60\n",
      "224 https://www.kinopoisk.ru/film/1309570/ Человек-паук: Нет пути домой\n",
      "225 https://www.kinopoisk.ru/film/3442/ Троя\n",
      "226 https://www.kinopoisk.ru/film/8125/ Красотка\n",
      "227 https://www.kinopoisk.ru/film/582170/ Мы — Миллеры\n",
      "228 https://www.kinopoisk.ru/film/1445143/ Мажор. Фильм\n",
      "229 https://www.kinopoisk.ru/film/1009784/ Апгрейд\n",
      "230 https://www.kinopoisk.ru/film/4419497/ Три богатыря и Конь на троне\n",
      "231 https://www.kinopoisk.ru/film/82441/ Человек-паук 3: Враг в отражении\n",
      "232 https://www.kinopoisk.ru/film/333/ Звёздные войны: Эпизод 4 — Новая надежда\n",
      "233 https://www.kinopoisk.ru/film/1368311/ Черный ящик\n",
      "234 https://www.kinopoisk.ru/film/843479/ Фантастические твари: Преступления Грин-де-Вальда\n",
      "235 https://www.kinopoisk.ru/film/507/ Терминатор\n",
      "236 https://www.kinopoisk.ru/film/903831/ Холодное сердце 2\n",
      "237 https://www.kinopoisk.ru/film/427122/ Добро пожаловать в Zомбилэнд\n",
      "238 https://www.kinopoisk.ru/film/77335/ Собачье сердце\n",
      "239 https://www.kinopoisk.ru/film/2898/ Человек-паук 2\n",
      "240 https://www.kinopoisk.ru/film/371/ Спасти рядового Райана\n",
      "241 https://www.kinopoisk.ru/film/467099/ Прометей\n",
      "242 https://www.kinopoisk.ru/film/507817/ Третий лишний\n",
      "243 https://www.kinopoisk.ru/film/378140/ Рок-н-рольщик\n",
      "244 https://www.kinopoisk.ru/film/281251/ Мальчик в полосатой пижаме\n",
      "245 https://www.kinopoisk.ru/film/14349/ Такси\n",
      "246 https://www.kinopoisk.ru/film/597687/ Люди Икс: Дни минувшего будущего\n",
      "247 https://www.kinopoisk.ru/film/1044906/ Тихое место\n",
      "248 https://www.kinopoisk.ru/film/823956/ Чёрная Вдова\n",
      "249 https://www.kinopoisk.ru/film/276598/ Драйв\n",
      "250 https://www.kinopoisk.ru/film/3491/ Ван Хельсинг\n"
     ]
    }
   ],
   "source": [
    "for i, film in enumerate(s):\n",
    "    half_link = BeautifulSoup(str(film)).find(\"a\", href=True)[\"href\"]\n",
    "    link = f\"https://www.kinopoisk.ru{half_link}\"\n",
    "    name = (\n",
    "        BeautifulSoup(str(film))\n",
    "        .find(\"span\", attrs={\"class\": re.compile(\"styles_mainTitle\")})\n",
    "        .get_text()\n",
    "    )\n",
    "    print(i + 50 * (page - 1) + 1, link, name)"
   ]
  },
  {
   "cell_type": "code",
   "execution_count": null,
   "id": "2172980d-95fe-482f-8a23-7034427e5815",
   "metadata": {},
   "outputs": [],
   "source": []
  }
 ],
 "metadata": {
  "kernelspec": {
   "display_name": "movie_reviews",
   "language": "python",
   "name": "movie_reviews"
  },
  "language_info": {
   "codemirror_mode": {
    "name": "ipython",
    "version": 3
   },
   "file_extension": ".py",
   "mimetype": "text/x-python",
   "name": "python",
   "nbconvert_exporter": "python",
   "pygments_lexer": "ipython3",
   "version": "3.8.10"
  }
 },
 "nbformat": 4,
 "nbformat_minor": 5
}
