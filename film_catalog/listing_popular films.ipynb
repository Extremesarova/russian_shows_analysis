{
 "cells": [
  {
   "cell_type": "markdown",
   "id": "59dbf9ed-20b0-464a-bc32-e72c17d9e00f",
   "metadata": {},
   "source": [
    "# Importing needed packages"
   ]
  },
  {
   "cell_type": "code",
   "execution_count": 1,
   "id": "093e083e-6355-4536-91b3-d32415417fed",
   "metadata": {},
   "outputs": [],
   "source": [
    "import re\n",
    "from bs4 import BeautifulSoup"
   ]
  },
  {
   "cell_type": "markdown",
   "id": "98d88211-3bb7-40ad-a661-8f09eaf6281d",
   "metadata": {},
   "source": [
    "## Getting the code from the downloaded page"
   ]
  },
  {
   "cell_type": "code",
   "execution_count": 2,
   "id": "cdf539fd-7639-4152-bb51-c89a1f6388a7",
   "metadata": {},
   "outputs": [],
   "source": [
    "page = 9"
   ]
  },
  {
   "cell_type": "code",
   "execution_count": 3,
   "id": "662ad10c-47a7-4636-8165-a2b341f89766",
   "metadata": {},
   "outputs": [],
   "source": [
    "pop_films_path = f\"../film_catalog/Популярные фильмы — Кинопоиск {page}.html\"\n",
    "with open(pop_films_path, \"r\", encoding=\"utf-8\") as f:\n",
    "    pop_films = f.read()"
   ]
  },
  {
   "cell_type": "markdown",
   "id": "780641bc-af3a-4c5d-8303-5780828c4092",
   "metadata": {},
   "source": [
    "Passing the code into the `BeautifulSoup` constructor"
   ]
  },
  {
   "cell_type": "code",
   "execution_count": 4,
   "id": "8b78bdab-3826-459b-a36c-c5b99f8fc846",
   "metadata": {},
   "outputs": [],
   "source": [
    "soup_pop = BeautifulSoup(pop_films, \"html.parser\")"
   ]
  },
  {
   "cell_type": "code",
   "execution_count": 5,
   "id": "1f129ad4-584a-4089-879a-166a8fe25f99",
   "metadata": {},
   "outputs": [],
   "source": [
    "s = soup_pop.find_all(\"a\", attrs={\"class\": re.compile(\"base-movie-main-info_link\")})"
   ]
  },
  {
   "cell_type": "code",
   "execution_count": 6,
   "id": "aa8fe9cf-e038-40dc-862f-8129ad263a0a",
   "metadata": {},
   "outputs": [
    {
     "name": "stdout",
     "output_type": "stream",
     "text": [
      "401 https://www.kinopoisk.ru/film/160977/ Апокалипсис\n",
      "402 https://www.kinopoisk.ru/film/1111004/ Хищные птицы: Потрясающая история Харли Квинн\n",
      "403 https://www.kinopoisk.ru/film/8221/ Мой сосед Тоторо\n",
      "404 https://www.kinopoisk.ru/film/515/ На игле\n",
      "405 https://www.kinopoisk.ru/film/403/ Бегущий по лезвию\n",
      "406 https://www.kinopoisk.ru/film/1047143/ Ничего хорошего в отеле «Эль Рояль»\n",
      "407 https://www.kinopoisk.ru/film/893245/ Основатель\n",
      "408 https://www.kinopoisk.ru/film/49844/ Казино Рояль\n",
      "409 https://www.kinopoisk.ru/film/1405968/ Летчик\n",
      "410 https://www.kinopoisk.ru/film/910353/ Выстрел в пустоту\n",
      "411 https://www.kinopoisk.ru/film/1171976/ 1917\n",
      "412 https://www.kinopoisk.ru/film/778218/ Хардкор\n",
      "413 https://www.kinopoisk.ru/film/1134778/ Платформа\n",
      "414 https://www.kinopoisk.ru/film/392930/ Ледниковый период 3: Эра динозавров\n",
      "415 https://www.kinopoisk.ru/film/965754/ Дело храбрых\n",
      "416 https://www.kinopoisk.ru/film/894027/ Форсаж 8\n",
      "417 https://www.kinopoisk.ru/film/1060511/ Зов предков\n",
      "418 https://www.kinopoisk.ru/film/1395801/ Лука\n",
      "419 https://www.kinopoisk.ru/film/925669/ Идеальные незнакомцы\n",
      "420 https://www.kinopoisk.ru/film/461972/ Самый пьяный округ в мире\n",
      "421 https://www.kinopoisk.ru/film/958442/ Ветреная река\n",
      "422 https://www.kinopoisk.ru/film/78871/ Сайлент Хилл\n",
      "423 https://www.kinopoisk.ru/film/18973/ Револьвер\n",
      "424 https://www.kinopoisk.ru/film/931677/ Дюнкерк\n",
      "425 https://www.kinopoisk.ru/film/1080513/ Вперёд\n",
      "426 https://www.kinopoisk.ru/film/432725/ Муви 43\n",
      "427 https://www.kinopoisk.ru/film/418/ Цельнометаллическая оболочка\n",
      "428 https://www.kinopoisk.ru/film/51319/ Милые кости\n",
      "429 https://www.kinopoisk.ru/film/542581/ Неадекватные люди\n",
      "430 https://www.kinopoisk.ru/film/1248786/ Аферистка\n",
      "431 https://www.kinopoisk.ru/film/406671/ Луна 2112\n",
      "432 https://www.kinopoisk.ru/film/1338480/ Не смотрите наверх\n",
      "433 https://www.kinopoisk.ru/film/807339/ Маленькие женщины\n",
      "434 https://www.kinopoisk.ru/film/880/ Чего хотят женщины\n",
      "435 https://www.kinopoisk.ru/film/1721/ Лжец, лжец\n",
      "436 https://www.kinopoisk.ru/film/571892/ Королевство полной луны\n",
      "437 https://www.kinopoisk.ru/film/86204/ Ледниковый период 2: Глобальное потепление\n",
      "438 https://www.kinopoisk.ru/film/782/ Заплати другому\n",
      "439 https://www.kinopoisk.ru/film/1238476/ Бесконечность\n",
      "440 https://www.kinopoisk.ru/film/977743/ Форма воды\n",
      "441 https://www.kinopoisk.ru/film/106079/ Тройной форсаж: Токийский дрифт\n",
      "442 https://www.kinopoisk.ru/film/2950/ Пробуждение\n",
      "443 https://www.kinopoisk.ru/film/77132/ Мемуары гейши\n",
      "444 https://www.kinopoisk.ru/film/1098154/ После\n",
      "445 https://www.kinopoisk.ru/film/942396/ Дом, который построил Джек\n",
      "446 https://www.kinopoisk.ru/film/495518/ Один день\n",
      "447 https://www.kinopoisk.ru/film/103733/ Лабиринт Фавна\n",
      "448 https://www.kinopoisk.ru/film/79850/ Ночной дозор\n",
      "449 https://www.kinopoisk.ru/film/1012431/ Люди Икс: Тёмный Феникс\n",
      "450 https://www.kinopoisk.ru/film/432791/ Человек, который изменил всё\n"
     ]
    }
   ],
   "source": [
    "for i, film in enumerate(s):\n",
    "    half_link = BeautifulSoup(str(film)).find(\"a\", href=True)[\"href\"]\n",
    "    link = f\"https://www.kinopoisk.ru{half_link}\"\n",
    "    name = (\n",
    "        BeautifulSoup(str(film))\n",
    "        .find(\"span\", attrs={\"class\": re.compile(\"styles_mainTitle\")})\n",
    "        .get_text()\n",
    "    )\n",
    "    print(i + 50 * (page - 1) + 1, link, name)"
   ]
  },
  {
   "cell_type": "code",
   "execution_count": null,
   "id": "2172980d-95fe-482f-8a23-7034427e5815",
   "metadata": {},
   "outputs": [],
   "source": []
  }
 ],
 "metadata": {
  "kernelspec": {
   "display_name": "movie_reviews",
   "language": "python",
   "name": "movie_reviews"
  },
  "language_info": {
   "codemirror_mode": {
    "name": "ipython",
    "version": 3
   },
   "file_extension": ".py",
   "mimetype": "text/x-python",
   "name": "python",
   "nbconvert_exporter": "python",
   "pygments_lexer": "ipython3",
   "version": "3.8.10"
  }
 },
 "nbformat": 4,
 "nbformat_minor": 5
}
